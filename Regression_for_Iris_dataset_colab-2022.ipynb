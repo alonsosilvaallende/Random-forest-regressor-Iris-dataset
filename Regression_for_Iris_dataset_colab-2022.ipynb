{
  "nbformat": 4,
  "nbformat_minor": 0,
  "metadata": {
    "kernelspec": {
      "display_name": "Python 3",
      "language": "python",
      "name": "python3"
    },
    "language_info": {
      "codemirror_mode": {
        "name": "ipython",
        "version": 3
      },
      "file_extension": ".py",
      "mimetype": "text/x-python",
      "name": "python",
      "nbconvert_exporter": "python",
      "pygments_lexer": "ipython3",
      "version": "3.8.2"
    },
    "colab": {
      "name": "Regression-for-Iris-dataset-colab.ipynb",
      "provenance": [],
      "collapsed_sections": [],
      "include_colab_link": true
    }
  },
  "cells": [
    {
      "cell_type": "markdown",
      "metadata": {
        "id": "view-in-github",
        "colab_type": "text"
      },
      "source": [
        "<a href=\"https://colab.research.google.com/github/alonsosilvaallende/Random-forest-regressor-Iris-dataset/blob/master/Regression_for_Iris_dataset_colab-2022.ipynb\" target=\"_parent\"><img src=\"https://colab.research.google.com/assets/colab-badge.svg\" alt=\"Open In Colab\"/></a>"
      ]
    },
    {
      "cell_type": "markdown",
      "metadata": {
        "id": "VCV1UZu-NTgr"
      },
      "source": [
        "# Regression for Iris dataset with 'sepal width' as the target"
      ]
    },
    {
      "cell_type": "code",
      "metadata": {
        "id": "vVdIF-vCOYWB",
        "colab": {
          "base_uri": "https://localhost:8080/",
          "height": 36
        },
        "outputId": "78087ba2-5201-44cf-f7c4-940b2d0de62e"
      },
      "source": [
        "import sklearn\n",
        "\n",
        "sklearn.__version__ "
      ],
      "execution_count": 1,
      "outputs": [
        {
          "output_type": "execute_result",
          "data": {
            "application/vnd.google.colaboratory.intrinsic+json": {
              "type": "string"
            },
            "text/plain": [
              "'1.0.2'"
            ]
          },
          "metadata": {},
          "execution_count": 1
        }
      ]
    },
    {
      "cell_type": "code",
      "metadata": {
        "id": "9ypieMc3NQ-M"
      },
      "source": [
        "import numpy as np\n",
        "import pandas as pd\n",
        "import matplotlib.pyplot as plt"
      ],
      "execution_count": 2,
      "outputs": []
    },
    {
      "cell_type": "code",
      "metadata": {
        "id": "-atdbdkNNQ-i"
      },
      "source": [
        "from sklearn.datasets import load_iris\n",
        "\n",
        "iris = load_iris()"
      ],
      "execution_count": 3,
      "outputs": []
    },
    {
      "cell_type": "code",
      "metadata": {
        "scrolled": false,
        "id": "o-LwD0hQNQ-4",
        "colab": {
          "base_uri": "https://localhost:8080/"
        },
        "outputId": "4d6c973b-06fe-4542-c9a2-6b824f332e91"
      },
      "source": [
        "print(iris.DESCR)"
      ],
      "execution_count": 4,
      "outputs": [
        {
          "output_type": "stream",
          "name": "stdout",
          "text": [
            ".. _iris_dataset:\n",
            "\n",
            "Iris plants dataset\n",
            "--------------------\n",
            "\n",
            "**Data Set Characteristics:**\n",
            "\n",
            "    :Number of Instances: 150 (50 in each of three classes)\n",
            "    :Number of Attributes: 4 numeric, predictive attributes and the class\n",
            "    :Attribute Information:\n",
            "        - sepal length in cm\n",
            "        - sepal width in cm\n",
            "        - petal length in cm\n",
            "        - petal width in cm\n",
            "        - class:\n",
            "                - Iris-Setosa\n",
            "                - Iris-Versicolour\n",
            "                - Iris-Virginica\n",
            "                \n",
            "    :Summary Statistics:\n",
            "\n",
            "    ============== ==== ==== ======= ===== ====================\n",
            "                    Min  Max   Mean    SD   Class Correlation\n",
            "    ============== ==== ==== ======= ===== ====================\n",
            "    sepal length:   4.3  7.9   5.84   0.83    0.7826\n",
            "    sepal width:    2.0  4.4   3.05   0.43   -0.4194\n",
            "    petal length:   1.0  6.9   3.76   1.76    0.9490  (high!)\n",
            "    petal width:    0.1  2.5   1.20   0.76    0.9565  (high!)\n",
            "    ============== ==== ==== ======= ===== ====================\n",
            "\n",
            "    :Missing Attribute Values: None\n",
            "    :Class Distribution: 33.3% for each of 3 classes.\n",
            "    :Creator: R.A. Fisher\n",
            "    :Donor: Michael Marshall (MARSHALL%PLU@io.arc.nasa.gov)\n",
            "    :Date: July, 1988\n",
            "\n",
            "The famous Iris database, first used by Sir R.A. Fisher. The dataset is taken\n",
            "from Fisher's paper. Note that it's the same as in R, but not as in the UCI\n",
            "Machine Learning Repository, which has two wrong data points.\n",
            "\n",
            "This is perhaps the best known database to be found in the\n",
            "pattern recognition literature.  Fisher's paper is a classic in the field and\n",
            "is referenced frequently to this day.  (See Duda & Hart, for example.)  The\n",
            "data set contains 3 classes of 50 instances each, where each class refers to a\n",
            "type of iris plant.  One class is linearly separable from the other 2; the\n",
            "latter are NOT linearly separable from each other.\n",
            "\n",
            ".. topic:: References\n",
            "\n",
            "   - Fisher, R.A. \"The use of multiple measurements in taxonomic problems\"\n",
            "     Annual Eugenics, 7, Part II, 179-188 (1936); also in \"Contributions to\n",
            "     Mathematical Statistics\" (John Wiley, NY, 1950).\n",
            "   - Duda, R.O., & Hart, P.E. (1973) Pattern Classification and Scene Analysis.\n",
            "     (Q327.D83) John Wiley & Sons.  ISBN 0-471-22361-1.  See page 218.\n",
            "   - Dasarathy, B.V. (1980) \"Nosing Around the Neighborhood: A New System\n",
            "     Structure and Classification Rule for Recognition in Partially Exposed\n",
            "     Environments\".  IEEE Transactions on Pattern Analysis and Machine\n",
            "     Intelligence, Vol. PAMI-2, No. 1, 67-71.\n",
            "   - Gates, G.W. (1972) \"The Reduced Nearest Neighbor Rule\".  IEEE Transactions\n",
            "     on Information Theory, May 1972, 431-433.\n",
            "   - See also: 1988 MLC Proceedings, 54-64.  Cheeseman et al\"s AUTOCLASS II\n",
            "     conceptual clustering system finds 3 classes in the data.\n",
            "   - Many, many more ...\n"
          ]
        }
      ]
    },
    {
      "cell_type": "code",
      "metadata": {
        "id": "SAFiuZC9NQ_J"
      },
      "source": [
        "df_raw = pd.DataFrame(iris.data, columns=iris.feature_names)"
      ],
      "execution_count": 5,
      "outputs": []
    },
    {
      "cell_type": "code",
      "metadata": {
        "id": "CsY0B4yBNQ_Q",
        "colab": {
          "base_uri": "https://localhost:8080/",
          "height": 206
        },
        "outputId": "49fe36dd-a120-4fa7-e1c4-c8e52783f0d0"
      },
      "source": [
        "df_raw.head()"
      ],
      "execution_count": 6,
      "outputs": [
        {
          "output_type": "execute_result",
          "data": {
            "text/html": [
              "\n",
              "  <div id=\"df-3090a485-34bc-462b-88af-e21503a82b71\">\n",
              "    <div class=\"colab-df-container\">\n",
              "      <div>\n",
              "<style scoped>\n",
              "    .dataframe tbody tr th:only-of-type {\n",
              "        vertical-align: middle;\n",
              "    }\n",
              "\n",
              "    .dataframe tbody tr th {\n",
              "        vertical-align: top;\n",
              "    }\n",
              "\n",
              "    .dataframe thead th {\n",
              "        text-align: right;\n",
              "    }\n",
              "</style>\n",
              "<table border=\"1\" class=\"dataframe\">\n",
              "  <thead>\n",
              "    <tr style=\"text-align: right;\">\n",
              "      <th></th>\n",
              "      <th>sepal length (cm)</th>\n",
              "      <th>sepal width (cm)</th>\n",
              "      <th>petal length (cm)</th>\n",
              "      <th>petal width (cm)</th>\n",
              "    </tr>\n",
              "  </thead>\n",
              "  <tbody>\n",
              "    <tr>\n",
              "      <th>0</th>\n",
              "      <td>5.1</td>\n",
              "      <td>3.5</td>\n",
              "      <td>1.4</td>\n",
              "      <td>0.2</td>\n",
              "    </tr>\n",
              "    <tr>\n",
              "      <th>1</th>\n",
              "      <td>4.9</td>\n",
              "      <td>3.0</td>\n",
              "      <td>1.4</td>\n",
              "      <td>0.2</td>\n",
              "    </tr>\n",
              "    <tr>\n",
              "      <th>2</th>\n",
              "      <td>4.7</td>\n",
              "      <td>3.2</td>\n",
              "      <td>1.3</td>\n",
              "      <td>0.2</td>\n",
              "    </tr>\n",
              "    <tr>\n",
              "      <th>3</th>\n",
              "      <td>4.6</td>\n",
              "      <td>3.1</td>\n",
              "      <td>1.5</td>\n",
              "      <td>0.2</td>\n",
              "    </tr>\n",
              "    <tr>\n",
              "      <th>4</th>\n",
              "      <td>5.0</td>\n",
              "      <td>3.6</td>\n",
              "      <td>1.4</td>\n",
              "      <td>0.2</td>\n",
              "    </tr>\n",
              "  </tbody>\n",
              "</table>\n",
              "</div>\n",
              "      <button class=\"colab-df-convert\" onclick=\"convertToInteractive('df-3090a485-34bc-462b-88af-e21503a82b71')\"\n",
              "              title=\"Convert this dataframe to an interactive table.\"\n",
              "              style=\"display:none;\">\n",
              "        \n",
              "  <svg xmlns=\"http://www.w3.org/2000/svg\" height=\"24px\"viewBox=\"0 0 24 24\"\n",
              "       width=\"24px\">\n",
              "    <path d=\"M0 0h24v24H0V0z\" fill=\"none\"/>\n",
              "    <path d=\"M18.56 5.44l.94 2.06.94-2.06 2.06-.94-2.06-.94-.94-2.06-.94 2.06-2.06.94zm-11 1L8.5 8.5l.94-2.06 2.06-.94-2.06-.94L8.5 2.5l-.94 2.06-2.06.94zm10 10l.94 2.06.94-2.06 2.06-.94-2.06-.94-.94-2.06-.94 2.06-2.06.94z\"/><path d=\"M17.41 7.96l-1.37-1.37c-.4-.4-.92-.59-1.43-.59-.52 0-1.04.2-1.43.59L10.3 9.45l-7.72 7.72c-.78.78-.78 2.05 0 2.83L4 21.41c.39.39.9.59 1.41.59.51 0 1.02-.2 1.41-.59l7.78-7.78 2.81-2.81c.8-.78.8-2.07 0-2.86zM5.41 20L4 18.59l7.72-7.72 1.47 1.35L5.41 20z\"/>\n",
              "  </svg>\n",
              "      </button>\n",
              "      \n",
              "  <style>\n",
              "    .colab-df-container {\n",
              "      display:flex;\n",
              "      flex-wrap:wrap;\n",
              "      gap: 12px;\n",
              "    }\n",
              "\n",
              "    .colab-df-convert {\n",
              "      background-color: #E8F0FE;\n",
              "      border: none;\n",
              "      border-radius: 50%;\n",
              "      cursor: pointer;\n",
              "      display: none;\n",
              "      fill: #1967D2;\n",
              "      height: 32px;\n",
              "      padding: 0 0 0 0;\n",
              "      width: 32px;\n",
              "    }\n",
              "\n",
              "    .colab-df-convert:hover {\n",
              "      background-color: #E2EBFA;\n",
              "      box-shadow: 0px 1px 2px rgba(60, 64, 67, 0.3), 0px 1px 3px 1px rgba(60, 64, 67, 0.15);\n",
              "      fill: #174EA6;\n",
              "    }\n",
              "\n",
              "    [theme=dark] .colab-df-convert {\n",
              "      background-color: #3B4455;\n",
              "      fill: #D2E3FC;\n",
              "    }\n",
              "\n",
              "    [theme=dark] .colab-df-convert:hover {\n",
              "      background-color: #434B5C;\n",
              "      box-shadow: 0px 1px 3px 1px rgba(0, 0, 0, 0.15);\n",
              "      filter: drop-shadow(0px 1px 2px rgba(0, 0, 0, 0.3));\n",
              "      fill: #FFFFFF;\n",
              "    }\n",
              "  </style>\n",
              "\n",
              "      <script>\n",
              "        const buttonEl =\n",
              "          document.querySelector('#df-3090a485-34bc-462b-88af-e21503a82b71 button.colab-df-convert');\n",
              "        buttonEl.style.display =\n",
              "          google.colab.kernel.accessAllowed ? 'block' : 'none';\n",
              "\n",
              "        async function convertToInteractive(key) {\n",
              "          const element = document.querySelector('#df-3090a485-34bc-462b-88af-e21503a82b71');\n",
              "          const dataTable =\n",
              "            await google.colab.kernel.invokeFunction('convertToInteractive',\n",
              "                                                     [key], {});\n",
              "          if (!dataTable) return;\n",
              "\n",
              "          const docLinkHtml = 'Like what you see? Visit the ' +\n",
              "            '<a target=\"_blank\" href=https://colab.research.google.com/notebooks/data_table.ipynb>data table notebook</a>'\n",
              "            + ' to learn more about interactive tables.';\n",
              "          element.innerHTML = '';\n",
              "          dataTable['output_type'] = 'display_data';\n",
              "          await google.colab.output.renderOutput(dataTable, element);\n",
              "          const docLink = document.createElement('div');\n",
              "          docLink.innerHTML = docLinkHtml;\n",
              "          element.appendChild(docLink);\n",
              "        }\n",
              "      </script>\n",
              "    </div>\n",
              "  </div>\n",
              "  "
            ],
            "text/plain": [
              "   sepal length (cm)  sepal width (cm)  petal length (cm)  petal width (cm)\n",
              "0                5.1               3.5                1.4               0.2\n",
              "1                4.9               3.0                1.4               0.2\n",
              "2                4.7               3.2                1.3               0.2\n",
              "3                4.6               3.1                1.5               0.2\n",
              "4                5.0               3.6                1.4               0.2"
            ]
          },
          "metadata": {},
          "execution_count": 6
        }
      ]
    },
    {
      "cell_type": "code",
      "metadata": {
        "id": "e0HkoLYYNQ_f"
      },
      "source": [
        "df_raw['class'] = iris.target"
      ],
      "execution_count": 7,
      "outputs": []
    },
    {
      "cell_type": "code",
      "metadata": {
        "scrolled": true,
        "id": "4VnvL9R_NQ_u",
        "colab": {
          "base_uri": "https://localhost:8080/",
          "height": 206
        },
        "outputId": "292155fe-7e99-4d03-cab6-2f1d3a4af04b"
      },
      "source": [
        "df_raw.head()"
      ],
      "execution_count": 8,
      "outputs": [
        {
          "output_type": "execute_result",
          "data": {
            "text/html": [
              "\n",
              "  <div id=\"df-5dbe4af3-dce2-4589-93e7-b4e156e934a5\">\n",
              "    <div class=\"colab-df-container\">\n",
              "      <div>\n",
              "<style scoped>\n",
              "    .dataframe tbody tr th:only-of-type {\n",
              "        vertical-align: middle;\n",
              "    }\n",
              "\n",
              "    .dataframe tbody tr th {\n",
              "        vertical-align: top;\n",
              "    }\n",
              "\n",
              "    .dataframe thead th {\n",
              "        text-align: right;\n",
              "    }\n",
              "</style>\n",
              "<table border=\"1\" class=\"dataframe\">\n",
              "  <thead>\n",
              "    <tr style=\"text-align: right;\">\n",
              "      <th></th>\n",
              "      <th>sepal length (cm)</th>\n",
              "      <th>sepal width (cm)</th>\n",
              "      <th>petal length (cm)</th>\n",
              "      <th>petal width (cm)</th>\n",
              "      <th>class</th>\n",
              "    </tr>\n",
              "  </thead>\n",
              "  <tbody>\n",
              "    <tr>\n",
              "      <th>0</th>\n",
              "      <td>5.1</td>\n",
              "      <td>3.5</td>\n",
              "      <td>1.4</td>\n",
              "      <td>0.2</td>\n",
              "      <td>0</td>\n",
              "    </tr>\n",
              "    <tr>\n",
              "      <th>1</th>\n",
              "      <td>4.9</td>\n",
              "      <td>3.0</td>\n",
              "      <td>1.4</td>\n",
              "      <td>0.2</td>\n",
              "      <td>0</td>\n",
              "    </tr>\n",
              "    <tr>\n",
              "      <th>2</th>\n",
              "      <td>4.7</td>\n",
              "      <td>3.2</td>\n",
              "      <td>1.3</td>\n",
              "      <td>0.2</td>\n",
              "      <td>0</td>\n",
              "    </tr>\n",
              "    <tr>\n",
              "      <th>3</th>\n",
              "      <td>4.6</td>\n",
              "      <td>3.1</td>\n",
              "      <td>1.5</td>\n",
              "      <td>0.2</td>\n",
              "      <td>0</td>\n",
              "    </tr>\n",
              "    <tr>\n",
              "      <th>4</th>\n",
              "      <td>5.0</td>\n",
              "      <td>3.6</td>\n",
              "      <td>1.4</td>\n",
              "      <td>0.2</td>\n",
              "      <td>0</td>\n",
              "    </tr>\n",
              "  </tbody>\n",
              "</table>\n",
              "</div>\n",
              "      <button class=\"colab-df-convert\" onclick=\"convertToInteractive('df-5dbe4af3-dce2-4589-93e7-b4e156e934a5')\"\n",
              "              title=\"Convert this dataframe to an interactive table.\"\n",
              "              style=\"display:none;\">\n",
              "        \n",
              "  <svg xmlns=\"http://www.w3.org/2000/svg\" height=\"24px\"viewBox=\"0 0 24 24\"\n",
              "       width=\"24px\">\n",
              "    <path d=\"M0 0h24v24H0V0z\" fill=\"none\"/>\n",
              "    <path d=\"M18.56 5.44l.94 2.06.94-2.06 2.06-.94-2.06-.94-.94-2.06-.94 2.06-2.06.94zm-11 1L8.5 8.5l.94-2.06 2.06-.94-2.06-.94L8.5 2.5l-.94 2.06-2.06.94zm10 10l.94 2.06.94-2.06 2.06-.94-2.06-.94-.94-2.06-.94 2.06-2.06.94z\"/><path d=\"M17.41 7.96l-1.37-1.37c-.4-.4-.92-.59-1.43-.59-.52 0-1.04.2-1.43.59L10.3 9.45l-7.72 7.72c-.78.78-.78 2.05 0 2.83L4 21.41c.39.39.9.59 1.41.59.51 0 1.02-.2 1.41-.59l7.78-7.78 2.81-2.81c.8-.78.8-2.07 0-2.86zM5.41 20L4 18.59l7.72-7.72 1.47 1.35L5.41 20z\"/>\n",
              "  </svg>\n",
              "      </button>\n",
              "      \n",
              "  <style>\n",
              "    .colab-df-container {\n",
              "      display:flex;\n",
              "      flex-wrap:wrap;\n",
              "      gap: 12px;\n",
              "    }\n",
              "\n",
              "    .colab-df-convert {\n",
              "      background-color: #E8F0FE;\n",
              "      border: none;\n",
              "      border-radius: 50%;\n",
              "      cursor: pointer;\n",
              "      display: none;\n",
              "      fill: #1967D2;\n",
              "      height: 32px;\n",
              "      padding: 0 0 0 0;\n",
              "      width: 32px;\n",
              "    }\n",
              "\n",
              "    .colab-df-convert:hover {\n",
              "      background-color: #E2EBFA;\n",
              "      box-shadow: 0px 1px 2px rgba(60, 64, 67, 0.3), 0px 1px 3px 1px rgba(60, 64, 67, 0.15);\n",
              "      fill: #174EA6;\n",
              "    }\n",
              "\n",
              "    [theme=dark] .colab-df-convert {\n",
              "      background-color: #3B4455;\n",
              "      fill: #D2E3FC;\n",
              "    }\n",
              "\n",
              "    [theme=dark] .colab-df-convert:hover {\n",
              "      background-color: #434B5C;\n",
              "      box-shadow: 0px 1px 3px 1px rgba(0, 0, 0, 0.15);\n",
              "      filter: drop-shadow(0px 1px 2px rgba(0, 0, 0, 0.3));\n",
              "      fill: #FFFFFF;\n",
              "    }\n",
              "  </style>\n",
              "\n",
              "      <script>\n",
              "        const buttonEl =\n",
              "          document.querySelector('#df-5dbe4af3-dce2-4589-93e7-b4e156e934a5 button.colab-df-convert');\n",
              "        buttonEl.style.display =\n",
              "          google.colab.kernel.accessAllowed ? 'block' : 'none';\n",
              "\n",
              "        async function convertToInteractive(key) {\n",
              "          const element = document.querySelector('#df-5dbe4af3-dce2-4589-93e7-b4e156e934a5');\n",
              "          const dataTable =\n",
              "            await google.colab.kernel.invokeFunction('convertToInteractive',\n",
              "                                                     [key], {});\n",
              "          if (!dataTable) return;\n",
              "\n",
              "          const docLinkHtml = 'Like what you see? Visit the ' +\n",
              "            '<a target=\"_blank\" href=https://colab.research.google.com/notebooks/data_table.ipynb>data table notebook</a>'\n",
              "            + ' to learn more about interactive tables.';\n",
              "          element.innerHTML = '';\n",
              "          dataTable['output_type'] = 'display_data';\n",
              "          await google.colab.output.renderOutput(dataTable, element);\n",
              "          const docLink = document.createElement('div');\n",
              "          docLink.innerHTML = docLinkHtml;\n",
              "          element.appendChild(docLink);\n",
              "        }\n",
              "      </script>\n",
              "    </div>\n",
              "  </div>\n",
              "  "
            ],
            "text/plain": [
              "   sepal length (cm)  sepal width (cm)  ...  petal width (cm)  class\n",
              "0                5.1               3.5  ...               0.2      0\n",
              "1                4.9               3.0  ...               0.2      0\n",
              "2                4.7               3.2  ...               0.2      0\n",
              "3                4.6               3.1  ...               0.2      0\n",
              "4                5.0               3.6  ...               0.2      0\n",
              "\n",
              "[5 rows x 5 columns]"
            ]
          },
          "metadata": {},
          "execution_count": 8
        }
      ]
    },
    {
      "cell_type": "code",
      "metadata": {
        "id": "ZAthwy2MNQ_3",
        "colab": {
          "base_uri": "https://localhost:8080/"
        },
        "outputId": "251d2446-496b-49e3-9459-40f22689cde8"
      },
      "source": [
        "df_raw['class'].unique()"
      ],
      "execution_count": 9,
      "outputs": [
        {
          "output_type": "execute_result",
          "data": {
            "text/plain": [
              "array([0, 1, 2])"
            ]
          },
          "metadata": {},
          "execution_count": 9
        }
      ]
    },
    {
      "cell_type": "code",
      "metadata": {
        "id": "d0MYo8ixNRAA"
      },
      "source": [
        "from sklearn.model_selection import train_test_split\n",
        "\n",
        "X_train, X_test, y_train, y_test = train_test_split(\n",
        "    df_raw.drop(columns='sepal width (cm)'), df_raw['sepal width (cm)'], random_state=42)"
      ],
      "execution_count": 10,
      "outputs": []
    },
    {
      "cell_type": "code",
      "metadata": {
        "id": "nY28r0Z6NRAK",
        "colab": {
          "base_uri": "https://localhost:8080/"
        },
        "outputId": "511d1a1d-d910-4651-ebdb-0f5d783b3a01"
      },
      "source": [
        "X_train.columns"
      ],
      "execution_count": 11,
      "outputs": [
        {
          "output_type": "execute_result",
          "data": {
            "text/plain": [
              "Index(['sepal length (cm)', 'petal length (cm)', 'petal width (cm)', 'class'], dtype='object')"
            ]
          },
          "metadata": {},
          "execution_count": 11
        }
      ]
    },
    {
      "cell_type": "code",
      "metadata": {
        "id": "TSYfiyqPNRAT",
        "colab": {
          "base_uri": "https://localhost:8080/",
          "height": 36
        },
        "outputId": "edc94af7-ab93-4407-85b2-93dcab1615e2"
      },
      "source": [
        "y_train.name"
      ],
      "execution_count": 12,
      "outputs": [
        {
          "output_type": "execute_result",
          "data": {
            "application/vnd.google.colaboratory.intrinsic+json": {
              "type": "string"
            },
            "text/plain": [
              "'sepal width (cm)'"
            ]
          },
          "metadata": {},
          "execution_count": 12
        }
      ]
    },
    {
      "cell_type": "code",
      "metadata": {
        "id": "_Nn9wkJINRAj"
      },
      "source": [
        "categorical_columns = ['class']\n",
        "numerical_columns = ['sepal length (cm)', 'petal length (cm)', 'petal width (cm)']"
      ],
      "execution_count": 13,
      "outputs": []
    },
    {
      "cell_type": "code",
      "metadata": {
        "id": "SHNFVFSCNRAt"
      },
      "source": [
        "from sklearn.pipeline import Pipeline\n",
        "from sklearn.preprocessing import OneHotEncoder\n",
        "\n",
        "categorical_pipe = Pipeline([\n",
        "    ('onehot', OneHotEncoder())\n",
        "])"
      ],
      "execution_count": 14,
      "outputs": []
    },
    {
      "cell_type": "code",
      "metadata": {
        "id": "DZIhlDdKNRA8"
      },
      "source": [
        "from sklearn.preprocessing import StandardScaler\n",
        "\n",
        "numerical_pipe = Pipeline([\n",
        "    ('scaler', StandardScaler())\n",
        "])"
      ],
      "execution_count": 15,
      "outputs": []
    },
    {
      "cell_type": "code",
      "metadata": {
        "id": "RwfiM8TKNRBD"
      },
      "source": [
        "from sklearn.compose import ColumnTransformer\n",
        "\n",
        "preprocessing = ColumnTransformer(\n",
        "    [('cat', categorical_pipe, categorical_columns),\n",
        "     ('num', numerical_pipe, numerical_columns)])"
      ],
      "execution_count": 16,
      "outputs": []
    },
    {
      "cell_type": "code",
      "metadata": {
        "id": "dzk8LAsaNRBR"
      },
      "source": [
        "from sklearn.linear_model import LinearRegression\n",
        "\n",
        "lm = Pipeline([\n",
        "    ('preprocess', preprocessing),\n",
        "    ('regressor', LinearRegression())\n",
        "])"
      ],
      "execution_count": 17,
      "outputs": []
    },
    {
      "cell_type": "code",
      "metadata": {
        "scrolled": true,
        "id": "UMRyr788NRBc",
        "colab": {
          "base_uri": "https://localhost:8080/",
          "height": 188
        },
        "outputId": "1655537a-df2f-49b7-8571-cf76ab3a78c4"
      },
      "source": [
        "from sklearn import set_config\n",
        "\n",
        "set_config(display='diagram')\n",
        "\n",
        "lm.fit(X_train, y_train)"
      ],
      "execution_count": 18,
      "outputs": [
        {
          "output_type": "execute_result",
          "data": {
            "text/html": [
              "<style>#sk-68d06f76-18e7-4d05-ad36-b70067055504 {color: black;background-color: white;}#sk-68d06f76-18e7-4d05-ad36-b70067055504 pre{padding: 0;}#sk-68d06f76-18e7-4d05-ad36-b70067055504 div.sk-toggleable {background-color: white;}#sk-68d06f76-18e7-4d05-ad36-b70067055504 label.sk-toggleable__label {cursor: pointer;display: block;width: 100%;margin-bottom: 0;padding: 0.3em;box-sizing: border-box;text-align: center;}#sk-68d06f76-18e7-4d05-ad36-b70067055504 label.sk-toggleable__label-arrow:before {content: \"▸\";float: left;margin-right: 0.25em;color: #696969;}#sk-68d06f76-18e7-4d05-ad36-b70067055504 label.sk-toggleable__label-arrow:hover:before {color: black;}#sk-68d06f76-18e7-4d05-ad36-b70067055504 div.sk-estimator:hover label.sk-toggleable__label-arrow:before {color: black;}#sk-68d06f76-18e7-4d05-ad36-b70067055504 div.sk-toggleable__content {max-height: 0;max-width: 0;overflow: hidden;text-align: left;background-color: #f0f8ff;}#sk-68d06f76-18e7-4d05-ad36-b70067055504 div.sk-toggleable__content pre {margin: 0.2em;color: black;border-radius: 0.25em;background-color: #f0f8ff;}#sk-68d06f76-18e7-4d05-ad36-b70067055504 input.sk-toggleable__control:checked~div.sk-toggleable__content {max-height: 200px;max-width: 100%;overflow: auto;}#sk-68d06f76-18e7-4d05-ad36-b70067055504 input.sk-toggleable__control:checked~label.sk-toggleable__label-arrow:before {content: \"▾\";}#sk-68d06f76-18e7-4d05-ad36-b70067055504 div.sk-estimator input.sk-toggleable__control:checked~label.sk-toggleable__label {background-color: #d4ebff;}#sk-68d06f76-18e7-4d05-ad36-b70067055504 div.sk-label input.sk-toggleable__control:checked~label.sk-toggleable__label {background-color: #d4ebff;}#sk-68d06f76-18e7-4d05-ad36-b70067055504 input.sk-hidden--visually {border: 0;clip: rect(1px 1px 1px 1px);clip: rect(1px, 1px, 1px, 1px);height: 1px;margin: -1px;overflow: hidden;padding: 0;position: absolute;width: 1px;}#sk-68d06f76-18e7-4d05-ad36-b70067055504 div.sk-estimator {font-family: monospace;background-color: #f0f8ff;border: 1px dotted black;border-radius: 0.25em;box-sizing: border-box;margin-bottom: 0.5em;}#sk-68d06f76-18e7-4d05-ad36-b70067055504 div.sk-estimator:hover {background-color: #d4ebff;}#sk-68d06f76-18e7-4d05-ad36-b70067055504 div.sk-parallel-item::after {content: \"\";width: 100%;border-bottom: 1px solid gray;flex-grow: 1;}#sk-68d06f76-18e7-4d05-ad36-b70067055504 div.sk-label:hover label.sk-toggleable__label {background-color: #d4ebff;}#sk-68d06f76-18e7-4d05-ad36-b70067055504 div.sk-serial::before {content: \"\";position: absolute;border-left: 1px solid gray;box-sizing: border-box;top: 2em;bottom: 0;left: 50%;}#sk-68d06f76-18e7-4d05-ad36-b70067055504 div.sk-serial {display: flex;flex-direction: column;align-items: center;background-color: white;padding-right: 0.2em;padding-left: 0.2em;}#sk-68d06f76-18e7-4d05-ad36-b70067055504 div.sk-item {z-index: 1;}#sk-68d06f76-18e7-4d05-ad36-b70067055504 div.sk-parallel {display: flex;align-items: stretch;justify-content: center;background-color: white;}#sk-68d06f76-18e7-4d05-ad36-b70067055504 div.sk-parallel::before {content: \"\";position: absolute;border-left: 1px solid gray;box-sizing: border-box;top: 2em;bottom: 0;left: 50%;}#sk-68d06f76-18e7-4d05-ad36-b70067055504 div.sk-parallel-item {display: flex;flex-direction: column;position: relative;background-color: white;}#sk-68d06f76-18e7-4d05-ad36-b70067055504 div.sk-parallel-item:first-child::after {align-self: flex-end;width: 50%;}#sk-68d06f76-18e7-4d05-ad36-b70067055504 div.sk-parallel-item:last-child::after {align-self: flex-start;width: 50%;}#sk-68d06f76-18e7-4d05-ad36-b70067055504 div.sk-parallel-item:only-child::after {width: 0;}#sk-68d06f76-18e7-4d05-ad36-b70067055504 div.sk-dashed-wrapped {border: 1px dashed gray;margin: 0 0.4em 0.5em 0.4em;box-sizing: border-box;padding-bottom: 0.4em;background-color: white;position: relative;}#sk-68d06f76-18e7-4d05-ad36-b70067055504 div.sk-label label {font-family: monospace;font-weight: bold;background-color: white;display: inline-block;line-height: 1.2em;}#sk-68d06f76-18e7-4d05-ad36-b70067055504 div.sk-label-container {position: relative;z-index: 2;text-align: center;}#sk-68d06f76-18e7-4d05-ad36-b70067055504 div.sk-container {/* jupyter's `normalize.less` sets `[hidden] { display: none; }` but bootstrap.min.css set `[hidden] { display: none !important; }` so we also need the `!important` here to be able to override the default hidden behavior on the sphinx rendered scikit-learn.org. See: https://github.com/scikit-learn/scikit-learn/issues/21755 */display: inline-block !important;position: relative;}#sk-68d06f76-18e7-4d05-ad36-b70067055504 div.sk-text-repr-fallback {display: none;}</style><div id=\"sk-68d06f76-18e7-4d05-ad36-b70067055504\" class=\"sk-top-container\"><div class=\"sk-text-repr-fallback\"><pre>Pipeline(steps=[(&#x27;preprocess&#x27;,\n",
              "                 ColumnTransformer(transformers=[(&#x27;cat&#x27;,\n",
              "                                                  Pipeline(steps=[(&#x27;onehot&#x27;,\n",
              "                                                                   OneHotEncoder())]),\n",
              "                                                  [&#x27;class&#x27;]),\n",
              "                                                 (&#x27;num&#x27;,\n",
              "                                                  Pipeline(steps=[(&#x27;scaler&#x27;,\n",
              "                                                                   StandardScaler())]),\n",
              "                                                  [&#x27;sepal length (cm)&#x27;,\n",
              "                                                   &#x27;petal length (cm)&#x27;,\n",
              "                                                   &#x27;petal width (cm)&#x27;])])),\n",
              "                (&#x27;regressor&#x27;, LinearRegression())])</pre><b>Please rerun this cell to show the HTML repr or trust the notebook.</b></div><div class=\"sk-container\" hidden><div class=\"sk-item sk-dashed-wrapped\"><div class=\"sk-label-container\"><div class=\"sk-label sk-toggleable\"><input class=\"sk-toggleable__control sk-hidden--visually\" id=\"ea81d394-fd91-4724-94e1-561807c64064\" type=\"checkbox\" ><label for=\"ea81d394-fd91-4724-94e1-561807c64064\" class=\"sk-toggleable__label sk-toggleable__label-arrow\">Pipeline</label><div class=\"sk-toggleable__content\"><pre>Pipeline(steps=[(&#x27;preprocess&#x27;,\n",
              "                 ColumnTransformer(transformers=[(&#x27;cat&#x27;,\n",
              "                                                  Pipeline(steps=[(&#x27;onehot&#x27;,\n",
              "                                                                   OneHotEncoder())]),\n",
              "                                                  [&#x27;class&#x27;]),\n",
              "                                                 (&#x27;num&#x27;,\n",
              "                                                  Pipeline(steps=[(&#x27;scaler&#x27;,\n",
              "                                                                   StandardScaler())]),\n",
              "                                                  [&#x27;sepal length (cm)&#x27;,\n",
              "                                                   &#x27;petal length (cm)&#x27;,\n",
              "                                                   &#x27;petal width (cm)&#x27;])])),\n",
              "                (&#x27;regressor&#x27;, LinearRegression())])</pre></div></div></div><div class=\"sk-serial\"><div class=\"sk-item sk-dashed-wrapped\"><div class=\"sk-label-container\"><div class=\"sk-label sk-toggleable\"><input class=\"sk-toggleable__control sk-hidden--visually\" id=\"d6d61983-47d2-4962-9451-e01017d86cbb\" type=\"checkbox\" ><label for=\"d6d61983-47d2-4962-9451-e01017d86cbb\" class=\"sk-toggleable__label sk-toggleable__label-arrow\">preprocess: ColumnTransformer</label><div class=\"sk-toggleable__content\"><pre>ColumnTransformer(transformers=[(&#x27;cat&#x27;,\n",
              "                                 Pipeline(steps=[(&#x27;onehot&#x27;, OneHotEncoder())]),\n",
              "                                 [&#x27;class&#x27;]),\n",
              "                                (&#x27;num&#x27;,\n",
              "                                 Pipeline(steps=[(&#x27;scaler&#x27;, StandardScaler())]),\n",
              "                                 [&#x27;sepal length (cm)&#x27;, &#x27;petal length (cm)&#x27;,\n",
              "                                  &#x27;petal width (cm)&#x27;])])</pre></div></div></div><div class=\"sk-parallel\"><div class=\"sk-parallel-item\"><div class=\"sk-item\"><div class=\"sk-label-container\"><div class=\"sk-label sk-toggleable\"><input class=\"sk-toggleable__control sk-hidden--visually\" id=\"7868a350-7c1d-4bea-97b8-9cbdf1908736\" type=\"checkbox\" ><label for=\"7868a350-7c1d-4bea-97b8-9cbdf1908736\" class=\"sk-toggleable__label sk-toggleable__label-arrow\">cat</label><div class=\"sk-toggleable__content\"><pre>[&#x27;class&#x27;]</pre></div></div></div><div class=\"sk-serial\"><div class=\"sk-item\"><div class=\"sk-serial\"><div class=\"sk-item\"><div class=\"sk-estimator sk-toggleable\"><input class=\"sk-toggleable__control sk-hidden--visually\" id=\"4edb8252-124e-4531-8208-2320813aa57d\" type=\"checkbox\" ><label for=\"4edb8252-124e-4531-8208-2320813aa57d\" class=\"sk-toggleable__label sk-toggleable__label-arrow\">OneHotEncoder</label><div class=\"sk-toggleable__content\"><pre>OneHotEncoder()</pre></div></div></div></div></div></div></div></div><div class=\"sk-parallel-item\"><div class=\"sk-item\"><div class=\"sk-label-container\"><div class=\"sk-label sk-toggleable\"><input class=\"sk-toggleable__control sk-hidden--visually\" id=\"f45de3e0-8e0a-4bf6-b1ed-796e400bed54\" type=\"checkbox\" ><label for=\"f45de3e0-8e0a-4bf6-b1ed-796e400bed54\" class=\"sk-toggleable__label sk-toggleable__label-arrow\">num</label><div class=\"sk-toggleable__content\"><pre>[&#x27;sepal length (cm)&#x27;, &#x27;petal length (cm)&#x27;, &#x27;petal width (cm)&#x27;]</pre></div></div></div><div class=\"sk-serial\"><div class=\"sk-item\"><div class=\"sk-serial\"><div class=\"sk-item\"><div class=\"sk-estimator sk-toggleable\"><input class=\"sk-toggleable__control sk-hidden--visually\" id=\"3aa4b669-bb35-4b10-815e-2e08bae5bd8f\" type=\"checkbox\" ><label for=\"3aa4b669-bb35-4b10-815e-2e08bae5bd8f\" class=\"sk-toggleable__label sk-toggleable__label-arrow\">StandardScaler</label><div class=\"sk-toggleable__content\"><pre>StandardScaler()</pre></div></div></div></div></div></div></div></div></div></div><div class=\"sk-item\"><div class=\"sk-estimator sk-toggleable\"><input class=\"sk-toggleable__control sk-hidden--visually\" id=\"5dc2cf3b-f0f4-4ab1-adb8-0d1f67fb08ff\" type=\"checkbox\" ><label for=\"5dc2cf3b-f0f4-4ab1-adb8-0d1f67fb08ff\" class=\"sk-toggleable__label sk-toggleable__label-arrow\">LinearRegression</label><div class=\"sk-toggleable__content\"><pre>LinearRegression()</pre></div></div></div></div></div></div></div>"
            ],
            "text/plain": [
              "Pipeline(steps=[('preprocess',\n",
              "                 ColumnTransformer(transformers=[('cat',\n",
              "                                                  Pipeline(steps=[('onehot',\n",
              "                                                                   OneHotEncoder())]),\n",
              "                                                  ['class']),\n",
              "                                                 ('num',\n",
              "                                                  Pipeline(steps=[('scaler',\n",
              "                                                                   StandardScaler())]),\n",
              "                                                  ['sepal length (cm)',\n",
              "                                                   'petal length (cm)',\n",
              "                                                   'petal width (cm)'])])),\n",
              "                ('regressor', LinearRegression())])"
            ]
          },
          "metadata": {},
          "execution_count": 18
        }
      ]
    },
    {
      "cell_type": "code",
      "metadata": {
        "id": "o9rVdLtCNRBv",
        "colab": {
          "base_uri": "https://localhost:8080/"
        },
        "outputId": "eed5be6b-7187-4b64-8f21-edd2b5b8248e"
      },
      "source": [
        "from sklearn.metrics import median_absolute_error\n",
        "\n",
        "print(\"train error: %0.3f, test error: %0.3f\" %\n",
        "      (median_absolute_error(y_train, lm.predict(X_train)),\n",
        "       median_absolute_error(y_test, lm.predict(X_test))))"
      ],
      "execution_count": 19,
      "outputs": [
        {
          "output_type": "stream",
          "name": "stdout",
          "text": [
            "train error: 0.163, test error: 0.193\n"
          ]
        }
      ]
    },
    {
      "cell_type": "code",
      "metadata": {
        "id": "53e0p0D8NRBz",
        "colab": {
          "base_uri": "https://localhost:8080/",
          "height": 391
        },
        "outputId": "0713cf47-5e04-415b-df53-289296e6edef"
      },
      "source": [
        "def scatter_predictions(y_pred, y_true):\n",
        "    plt.figure(figsize=(6, 6))\n",
        "    plt.xlabel('prediction')\n",
        "    plt.ylabel('true target')\n",
        "    plt.scatter(y_pred, y_true, color=\"C0\")\n",
        "    plt.plot(y_true,y_true, color=\"C1\")\n",
        "    \n",
        "scatter_predictions(lm.predict(X_test), y_test)"
      ],
      "execution_count": 20,
      "outputs": [
        {
          "output_type": "display_data",
          "data": {
            "image/png": "[encoded data removed]",
            "text/plain": [
              "<Figure size 432x432 with 1 Axes>"
            ]
          },
          "metadata": {
            "needs_background": "light"
          }
        }
      ]
    },
    {
      "cell_type": "code",
      "metadata": {
        "id": "U-WxMmdxNRB_",
        "colab": {
          "base_uri": "https://localhost:8080/"
        },
        "outputId": "90310340-75e5-44ff-d40b-cbc3ac21ced8"
      },
      "source": [
        "print(\"The hyper-parameters for a linear model are:\")\n",
        "for param_name in LinearRegression().get_params().keys():\n",
        "    print(param_name)"
      ],
      "execution_count": 21,
      "outputs": [
        {
          "output_type": "stream",
          "name": "stdout",
          "text": [
            "The hyper-parameters for a linear model are:\n",
            "copy_X\n",
            "fit_intercept\n",
            "n_jobs\n",
            "normalize\n",
            "positive\n"
          ]
        }
      ]
    },
    {
      "cell_type": "code",
      "source": [
        "from sklearn.inspection import permutation_importance\n",
        "\n",
        "def boxplot_pi(model, X_test, y_test):\n",
        "  result = permutation_importance(model, X_test, y_test, n_repeats=10,\n",
        "                                  random_state=42, n_jobs=-1)\n",
        "  sorted_idx = result.importances_mean.argsort()\n",
        "\n",
        "  fig, ax = plt.subplots(figsize=(8,6))\n",
        "  ax.boxplot(result.importances[sorted_idx].T,\n",
        "            vert=False, labels=X_test.columns[sorted_idx])\n",
        "  ax.set_title(\"Permutation Importances (test set)\")\n",
        "  fig.tight_layout()\n",
        "  plt.show()\n",
        "\n",
        "boxplot_pi(lm, X_test, y_test)"
      ],
      "metadata": {
        "id": "X8bwlzZDcu2G",
        "outputId": "ece1bc1b-e9eb-4f33-b572-12ed172ff9f3",
        "colab": {
          "base_uri": "https://localhost:8080/",
          "height": 441
        }
      },
      "execution_count": 22,
      "outputs": [
        {
          "output_type": "display_data",
          "data": {
            "image/png": "[encoded data removed]",
            "text/plain": [
              "<Figure size 576x432 with 1 Axes>"
            ]
          },
          "metadata": {
            "needs_background": "light"
          }
        }
      ]
    },
    {
      "cell_type": "code",
      "metadata": {
        "id": "2xkjKorMNRCT"
      },
      "source": [
        "from sklearn.ensemble import RandomForestRegressor\n",
        "\n",
        "rf = Pipeline([\n",
        "    ('preprocess', preprocessing),\n",
        "    ('regressor', RandomForestRegressor(n_estimators=100, n_jobs=-1, random_state=42))\n",
        "])"
      ],
      "execution_count": 23,
      "outputs": []
    },
    {
      "cell_type": "code",
      "metadata": {
        "scrolled": false,
        "id": "pAckw-G4NRCf",
        "colab": {
          "base_uri": "https://localhost:8080/",
          "height": 188
        },
        "outputId": "7601ca9a-7973-4701-a574-1df5b1975093"
      },
      "source": [
        "rf.fit(X_train, y_train)"
      ],
      "execution_count": 24,
      "outputs": [
        {
          "output_type": "execute_result",
          "data": {
            "text/html": [
              "<style>#sk-cb8381b0-374d-4377-8e24-e22b44f3fcf3 {color: black;background-color: white;}#sk-cb8381b0-374d-4377-8e24-e22b44f3fcf3 pre{padding: 0;}#sk-cb8381b0-374d-4377-8e24-e22b44f3fcf3 div.sk-toggleable {background-color: white;}#sk-cb8381b0-374d-4377-8e24-e22b44f3fcf3 label.sk-toggleable__label {cursor: pointer;display: block;width: 100%;margin-bottom: 0;padding: 0.3em;box-sizing: border-box;text-align: center;}#sk-cb8381b0-374d-4377-8e24-e22b44f3fcf3 label.sk-toggleable__label-arrow:before {content: \"▸\";float: left;margin-right: 0.25em;color: #696969;}#sk-cb8381b0-374d-4377-8e24-e22b44f3fcf3 label.sk-toggleable__label-arrow:hover:before {color: black;}#sk-cb8381b0-374d-4377-8e24-e22b44f3fcf3 div.sk-estimator:hover label.sk-toggleable__label-arrow:before {color: black;}#sk-cb8381b0-374d-4377-8e24-e22b44f3fcf3 div.sk-toggleable__content {max-height: 0;max-width: 0;overflow: hidden;text-align: left;background-color: #f0f8ff;}#sk-cb8381b0-374d-4377-8e24-e22b44f3fcf3 div.sk-toggleable__content pre {margin: 0.2em;color: black;border-radius: 0.25em;background-color: #f0f8ff;}#sk-cb8381b0-374d-4377-8e24-e22b44f3fcf3 input.sk-toggleable__control:checked~div.sk-toggleable__content {max-height: 200px;max-width: 100%;overflow: auto;}#sk-cb8381b0-374d-4377-8e24-e22b44f3fcf3 input.sk-toggleable__control:checked~label.sk-toggleable__label-arrow:before {content: \"▾\";}#sk-cb8381b0-374d-4377-8e24-e22b44f3fcf3 div.sk-estimator input.sk-toggleable__control:checked~label.sk-toggleable__label {background-color: #d4ebff;}#sk-cb8381b0-374d-4377-8e24-e22b44f3fcf3 div.sk-label input.sk-toggleable__control:checked~label.sk-toggleable__label {background-color: #d4ebff;}#sk-cb8381b0-374d-4377-8e24-e22b44f3fcf3 input.sk-hidden--visually {border: 0;clip: rect(1px 1px 1px 1px);clip: rect(1px, 1px, 1px, 1px);height: 1px;margin: -1px;overflow: hidden;padding: 0;position: absolute;width: 1px;}#sk-cb8381b0-374d-4377-8e24-e22b44f3fcf3 div.sk-estimator {font-family: monospace;background-color: #f0f8ff;border: 1px dotted black;border-radius: 0.25em;box-sizing: border-box;margin-bottom: 0.5em;}#sk-cb8381b0-374d-4377-8e24-e22b44f3fcf3 div.sk-estimator:hover {background-color: #d4ebff;}#sk-cb8381b0-374d-4377-8e24-e22b44f3fcf3 div.sk-parallel-item::after {content: \"\";width: 100%;border-bottom: 1px solid gray;flex-grow: 1;}#sk-cb8381b0-374d-4377-8e24-e22b44f3fcf3 div.sk-label:hover label.sk-toggleable__label {background-color: #d4ebff;}#sk-cb8381b0-374d-4377-8e24-e22b44f3fcf3 div.sk-serial::before {content: \"\";position: absolute;border-left: 1px solid gray;box-sizing: border-box;top: 2em;bottom: 0;left: 50%;}#sk-cb8381b0-374d-4377-8e24-e22b44f3fcf3 div.sk-serial {display: flex;flex-direction: column;align-items: center;background-color: white;padding-right: 0.2em;padding-left: 0.2em;}#sk-cb8381b0-374d-4377-8e24-e22b44f3fcf3 div.sk-item {z-index: 1;}#sk-cb8381b0-374d-4377-8e24-e22b44f3fcf3 div.sk-parallel {display: flex;align-items: stretch;justify-content: center;background-color: white;}#sk-cb8381b0-374d-4377-8e24-e22b44f3fcf3 div.sk-parallel::before {content: \"\";position: absolute;border-left: 1px solid gray;box-sizing: border-box;top: 2em;bottom: 0;left: 50%;}#sk-cb8381b0-374d-4377-8e24-e22b44f3fcf3 div.sk-parallel-item {display: flex;flex-direction: column;position: relative;background-color: white;}#sk-cb8381b0-374d-4377-8e24-e22b44f3fcf3 div.sk-parallel-item:first-child::after {align-self: flex-end;width: 50%;}#sk-cb8381b0-374d-4377-8e24-e22b44f3fcf3 div.sk-parallel-item:last-child::after {align-self: flex-start;width: 50%;}#sk-cb8381b0-374d-4377-8e24-e22b44f3fcf3 div.sk-parallel-item:only-child::after {width: 0;}#sk-cb8381b0-374d-4377-8e24-e22b44f3fcf3 div.sk-dashed-wrapped {border: 1px dashed gray;margin: 0 0.4em 0.5em 0.4em;box-sizing: border-box;padding-bottom: 0.4em;background-color: white;position: relative;}#sk-cb8381b0-374d-4377-8e24-e22b44f3fcf3 div.sk-label label {font-family: monospace;font-weight: bold;background-color: white;display: inline-block;line-height: 1.2em;}#sk-cb8381b0-374d-4377-8e24-e22b44f3fcf3 div.sk-label-container {position: relative;z-index: 2;text-align: center;}#sk-cb8381b0-374d-4377-8e24-e22b44f3fcf3 div.sk-container {/* jupyter's `normalize.less` sets `[hidden] { display: none; }` but bootstrap.min.css set `[hidden] { display: none !important; }` so we also need the `!important` here to be able to override the default hidden behavior on the sphinx rendered scikit-learn.org. See: https://github.com/scikit-learn/scikit-learn/issues/21755 */display: inline-block !important;position: relative;}#sk-cb8381b0-374d-4377-8e24-e22b44f3fcf3 div.sk-text-repr-fallback {display: none;}</style><div id=\"sk-cb8381b0-374d-4377-8e24-e22b44f3fcf3\" class=\"sk-top-container\"><div class=\"sk-text-repr-fallback\"><pre>Pipeline(steps=[(&#x27;preprocess&#x27;,\n",
              "                 ColumnTransformer(transformers=[(&#x27;cat&#x27;,\n",
              "                                                  Pipeline(steps=[(&#x27;onehot&#x27;,\n",
              "                                                                   OneHotEncoder())]),\n",
              "                                                  [&#x27;class&#x27;]),\n",
              "                                                 (&#x27;num&#x27;,\n",
              "                                                  Pipeline(steps=[(&#x27;scaler&#x27;,\n",
              "                                                                   StandardScaler())]),\n",
              "                                                  [&#x27;sepal length (cm)&#x27;,\n",
              "                                                   &#x27;petal length (cm)&#x27;,\n",
              "                                                   &#x27;petal width (cm)&#x27;])])),\n",
              "                (&#x27;regressor&#x27;,\n",
              "                 RandomForestRegressor(n_jobs=-1, random_state=42))])</pre><b>Please rerun this cell to show the HTML repr or trust the notebook.</b></div><div class=\"sk-container\" hidden><div class=\"sk-item sk-dashed-wrapped\"><div class=\"sk-label-container\"><div class=\"sk-label sk-toggleable\"><input class=\"sk-toggleable__control sk-hidden--visually\" id=\"d3254df2-489e-4804-96c4-988d92fd4757\" type=\"checkbox\" ><label for=\"d3254df2-489e-4804-96c4-988d92fd4757\" class=\"sk-toggleable__label sk-toggleable__label-arrow\">Pipeline</label><div class=\"sk-toggleable__content\"><pre>Pipeline(steps=[(&#x27;preprocess&#x27;,\n",
              "                 ColumnTransformer(transformers=[(&#x27;cat&#x27;,\n",
              "                                                  Pipeline(steps=[(&#x27;onehot&#x27;,\n",
              "                                                                   OneHotEncoder())]),\n",
              "                                                  [&#x27;class&#x27;]),\n",
              "                                                 (&#x27;num&#x27;,\n",
              "                                                  Pipeline(steps=[(&#x27;scaler&#x27;,\n",
              "                                                                   StandardScaler())]),\n",
              "                                                  [&#x27;sepal length (cm)&#x27;,\n",
              "                                                   &#x27;petal length (cm)&#x27;,\n",
              "                                                   &#x27;petal width (cm)&#x27;])])),\n",
              "                (&#x27;regressor&#x27;,\n",
              "                 RandomForestRegressor(n_jobs=-1, random_state=42))])</pre></div></div></div><div class=\"sk-serial\"><div class=\"sk-item sk-dashed-wrapped\"><div class=\"sk-label-container\"><div class=\"sk-label sk-toggleable\"><input class=\"sk-toggleable__control sk-hidden--visually\" id=\"6d99bc95-3709-4e8a-a78d-05bf85ccd5d5\" type=\"checkbox\" ><label for=\"6d99bc95-3709-4e8a-a78d-05bf85ccd5d5\" class=\"sk-toggleable__label sk-toggleable__label-arrow\">preprocess: ColumnTransformer</label><div class=\"sk-toggleable__content\"><pre>ColumnTransformer(transformers=[(&#x27;cat&#x27;,\n",
              "                                 Pipeline(steps=[(&#x27;onehot&#x27;, OneHotEncoder())]),\n",
              "                                 [&#x27;class&#x27;]),\n",
              "                                (&#x27;num&#x27;,\n",
              "                                 Pipeline(steps=[(&#x27;scaler&#x27;, StandardScaler())]),\n",
              "                                 [&#x27;sepal length (cm)&#x27;, &#x27;petal length (cm)&#x27;,\n",
              "                                  &#x27;petal width (cm)&#x27;])])</pre></div></div></div><div class=\"sk-parallel\"><div class=\"sk-parallel-item\"><div class=\"sk-item\"><div class=\"sk-label-container\"><div class=\"sk-label sk-toggleable\"><input class=\"sk-toggleable__control sk-hidden--visually\" id=\"73dd3b72-3bd1-4cf0-bff8-f8e9ba8bb9eb\" type=\"checkbox\" ><label for=\"73dd3b72-3bd1-4cf0-bff8-f8e9ba8bb9eb\" class=\"sk-toggleable__label sk-toggleable__label-arrow\">cat</label><div class=\"sk-toggleable__content\"><pre>[&#x27;class&#x27;]</pre></div></div></div><div class=\"sk-serial\"><div class=\"sk-item\"><div class=\"sk-serial\"><div class=\"sk-item\"><div class=\"sk-estimator sk-toggleable\"><input class=\"sk-toggleable__control sk-hidden--visually\" id=\"0f0c7955-6cc0-4efc-81ec-1acf1e3038ea\" type=\"checkbox\" ><label for=\"0f0c7955-6cc0-4efc-81ec-1acf1e3038ea\" class=\"sk-toggleable__label sk-toggleable__label-arrow\">OneHotEncoder</label><div class=\"sk-toggleable__content\"><pre>OneHotEncoder()</pre></div></div></div></div></div></div></div></div><div class=\"sk-parallel-item\"><div class=\"sk-item\"><div class=\"sk-label-container\"><div class=\"sk-label sk-toggleable\"><input class=\"sk-toggleable__control sk-hidden--visually\" id=\"215aa0a7-4f89-43a8-825b-25e146a1061d\" type=\"checkbox\" ><label for=\"215aa0a7-4f89-43a8-825b-25e146a1061d\" class=\"sk-toggleable__label sk-toggleable__label-arrow\">num</label><div class=\"sk-toggleable__content\"><pre>[&#x27;sepal length (cm)&#x27;, &#x27;petal length (cm)&#x27;, &#x27;petal width (cm)&#x27;]</pre></div></div></div><div class=\"sk-serial\"><div class=\"sk-item\"><div class=\"sk-serial\"><div class=\"sk-item\"><div class=\"sk-estimator sk-toggleable\"><input class=\"sk-toggleable__control sk-hidden--visually\" id=\"add0d694-2284-4993-8728-3f9ce0979905\" type=\"checkbox\" ><label for=\"add0d694-2284-4993-8728-3f9ce0979905\" class=\"sk-toggleable__label sk-toggleable__label-arrow\">StandardScaler</label><div class=\"sk-toggleable__content\"><pre>StandardScaler()</pre></div></div></div></div></div></div></div></div></div></div><div class=\"sk-item\"><div class=\"sk-estimator sk-toggleable\"><input class=\"sk-toggleable__control sk-hidden--visually\" id=\"fd427242-74d1-424b-9766-6f69a30ee722\" type=\"checkbox\" ><label for=\"fd427242-74d1-424b-9766-6f69a30ee722\" class=\"sk-toggleable__label sk-toggleable__label-arrow\">RandomForestRegressor</label><div class=\"sk-toggleable__content\"><pre>RandomForestRegressor(n_jobs=-1, random_state=42)</pre></div></div></div></div></div></div></div>"
            ],
            "text/plain": [
              "Pipeline(steps=[('preprocess',\n",
              "                 ColumnTransformer(transformers=[('cat',\n",
              "                                                  Pipeline(steps=[('onehot',\n",
              "                                                                   OneHotEncoder())]),\n",
              "                                                  ['class']),\n",
              "                                                 ('num',\n",
              "                                                  Pipeline(steps=[('scaler',\n",
              "                                                                   StandardScaler())]),\n",
              "                                                  ['sepal length (cm)',\n",
              "                                                   'petal length (cm)',\n",
              "                                                   'petal width (cm)'])])),\n",
              "                ('regressor',\n",
              "                 RandomForestRegressor(n_jobs=-1, random_state=42))])"
            ]
          },
          "metadata": {},
          "execution_count": 24
        }
      ]
    },
    {
      "cell_type": "code",
      "metadata": {
        "id": "6onlZOMeNRCj",
        "colab": {
          "base_uri": "https://localhost:8080/"
        },
        "outputId": "177213f8-0edc-4df2-8568-657569d4a597"
      },
      "source": [
        "from sklearn.metrics import median_absolute_error\n",
        "\n",
        "print(\"train error: %0.3f, test error: %0.3f\" %\n",
        "      (median_absolute_error(y_train, rf.predict(X_train)),\n",
        "       median_absolute_error(y_test, rf.predict(X_test))))"
      ],
      "execution_count": 25,
      "outputs": [
        {
          "output_type": "stream",
          "name": "stdout",
          "text": [
            "train error: 0.060, test error: 0.275\n"
          ]
        }
      ]
    },
    {
      "cell_type": "code",
      "metadata": {
        "scrolled": false,
        "id": "xLGOVM3TNRCs",
        "colab": {
          "base_uri": "https://localhost:8080/",
          "height": 391
        },
        "outputId": "312dee6e-c3bf-4127-96a1-12a6bda7010b"
      },
      "source": [
        "scatter_predictions(rf.predict(X_test), y_test)"
      ],
      "execution_count": 26,
      "outputs": [
        {
          "output_type": "display_data",
          "data": {
            "image/png": "[encoded data removed]",
            "text/plain": [
              "<Figure size 432x432 with 1 Axes>"
            ]
          },
          "metadata": {
            "needs_background": "light"
          }
        }
      ]
    },
    {
      "cell_type": "code",
      "metadata": {
        "id": "EqZqJRZmNRC1",
        "colab": {
          "base_uri": "https://localhost:8080/"
        },
        "outputId": "1ea08588-961d-4ea6-a25a-19d87ba2ea3a"
      },
      "source": [
        "print(\"The hyper-parameters for a random forest model are:\")\n",
        "for param_name in rf.get_params().keys():\n",
        "    print(param_name)"
      ],
      "execution_count": 27,
      "outputs": [
        {
          "output_type": "stream",
          "name": "stdout",
          "text": [
            "The hyper-parameters for a random forest model are:\n",
            "memory\n",
            "steps\n",
            "verbose\n",
            "preprocess\n",
            "regressor\n",
            "preprocess__n_jobs\n",
            "preprocess__remainder\n",
            "preprocess__sparse_threshold\n",
            "preprocess__transformer_weights\n",
            "preprocess__transformers\n",
            "preprocess__verbose\n",
            "preprocess__verbose_feature_names_out\n",
            "preprocess__cat\n",
            "preprocess__num\n",
            "preprocess__cat__memory\n",
            "preprocess__cat__steps\n",
            "preprocess__cat__verbose\n",
            "preprocess__cat__onehot\n",
            "preprocess__cat__onehot__categories\n",
            "preprocess__cat__onehot__drop\n",
            "preprocess__cat__onehot__dtype\n",
            "preprocess__cat__onehot__handle_unknown\n",
            "preprocess__cat__onehot__sparse\n",
            "preprocess__num__memory\n",
            "preprocess__num__steps\n",
            "preprocess__num__verbose\n",
            "preprocess__num__scaler\n",
            "preprocess__num__scaler__copy\n",
            "preprocess__num__scaler__with_mean\n",
            "preprocess__num__scaler__with_std\n",
            "regressor__bootstrap\n",
            "regressor__ccp_alpha\n",
            "regressor__criterion\n",
            "regressor__max_depth\n",
            "regressor__max_features\n",
            "regressor__max_leaf_nodes\n",
            "regressor__max_samples\n",
            "regressor__min_impurity_decrease\n",
            "regressor__min_samples_leaf\n",
            "regressor__min_samples_split\n",
            "regressor__min_weight_fraction_leaf\n",
            "regressor__n_estimators\n",
            "regressor__n_jobs\n",
            "regressor__oob_score\n",
            "regressor__random_state\n",
            "regressor__verbose\n",
            "regressor__warm_start\n"
          ]
        }
      ]
    },
    {
      "cell_type": "code",
      "metadata": {
        "id": "Xeklg8zNNRDA",
        "colab": {
          "base_uri": "https://localhost:8080/",
          "height": 189
        },
        "outputId": "de201765-6f9a-496e-99fc-a35d059be66b"
      },
      "source": [
        "from sklearn.model_selection import GridSearchCV\n",
        "\n",
        "param_grid = {\n",
        "    'regressor__max_features': (2, 3, 4),\n",
        "    'regressor__max_depth': (2, 3, 5),\n",
        "    'regressor__min_samples_leaf': (1, 3, 5),\n",
        "}\n",
        "\n",
        "model_grid_search = GridSearchCV(rf, param_grid=param_grid,\n",
        "                                 n_jobs=-1, cv=3)\n",
        "model_grid_search.fit(X_train, y_train)"
      ],
      "execution_count": 28,
      "outputs": [
        {
          "output_type": "execute_result",
          "data": {
            "text/html": [
              "<style>#sk-8da19ba5-f107-49bb-a45a-56dcf8cb61f2 {color: black;background-color: white;}#sk-8da19ba5-f107-49bb-a45a-56dcf8cb61f2 pre{padding: 0;}#sk-8da19ba5-f107-49bb-a45a-56dcf8cb61f2 div.sk-toggleable {background-color: white;}#sk-8da19ba5-f107-49bb-a45a-56dcf8cb61f2 label.sk-toggleable__label {cursor: pointer;display: block;width: 100%;margin-bottom: 0;padding: 0.3em;box-sizing: border-box;text-align: center;}#sk-8da19ba5-f107-49bb-a45a-56dcf8cb61f2 label.sk-toggleable__label-arrow:before {content: \"▸\";float: left;margin-right: 0.25em;color: #696969;}#sk-8da19ba5-f107-49bb-a45a-56dcf8cb61f2 label.sk-toggleable__label-arrow:hover:before {color: black;}#sk-8da19ba5-f107-49bb-a45a-56dcf8cb61f2 div.sk-estimator:hover label.sk-toggleable__label-arrow:before {color: black;}#sk-8da19ba5-f107-49bb-a45a-56dcf8cb61f2 div.sk-toggleable__content {max-height: 0;max-width: 0;overflow: hidden;text-align: left;background-color: #f0f8ff;}#sk-8da19ba5-f107-49bb-a45a-56dcf8cb61f2 div.sk-toggleable__content pre {margin: 0.2em;color: black;border-radius: 0.25em;background-color: #f0f8ff;}#sk-8da19ba5-f107-49bb-a45a-56dcf8cb61f2 input.sk-toggleable__control:checked~div.sk-toggleable__content {max-height: 200px;max-width: 100%;overflow: auto;}#sk-8da19ba5-f107-49bb-a45a-56dcf8cb61f2 input.sk-toggleable__control:checked~label.sk-toggleable__label-arrow:before {content: \"▾\";}#sk-8da19ba5-f107-49bb-a45a-56dcf8cb61f2 div.sk-estimator input.sk-toggleable__control:checked~label.sk-toggleable__label {background-color: #d4ebff;}#sk-8da19ba5-f107-49bb-a45a-56dcf8cb61f2 div.sk-label input.sk-toggleable__control:checked~label.sk-toggleable__label {background-color: #d4ebff;}#sk-8da19ba5-f107-49bb-a45a-56dcf8cb61f2 input.sk-hidden--visually {border: 0;clip: rect(1px 1px 1px 1px);clip: rect(1px, 1px, 1px, 1px);height: 1px;margin: -1px;overflow: hidden;padding: 0;position: absolute;width: 1px;}#sk-8da19ba5-f107-49bb-a45a-56dcf8cb61f2 div.sk-estimator {font-family: monospace;background-color: #f0f8ff;border: 1px dotted black;border-radius: 0.25em;box-sizing: border-box;margin-bottom: 0.5em;}#sk-8da19ba5-f107-49bb-a45a-56dcf8cb61f2 div.sk-estimator:hover {background-color: #d4ebff;}#sk-8da19ba5-f107-49bb-a45a-56dcf8cb61f2 div.sk-parallel-item::after {content: \"\";width: 100%;border-bottom: 1px solid gray;flex-grow: 1;}#sk-8da19ba5-f107-49bb-a45a-56dcf8cb61f2 div.sk-label:hover label.sk-toggleable__label {background-color: #d4ebff;}#sk-8da19ba5-f107-49bb-a45a-56dcf8cb61f2 div.sk-serial::before {content: \"\";position: absolute;border-left: 1px solid gray;box-sizing: border-box;top: 2em;bottom: 0;left: 50%;}#sk-8da19ba5-f107-49bb-a45a-56dcf8cb61f2 div.sk-serial {display: flex;flex-direction: column;align-items: center;background-color: white;padding-right: 0.2em;padding-left: 0.2em;}#sk-8da19ba5-f107-49bb-a45a-56dcf8cb61f2 div.sk-item {z-index: 1;}#sk-8da19ba5-f107-49bb-a45a-56dcf8cb61f2 div.sk-parallel {display: flex;align-items: stretch;justify-content: center;background-color: white;}#sk-8da19ba5-f107-49bb-a45a-56dcf8cb61f2 div.sk-parallel::before {content: \"\";position: absolute;border-left: 1px solid gray;box-sizing: border-box;top: 2em;bottom: 0;left: 50%;}#sk-8da19ba5-f107-49bb-a45a-56dcf8cb61f2 div.sk-parallel-item {display: flex;flex-direction: column;position: relative;background-color: white;}#sk-8da19ba5-f107-49bb-a45a-56dcf8cb61f2 div.sk-parallel-item:first-child::after {align-self: flex-end;width: 50%;}#sk-8da19ba5-f107-49bb-a45a-56dcf8cb61f2 div.sk-parallel-item:last-child::after {align-self: flex-start;width: 50%;}#sk-8da19ba5-f107-49bb-a45a-56dcf8cb61f2 div.sk-parallel-item:only-child::after {width: 0;}#sk-8da19ba5-f107-49bb-a45a-56dcf8cb61f2 div.sk-dashed-wrapped {border: 1px dashed gray;margin: 0 0.4em 0.5em 0.4em;box-sizing: border-box;padding-bottom: 0.4em;background-color: white;position: relative;}#sk-8da19ba5-f107-49bb-a45a-56dcf8cb61f2 div.sk-label label {font-family: monospace;font-weight: bold;background-color: white;display: inline-block;line-height: 1.2em;}#sk-8da19ba5-f107-49bb-a45a-56dcf8cb61f2 div.sk-label-container {position: relative;z-index: 2;text-align: center;}#sk-8da19ba5-f107-49bb-a45a-56dcf8cb61f2 div.sk-container {/* jupyter's `normalize.less` sets `[hidden] { display: none; }` but bootstrap.min.css set `[hidden] { display: none !important; }` so we also need the `!important` here to be able to override the default hidden behavior on the sphinx rendered scikit-learn.org. See: https://github.com/scikit-learn/scikit-learn/issues/21755 */display: inline-block !important;position: relative;}#sk-8da19ba5-f107-49bb-a45a-56dcf8cb61f2 div.sk-text-repr-fallback {display: none;}</style><div id=\"sk-8da19ba5-f107-49bb-a45a-56dcf8cb61f2\" class=\"sk-top-container\"><div class=\"sk-text-repr-fallback\"><pre>GridSearchCV(cv=3,\n",
              "             estimator=Pipeline(steps=[(&#x27;preprocess&#x27;,\n",
              "                                        ColumnTransformer(transformers=[(&#x27;cat&#x27;,\n",
              "                                                                         Pipeline(steps=[(&#x27;onehot&#x27;,\n",
              "                                                                                          OneHotEncoder())]),\n",
              "                                                                         [&#x27;class&#x27;]),\n",
              "                                                                        (&#x27;num&#x27;,\n",
              "                                                                         Pipeline(steps=[(&#x27;scaler&#x27;,\n",
              "                                                                                          StandardScaler())]),\n",
              "                                                                         [&#x27;sepal &#x27;\n",
              "                                                                          &#x27;length &#x27;\n",
              "                                                                          &#x27;(cm)&#x27;,\n",
              "                                                                          &#x27;petal &#x27;\n",
              "                                                                          &#x27;length &#x27;\n",
              "                                                                          &#x27;(cm)&#x27;,\n",
              "                                                                          &#x27;petal &#x27;\n",
              "                                                                          &#x27;width &#x27;\n",
              "                                                                          &#x27;(cm)&#x27;])])),\n",
              "                                       (&#x27;regressor&#x27;,\n",
              "                                        RandomForestRegressor(n_jobs=-1,\n",
              "                                                              random_state=42))]),\n",
              "             n_jobs=-1,\n",
              "             param_grid={&#x27;regressor__max_depth&#x27;: (2, 3, 5),\n",
              "                         &#x27;regressor__max_features&#x27;: (2, 3, 4),\n",
              "                         &#x27;regressor__min_samples_leaf&#x27;: (1, 3, 5)})</pre><b>Please rerun this cell to show the HTML repr or trust the notebook.</b></div><div class=\"sk-container\" hidden><div class=\"sk-item sk-dashed-wrapped\"><div class=\"sk-label-container\"><div class=\"sk-label sk-toggleable\"><input class=\"sk-toggleable__control sk-hidden--visually\" id=\"13b9b03b-ca6f-419d-974e-27aa8b7d3e68\" type=\"checkbox\" ><label for=\"13b9b03b-ca6f-419d-974e-27aa8b7d3e68\" class=\"sk-toggleable__label sk-toggleable__label-arrow\">GridSearchCV</label><div class=\"sk-toggleable__content\"><pre>GridSearchCV(cv=3,\n",
              "             estimator=Pipeline(steps=[(&#x27;preprocess&#x27;,\n",
              "                                        ColumnTransformer(transformers=[(&#x27;cat&#x27;,\n",
              "                                                                         Pipeline(steps=[(&#x27;onehot&#x27;,\n",
              "                                                                                          OneHotEncoder())]),\n",
              "                                                                         [&#x27;class&#x27;]),\n",
              "                                                                        (&#x27;num&#x27;,\n",
              "                                                                         Pipeline(steps=[(&#x27;scaler&#x27;,\n",
              "                                                                                          StandardScaler())]),\n",
              "                                                                         [&#x27;sepal &#x27;\n",
              "                                                                          &#x27;length &#x27;\n",
              "                                                                          &#x27;(cm)&#x27;,\n",
              "                                                                          &#x27;petal &#x27;\n",
              "                                                                          &#x27;length &#x27;\n",
              "                                                                          &#x27;(cm)&#x27;,\n",
              "                                                                          &#x27;petal &#x27;\n",
              "                                                                          &#x27;width &#x27;\n",
              "                                                                          &#x27;(cm)&#x27;])])),\n",
              "                                       (&#x27;regressor&#x27;,\n",
              "                                        RandomForestRegressor(n_jobs=-1,\n",
              "                                                              random_state=42))]),\n",
              "             n_jobs=-1,\n",
              "             param_grid={&#x27;regressor__max_depth&#x27;: (2, 3, 5),\n",
              "                         &#x27;regressor__max_features&#x27;: (2, 3, 4),\n",
              "                         &#x27;regressor__min_samples_leaf&#x27;: (1, 3, 5)})</pre></div></div></div><div class=\"sk-parallel\"><div class=\"sk-parallel-item\"><div class=\"sk-item\"><div class=\"sk-serial\"><div class=\"sk-item\"><div class=\"sk-serial\"><div class=\"sk-item sk-dashed-wrapped\"><div class=\"sk-label-container\"><div class=\"sk-label sk-toggleable\"><input class=\"sk-toggleable__control sk-hidden--visually\" id=\"8addd60b-02c7-4b33-9eef-250dc0a16614\" type=\"checkbox\" ><label for=\"8addd60b-02c7-4b33-9eef-250dc0a16614\" class=\"sk-toggleable__label sk-toggleable__label-arrow\">preprocess: ColumnTransformer</label><div class=\"sk-toggleable__content\"><pre>ColumnTransformer(transformers=[(&#x27;cat&#x27;,\n",
              "                                 Pipeline(steps=[(&#x27;onehot&#x27;, OneHotEncoder())]),\n",
              "                                 [&#x27;class&#x27;]),\n",
              "                                (&#x27;num&#x27;,\n",
              "                                 Pipeline(steps=[(&#x27;scaler&#x27;, StandardScaler())]),\n",
              "                                 [&#x27;sepal length (cm)&#x27;, &#x27;petal length (cm)&#x27;,\n",
              "                                  &#x27;petal width (cm)&#x27;])])</pre></div></div></div><div class=\"sk-parallel\"><div class=\"sk-parallel-item\"><div class=\"sk-item\"><div class=\"sk-label-container\"><div class=\"sk-label sk-toggleable\"><input class=\"sk-toggleable__control sk-hidden--visually\" id=\"d484af7b-353c-4418-b73f-b244af02276e\" type=\"checkbox\" ><label for=\"d484af7b-353c-4418-b73f-b244af02276e\" class=\"sk-toggleable__label sk-toggleable__label-arrow\">cat</label><div class=\"sk-toggleable__content\"><pre>[&#x27;class&#x27;]</pre></div></div></div><div class=\"sk-serial\"><div class=\"sk-item\"><div class=\"sk-serial\"><div class=\"sk-item\"><div class=\"sk-estimator sk-toggleable\"><input class=\"sk-toggleable__control sk-hidden--visually\" id=\"98d663ef-f5b4-4359-9bfa-474f0c77d0ae\" type=\"checkbox\" ><label for=\"98d663ef-f5b4-4359-9bfa-474f0c77d0ae\" class=\"sk-toggleable__label sk-toggleable__label-arrow\">OneHotEncoder</label><div class=\"sk-toggleable__content\"><pre>OneHotEncoder()</pre></div></div></div></div></div></div></div></div><div class=\"sk-parallel-item\"><div class=\"sk-item\"><div class=\"sk-label-container\"><div class=\"sk-label sk-toggleable\"><input class=\"sk-toggleable__control sk-hidden--visually\" id=\"974dd6ca-3047-4733-a1ef-f909cf643f9f\" type=\"checkbox\" ><label for=\"974dd6ca-3047-4733-a1ef-f909cf643f9f\" class=\"sk-toggleable__label sk-toggleable__label-arrow\">num</label><div class=\"sk-toggleable__content\"><pre>[&#x27;sepal length (cm)&#x27;, &#x27;petal length (cm)&#x27;, &#x27;petal width (cm)&#x27;]</pre></div></div></div><div class=\"sk-serial\"><div class=\"sk-item\"><div class=\"sk-serial\"><div class=\"sk-item\"><div class=\"sk-estimator sk-toggleable\"><input class=\"sk-toggleable__control sk-hidden--visually\" id=\"025437ab-2946-4209-a20a-9757ff96e2ce\" type=\"checkbox\" ><label for=\"025437ab-2946-4209-a20a-9757ff96e2ce\" class=\"sk-toggleable__label sk-toggleable__label-arrow\">StandardScaler</label><div class=\"sk-toggleable__content\"><pre>StandardScaler()</pre></div></div></div></div></div></div></div></div></div></div><div class=\"sk-item\"><div class=\"sk-estimator sk-toggleable\"><input class=\"sk-toggleable__control sk-hidden--visually\" id=\"649f51b5-e3b3-4fab-af0d-522e961159f3\" type=\"checkbox\" ><label for=\"649f51b5-e3b3-4fab-af0d-522e961159f3\" class=\"sk-toggleable__label sk-toggleable__label-arrow\">RandomForestRegressor</label><div class=\"sk-toggleable__content\"><pre>RandomForestRegressor(n_jobs=-1, random_state=42)</pre></div></div></div></div></div></div></div></div></div></div></div></div>"
            ],
            "text/plain": [
              "GridSearchCV(cv=3,\n",
              "             estimator=Pipeline(steps=[('preprocess',\n",
              "                                        ColumnTransformer(transformers=[('cat',\n",
              "                                                                         Pipeline(steps=[('onehot',\n",
              "                                                                                          OneHotEncoder())]),\n",
              "                                                                         ['class']),\n",
              "                                                                        ('num',\n",
              "                                                                         Pipeline(steps=[('scaler',\n",
              "                                                                                          StandardScaler())]),\n",
              "                                                                         ['sepal '\n",
              "                                                                          'length '\n",
              "                                                                          '(cm)',\n",
              "                                                                          'petal '\n",
              "                                                                          'length '\n",
              "                                                                          '(cm)',\n",
              "                                                                          'petal '\n",
              "                                                                          'width '\n",
              "                                                                          '(cm)'])])),\n",
              "                                       ('regressor',\n",
              "                                        RandomForestRegressor(n_jobs=-1,\n",
              "                                                              random_state=42))]),\n",
              "             n_jobs=-1,\n",
              "             param_grid={'regressor__max_depth': (2, 3, 5),\n",
              "                         'regressor__max_features': (2, 3, 4),\n",
              "                         'regressor__min_samples_leaf': (1, 3, 5)})"
            ]
          },
          "metadata": {},
          "execution_count": 28
        }
      ]
    },
    {
      "cell_type": "code",
      "metadata": {
        "id": "T_pgWdWVNRDG",
        "colab": {
          "base_uri": "https://localhost:8080/"
        },
        "outputId": "69edd926-4126-459a-843e-e35f90fd468b"
      },
      "source": [
        "print(\"train error: %0.3f, test error: %0.3f\" %\n",
        "      (median_absolute_error(y_train, model_grid_search.predict(X_train)),\n",
        "       median_absolute_error(y_test, model_grid_search.predict(X_test))))"
      ],
      "execution_count": 29,
      "outputs": [
        {
          "output_type": "stream",
          "name": "stdout",
          "text": [
            "train error: 0.120, test error: 0.201\n"
          ]
        }
      ]
    },
    {
      "cell_type": "code",
      "metadata": {
        "id": "Fmxbr-noNRDL",
        "colab": {
          "base_uri": "https://localhost:8080/"
        },
        "outputId": "88d16b17-973c-44c4-9523-dd6b5a663902"
      },
      "source": [
        "print(f\"The best set of hyperparameters is: \"\n",
        "      f\"{model_grid_search.best_params_}\")"
      ],
      "execution_count": 30,
      "outputs": [
        {
          "output_type": "stream",
          "name": "stdout",
          "text": [
            "The best set of hyperparameters is: {'regressor__max_depth': 5, 'regressor__max_features': 3, 'regressor__min_samples_leaf': 3}\n"
          ]
        }
      ]
    },
    {
      "cell_type": "code",
      "metadata": {
        "id": "28wkVwv2NRDU"
      },
      "source": [
        "rf_best = Pipeline([\n",
        "    ('preprocess', preprocessing),\n",
        "    ('regressor', RandomForestRegressor(\n",
        "        n_estimators=100, max_depth=5, max_features=3, min_samples_leaf=3, n_jobs=-1, random_state=42))\n",
        "])"
      ],
      "execution_count": 31,
      "outputs": []
    },
    {
      "cell_type": "code",
      "metadata": {
        "id": "uvSX8FmHNRDZ",
        "colab": {
          "base_uri": "https://localhost:8080/",
          "height": 188
        },
        "outputId": "7e2e2c28-76a9-4797-de0e-e5436d888232"
      },
      "source": [
        "rf_best.fit(X_train, y_train)"
      ],
      "execution_count": 32,
      "outputs": [
        {
          "output_type": "execute_result",
          "data": {
            "text/html": [
              "<style>#sk-66f8ba8f-c9c3-475b-9e1a-ad3c9a7fe489 {color: black;background-color: white;}#sk-66f8ba8f-c9c3-475b-9e1a-ad3c9a7fe489 pre{padding: 0;}#sk-66f8ba8f-c9c3-475b-9e1a-ad3c9a7fe489 div.sk-toggleable {background-color: white;}#sk-66f8ba8f-c9c3-475b-9e1a-ad3c9a7fe489 label.sk-toggleable__label {cursor: pointer;display: block;width: 100%;margin-bottom: 0;padding: 0.3em;box-sizing: border-box;text-align: center;}#sk-66f8ba8f-c9c3-475b-9e1a-ad3c9a7fe489 label.sk-toggleable__label-arrow:before {content: \"▸\";float: left;margin-right: 0.25em;color: #696969;}#sk-66f8ba8f-c9c3-475b-9e1a-ad3c9a7fe489 label.sk-toggleable__label-arrow:hover:before {color: black;}#sk-66f8ba8f-c9c3-475b-9e1a-ad3c9a7fe489 div.sk-estimator:hover label.sk-toggleable__label-arrow:before {color: black;}#sk-66f8ba8f-c9c3-475b-9e1a-ad3c9a7fe489 div.sk-toggleable__content {max-height: 0;max-width: 0;overflow: hidden;text-align: left;background-color: #f0f8ff;}#sk-66f8ba8f-c9c3-475b-9e1a-ad3c9a7fe489 div.sk-toggleable__content pre {margin: 0.2em;color: black;border-radius: 0.25em;background-color: #f0f8ff;}#sk-66f8ba8f-c9c3-475b-9e1a-ad3c9a7fe489 input.sk-toggleable__control:checked~div.sk-toggleable__content {max-height: 200px;max-width: 100%;overflow: auto;}#sk-66f8ba8f-c9c3-475b-9e1a-ad3c9a7fe489 input.sk-toggleable__control:checked~label.sk-toggleable__label-arrow:before {content: \"▾\";}#sk-66f8ba8f-c9c3-475b-9e1a-ad3c9a7fe489 div.sk-estimator input.sk-toggleable__control:checked~label.sk-toggleable__label {background-color: #d4ebff;}#sk-66f8ba8f-c9c3-475b-9e1a-ad3c9a7fe489 div.sk-label input.sk-toggleable__control:checked~label.sk-toggleable__label {background-color: #d4ebff;}#sk-66f8ba8f-c9c3-475b-9e1a-ad3c9a7fe489 input.sk-hidden--visually {border: 0;clip: rect(1px 1px 1px 1px);clip: rect(1px, 1px, 1px, 1px);height: 1px;margin: -1px;overflow: hidden;padding: 0;position: absolute;width: 1px;}#sk-66f8ba8f-c9c3-475b-9e1a-ad3c9a7fe489 div.sk-estimator {font-family: monospace;background-color: #f0f8ff;border: 1px dotted black;border-radius: 0.25em;box-sizing: border-box;margin-bottom: 0.5em;}#sk-66f8ba8f-c9c3-475b-9e1a-ad3c9a7fe489 div.sk-estimator:hover {background-color: #d4ebff;}#sk-66f8ba8f-c9c3-475b-9e1a-ad3c9a7fe489 div.sk-parallel-item::after {content: \"\";width: 100%;border-bottom: 1px solid gray;flex-grow: 1;}#sk-66f8ba8f-c9c3-475b-9e1a-ad3c9a7fe489 div.sk-label:hover label.sk-toggleable__label {background-color: #d4ebff;}#sk-66f8ba8f-c9c3-475b-9e1a-ad3c9a7fe489 div.sk-serial::before {content: \"\";position: absolute;border-left: 1px solid gray;box-sizing: border-box;top: 2em;bottom: 0;left: 50%;}#sk-66f8ba8f-c9c3-475b-9e1a-ad3c9a7fe489 div.sk-serial {display: flex;flex-direction: column;align-items: center;background-color: white;padding-right: 0.2em;padding-left: 0.2em;}#sk-66f8ba8f-c9c3-475b-9e1a-ad3c9a7fe489 div.sk-item {z-index: 1;}#sk-66f8ba8f-c9c3-475b-9e1a-ad3c9a7fe489 div.sk-parallel {display: flex;align-items: stretch;justify-content: center;background-color: white;}#sk-66f8ba8f-c9c3-475b-9e1a-ad3c9a7fe489 div.sk-parallel::before {content: \"\";position: absolute;border-left: 1px solid gray;box-sizing: border-box;top: 2em;bottom: 0;left: 50%;}#sk-66f8ba8f-c9c3-475b-9e1a-ad3c9a7fe489 div.sk-parallel-item {display: flex;flex-direction: column;position: relative;background-color: white;}#sk-66f8ba8f-c9c3-475b-9e1a-ad3c9a7fe489 div.sk-parallel-item:first-child::after {align-self: flex-end;width: 50%;}#sk-66f8ba8f-c9c3-475b-9e1a-ad3c9a7fe489 div.sk-parallel-item:last-child::after {align-self: flex-start;width: 50%;}#sk-66f8ba8f-c9c3-475b-9e1a-ad3c9a7fe489 div.sk-parallel-item:only-child::after {width: 0;}#sk-66f8ba8f-c9c3-475b-9e1a-ad3c9a7fe489 div.sk-dashed-wrapped {border: 1px dashed gray;margin: 0 0.4em 0.5em 0.4em;box-sizing: border-box;padding-bottom: 0.4em;background-color: white;position: relative;}#sk-66f8ba8f-c9c3-475b-9e1a-ad3c9a7fe489 div.sk-label label {font-family: monospace;font-weight: bold;background-color: white;display: inline-block;line-height: 1.2em;}#sk-66f8ba8f-c9c3-475b-9e1a-ad3c9a7fe489 div.sk-label-container {position: relative;z-index: 2;text-align: center;}#sk-66f8ba8f-c9c3-475b-9e1a-ad3c9a7fe489 div.sk-container {/* jupyter's `normalize.less` sets `[hidden] { display: none; }` but bootstrap.min.css set `[hidden] { display: none !important; }` so we also need the `!important` here to be able to override the default hidden behavior on the sphinx rendered scikit-learn.org. See: https://github.com/scikit-learn/scikit-learn/issues/21755 */display: inline-block !important;position: relative;}#sk-66f8ba8f-c9c3-475b-9e1a-ad3c9a7fe489 div.sk-text-repr-fallback {display: none;}</style><div id=\"sk-66f8ba8f-c9c3-475b-9e1a-ad3c9a7fe489\" class=\"sk-top-container\"><div class=\"sk-text-repr-fallback\"><pre>Pipeline(steps=[(&#x27;preprocess&#x27;,\n",
              "                 ColumnTransformer(transformers=[(&#x27;cat&#x27;,\n",
              "                                                  Pipeline(steps=[(&#x27;onehot&#x27;,\n",
              "                                                                   OneHotEncoder())]),\n",
              "                                                  [&#x27;class&#x27;]),\n",
              "                                                 (&#x27;num&#x27;,\n",
              "                                                  Pipeline(steps=[(&#x27;scaler&#x27;,\n",
              "                                                                   StandardScaler())]),\n",
              "                                                  [&#x27;sepal length (cm)&#x27;,\n",
              "                                                   &#x27;petal length (cm)&#x27;,\n",
              "                                                   &#x27;petal width (cm)&#x27;])])),\n",
              "                (&#x27;regressor&#x27;,\n",
              "                 RandomForestRegressor(max_depth=5, max_features=3,\n",
              "                                       min_samples_leaf=3, n_jobs=-1,\n",
              "                                       random_state=42))])</pre><b>Please rerun this cell to show the HTML repr or trust the notebook.</b></div><div class=\"sk-container\" hidden><div class=\"sk-item sk-dashed-wrapped\"><div class=\"sk-label-container\"><div class=\"sk-label sk-toggleable\"><input class=\"sk-toggleable__control sk-hidden--visually\" id=\"4cfac62e-dbde-4a00-b512-877779db07cf\" type=\"checkbox\" ><label for=\"4cfac62e-dbde-4a00-b512-877779db07cf\" class=\"sk-toggleable__label sk-toggleable__label-arrow\">Pipeline</label><div class=\"sk-toggleable__content\"><pre>Pipeline(steps=[(&#x27;preprocess&#x27;,\n",
              "                 ColumnTransformer(transformers=[(&#x27;cat&#x27;,\n",
              "                                                  Pipeline(steps=[(&#x27;onehot&#x27;,\n",
              "                                                                   OneHotEncoder())]),\n",
              "                                                  [&#x27;class&#x27;]),\n",
              "                                                 (&#x27;num&#x27;,\n",
              "                                                  Pipeline(steps=[(&#x27;scaler&#x27;,\n",
              "                                                                   StandardScaler())]),\n",
              "                                                  [&#x27;sepal length (cm)&#x27;,\n",
              "                                                   &#x27;petal length (cm)&#x27;,\n",
              "                                                   &#x27;petal width (cm)&#x27;])])),\n",
              "                (&#x27;regressor&#x27;,\n",
              "                 RandomForestRegressor(max_depth=5, max_features=3,\n",
              "                                       min_samples_leaf=3, n_jobs=-1,\n",
              "                                       random_state=42))])</pre></div></div></div><div class=\"sk-serial\"><div class=\"sk-item sk-dashed-wrapped\"><div class=\"sk-label-container\"><div class=\"sk-label sk-toggleable\"><input class=\"sk-toggleable__control sk-hidden--visually\" id=\"835b7ac5-9d5a-44a8-82af-e48e9fabb86c\" type=\"checkbox\" ><label for=\"835b7ac5-9d5a-44a8-82af-e48e9fabb86c\" class=\"sk-toggleable__label sk-toggleable__label-arrow\">preprocess: ColumnTransformer</label><div class=\"sk-toggleable__content\"><pre>ColumnTransformer(transformers=[(&#x27;cat&#x27;,\n",
              "                                 Pipeline(steps=[(&#x27;onehot&#x27;, OneHotEncoder())]),\n",
              "                                 [&#x27;class&#x27;]),\n",
              "                                (&#x27;num&#x27;,\n",
              "                                 Pipeline(steps=[(&#x27;scaler&#x27;, StandardScaler())]),\n",
              "                                 [&#x27;sepal length (cm)&#x27;, &#x27;petal length (cm)&#x27;,\n",
              "                                  &#x27;petal width (cm)&#x27;])])</pre></div></div></div><div class=\"sk-parallel\"><div class=\"sk-parallel-item\"><div class=\"sk-item\"><div class=\"sk-label-container\"><div class=\"sk-label sk-toggleable\"><input class=\"sk-toggleable__control sk-hidden--visually\" id=\"46d14bd5-8d62-43f0-96e1-39e076824f9b\" type=\"checkbox\" ><label for=\"46d14bd5-8d62-43f0-96e1-39e076824f9b\" class=\"sk-toggleable__label sk-toggleable__label-arrow\">cat</label><div class=\"sk-toggleable__content\"><pre>[&#x27;class&#x27;]</pre></div></div></div><div class=\"sk-serial\"><div class=\"sk-item\"><div class=\"sk-serial\"><div class=\"sk-item\"><div class=\"sk-estimator sk-toggleable\"><input class=\"sk-toggleable__control sk-hidden--visually\" id=\"0391b647-a0a3-454a-b23c-2337c1560855\" type=\"checkbox\" ><label for=\"0391b647-a0a3-454a-b23c-2337c1560855\" class=\"sk-toggleable__label sk-toggleable__label-arrow\">OneHotEncoder</label><div class=\"sk-toggleable__content\"><pre>OneHotEncoder()</pre></div></div></div></div></div></div></div></div><div class=\"sk-parallel-item\"><div class=\"sk-item\"><div class=\"sk-label-container\"><div class=\"sk-label sk-toggleable\"><input class=\"sk-toggleable__control sk-hidden--visually\" id=\"8a8980e9-72f7-4994-a437-b73119897178\" type=\"checkbox\" ><label for=\"8a8980e9-72f7-4994-a437-b73119897178\" class=\"sk-toggleable__label sk-toggleable__label-arrow\">num</label><div class=\"sk-toggleable__content\"><pre>[&#x27;sepal length (cm)&#x27;, &#x27;petal length (cm)&#x27;, &#x27;petal width (cm)&#x27;]</pre></div></div></div><div class=\"sk-serial\"><div class=\"sk-item\"><div class=\"sk-serial\"><div class=\"sk-item\"><div class=\"sk-estimator sk-toggleable\"><input class=\"sk-toggleable__control sk-hidden--visually\" id=\"d7600389-a124-4323-a2ea-b36600ffa431\" type=\"checkbox\" ><label for=\"d7600389-a124-4323-a2ea-b36600ffa431\" class=\"sk-toggleable__label sk-toggleable__label-arrow\">StandardScaler</label><div class=\"sk-toggleable__content\"><pre>StandardScaler()</pre></div></div></div></div></div></div></div></div></div></div><div class=\"sk-item\"><div class=\"sk-estimator sk-toggleable\"><input class=\"sk-toggleable__control sk-hidden--visually\" id=\"4dffdadb-a8e2-430e-b866-80140c598710\" type=\"checkbox\" ><label for=\"4dffdadb-a8e2-430e-b866-80140c598710\" class=\"sk-toggleable__label sk-toggleable__label-arrow\">RandomForestRegressor</label><div class=\"sk-toggleable__content\"><pre>RandomForestRegressor(max_depth=5, max_features=3, min_samples_leaf=3,\n",
              "                      n_jobs=-1, random_state=42)</pre></div></div></div></div></div></div></div>"
            ],
            "text/plain": [
              "Pipeline(steps=[('preprocess',\n",
              "                 ColumnTransformer(transformers=[('cat',\n",
              "                                                  Pipeline(steps=[('onehot',\n",
              "                                                                   OneHotEncoder())]),\n",
              "                                                  ['class']),\n",
              "                                                 ('num',\n",
              "                                                  Pipeline(steps=[('scaler',\n",
              "                                                                   StandardScaler())]),\n",
              "                                                  ['sepal length (cm)',\n",
              "                                                   'petal length (cm)',\n",
              "                                                   'petal width (cm)'])])),\n",
              "                ('regressor',\n",
              "                 RandomForestRegressor(max_depth=5, max_features=3,\n",
              "                                       min_samples_leaf=3, n_jobs=-1,\n",
              "                                       random_state=42))])"
            ]
          },
          "metadata": {},
          "execution_count": 32
        }
      ]
    },
    {
      "cell_type": "code",
      "metadata": {
        "id": "5Xryqy6lNRDh",
        "colab": {
          "base_uri": "https://localhost:8080/"
        },
        "outputId": "6d7e2413-423c-4f4a-c4a8-5921a807297b"
      },
      "source": [
        "print(\"train error: %0.3f, test error: %0.3f\" %\n",
        "      (median_absolute_error(y_train, rf_best.predict(X_train)),\n",
        "       median_absolute_error(y_test, rf_best.predict(X_test))))"
      ],
      "execution_count": 33,
      "outputs": [
        {
          "output_type": "stream",
          "name": "stdout",
          "text": [
            "train error: 0.120, test error: 0.201\n"
          ]
        }
      ]
    },
    {
      "cell_type": "code",
      "metadata": {
        "id": "qNNb1Y20NRDp",
        "colab": {
          "base_uri": "https://localhost:8080/",
          "height": 441
        },
        "outputId": "f7c9f204-7970-4891-f529-ffbd575284ac"
      },
      "source": [
        "boxplot_pi(rf_best, X_test, y_test)"
      ],
      "execution_count": 34,
      "outputs": [
        {
          "output_type": "display_data",
          "data": {
            "image/png": "[encoded data removed]",
            "text/plain": [
              "<Figure size 576x432 with 1 Axes>"
            ]
          },
          "metadata": {
            "needs_background": "light"
          }
        }
      ]
    },
    {
      "cell_type": "code",
      "metadata": {
        "id": "YwBRvKpMPap_"
      },
      "source": [
        ""
      ],
      "execution_count": 34,
      "outputs": []
    }
  ]
}