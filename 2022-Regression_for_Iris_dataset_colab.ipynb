{
  "nbformat": 4,
  "nbformat_minor": 0,
  "metadata": {
    "kernelspec": {
      "display_name": "Python 3",
      "language": "python",
      "name": "python3"
    },
    "language_info": {
      "codemirror_mode": {
        "name": "ipython",
        "version": 3
      },
      "file_extension": ".py",
      "mimetype": "text/x-python",
      "name": "python",
      "nbconvert_exporter": "python",
      "pygments_lexer": "ipython3",
      "version": "3.8.2"
    },
    "colab": {
      "name": "Regression-for-Iris-dataset-colab.ipynb",
      "provenance": [],
      "collapsed_sections": [],
      "include_colab_link": true
    }
  },
  "cells": [
    {
      "cell_type": "markdown",
      "metadata": {
        "id": "view-in-github",
        "colab_type": "text"
      },
      "source": [
        "<a href=\"https://colab.research.google.com/github/alonsosilvaallende/Random-forest-regressor-Iris-dataset/blob/master/2022-Regression_for_Iris_dataset_colab.ipynb\" target=\"_parent\"><img src=\"https://colab.research.google.com/assets/colab-badge.svg\" alt=\"Open In Colab\"/></a>"
      ]
    },
    {
      "cell_type": "markdown",
      "metadata": {
        "id": "VCV1UZu-NTgr"
      },
      "source": [
        "# Regression for Iris dataset with 'sepal width' as the target"
      ]
    },
    {
      "cell_type": "code",
      "metadata": {
        "id": "vVdIF-vCOYWB",
        "colab": {
          "base_uri": "https://localhost:8080/",
          "height": 36
        },
        "outputId": "94f0f34c-5506-46d9-dc85-8483b6980253"
      },
      "source": [
        "import sklearn\n",
        "\n",
        "sklearn.__version__ "
      ],
      "execution_count": 1,
      "outputs": [
        {
          "output_type": "execute_result",
          "data": {
            "application/vnd.google.colaboratory.intrinsic+json": {
              "type": "string"
            },
            "text/plain": [
              "'1.0.2'"
            ]
          },
          "metadata": {},
          "execution_count": 1
        }
      ]
    },
    {
      "cell_type": "code",
      "metadata": {
        "id": "9ypieMc3NQ-M"
      },
      "source": [
        "import numpy as np\n",
        "import pandas as pd\n",
        "import matplotlib.pyplot as plt"
      ],
      "execution_count": 2,
      "outputs": []
    },
    {
      "cell_type": "code",
      "metadata": {
        "id": "-atdbdkNNQ-i"
      },
      "source": [
        "from sklearn.datasets import load_iris\n",
        "\n",
        "iris = load_iris()"
      ],
      "execution_count": 3,
      "outputs": []
    },
    {
      "cell_type": "code",
      "metadata": {
        "scrolled": false,
        "id": "o-LwD0hQNQ-4",
        "colab": {
          "base_uri": "https://localhost:8080/"
        },
        "outputId": "cd644630-defe-47fd-f053-bf2f07c735e9"
      },
      "source": [
        "print(iris.DESCR)"
      ],
      "execution_count": 4,
      "outputs": [
        {
          "output_type": "stream",
          "name": "stdout",
          "text": [
            ".. _iris_dataset:\n",
            "\n",
            "Iris plants dataset\n",
            "--------------------\n",
            "\n",
            "**Data Set Characteristics:**\n",
            "\n",
            "    :Number of Instances: 150 (50 in each of three classes)\n",
            "    :Number of Attributes: 4 numeric, predictive attributes and the class\n",
            "    :Attribute Information:\n",
            "        - sepal length in cm\n",
            "        - sepal width in cm\n",
            "        - petal length in cm\n",
            "        - petal width in cm\n",
            "        - class:\n",
            "                - Iris-Setosa\n",
            "                - Iris-Versicolour\n",
            "                - Iris-Virginica\n",
            "                \n",
            "    :Summary Statistics:\n",
            "\n",
            "    ============== ==== ==== ======= ===== ====================\n",
            "                    Min  Max   Mean    SD   Class Correlation\n",
            "    ============== ==== ==== ======= ===== ====================\n",
            "    sepal length:   4.3  7.9   5.84   0.83    0.7826\n",
            "    sepal width:    2.0  4.4   3.05   0.43   -0.4194\n",
            "    petal length:   1.0  6.9   3.76   1.76    0.9490  (high!)\n",
            "    petal width:    0.1  2.5   1.20   0.76    0.9565  (high!)\n",
            "    ============== ==== ==== ======= ===== ====================\n",
            "\n",
            "    :Missing Attribute Values: None\n",
            "    :Class Distribution: 33.3% for each of 3 classes.\n",
            "    :Creator: R.A. Fisher\n",
            "    :Donor: Michael Marshall (MARSHALL%PLU@io.arc.nasa.gov)\n",
            "    :Date: July, 1988\n",
            "\n",
            "The famous Iris database, first used by Sir R.A. Fisher. The dataset is taken\n",
            "from Fisher's paper. Note that it's the same as in R, but not as in the UCI\n",
            "Machine Learning Repository, which has two wrong data points.\n",
            "\n",
            "This is perhaps the best known database to be found in the\n",
            "pattern recognition literature.  Fisher's paper is a classic in the field and\n",
            "is referenced frequently to this day.  (See Duda & Hart, for example.)  The\n",
            "data set contains 3 classes of 50 instances each, where each class refers to a\n",
            "type of iris plant.  One class is linearly separable from the other 2; the\n",
            "latter are NOT linearly separable from each other.\n",
            "\n",
            ".. topic:: References\n",
            "\n",
            "   - Fisher, R.A. \"The use of multiple measurements in taxonomic problems\"\n",
            "     Annual Eugenics, 7, Part II, 179-188 (1936); also in \"Contributions to\n",
            "     Mathematical Statistics\" (John Wiley, NY, 1950).\n",
            "   - Duda, R.O., & Hart, P.E. (1973) Pattern Classification and Scene Analysis.\n",
            "     (Q327.D83) John Wiley & Sons.  ISBN 0-471-22361-1.  See page 218.\n",
            "   - Dasarathy, B.V. (1980) \"Nosing Around the Neighborhood: A New System\n",
            "     Structure and Classification Rule for Recognition in Partially Exposed\n",
            "     Environments\".  IEEE Transactions on Pattern Analysis and Machine\n",
            "     Intelligence, Vol. PAMI-2, No. 1, 67-71.\n",
            "   - Gates, G.W. (1972) \"The Reduced Nearest Neighbor Rule\".  IEEE Transactions\n",
            "     on Information Theory, May 1972, 431-433.\n",
            "   - See also: 1988 MLC Proceedings, 54-64.  Cheeseman et al\"s AUTOCLASS II\n",
            "     conceptual clustering system finds 3 classes in the data.\n",
            "   - Many, many more ...\n"
          ]
        }
      ]
    },
    {
      "cell_type": "code",
      "metadata": {
        "id": "SAFiuZC9NQ_J"
      },
      "source": [
        "df_raw = pd.DataFrame(iris.data, columns=iris.feature_names)"
      ],
      "execution_count": 5,
      "outputs": []
    },
    {
      "cell_type": "code",
      "metadata": {
        "id": "CsY0B4yBNQ_Q",
        "colab": {
          "base_uri": "https://localhost:8080/",
          "height": 206
        },
        "outputId": "8387255e-2205-4684-d5f2-18d70c879c9e"
      },
      "source": [
        "df_raw.head()"
      ],
      "execution_count": 6,
      "outputs": [
        {
          "output_type": "execute_result",
          "data": {
            "text/html": [
              "\n",
              "  <div id=\"df-0ee6a651-6b6f-472a-aadc-30e98554cec9\">\n",
              "    <div class=\"colab-df-container\">\n",
              "      <div>\n",
              "<style scoped>\n",
              "    .dataframe tbody tr th:only-of-type {\n",
              "        vertical-align: middle;\n",
              "    }\n",
              "\n",
              "    .dataframe tbody tr th {\n",
              "        vertical-align: top;\n",
              "    }\n",
              "\n",
              "    .dataframe thead th {\n",
              "        text-align: right;\n",
              "    }\n",
              "</style>\n",
              "<table border=\"1\" class=\"dataframe\">\n",
              "  <thead>\n",
              "    <tr style=\"text-align: right;\">\n",
              "      <th></th>\n",
              "      <th>sepal length (cm)</th>\n",
              "      <th>sepal width (cm)</th>\n",
              "      <th>petal length (cm)</th>\n",
              "      <th>petal width (cm)</th>\n",
              "    </tr>\n",
              "  </thead>\n",
              "  <tbody>\n",
              "    <tr>\n",
              "      <th>0</th>\n",
              "      <td>5.1</td>\n",
              "      <td>3.5</td>\n",
              "      <td>1.4</td>\n",
              "      <td>0.2</td>\n",
              "    </tr>\n",
              "    <tr>\n",
              "      <th>1</th>\n",
              "      <td>4.9</td>\n",
              "      <td>3.0</td>\n",
              "      <td>1.4</td>\n",
              "      <td>0.2</td>\n",
              "    </tr>\n",
              "    <tr>\n",
              "      <th>2</th>\n",
              "      <td>4.7</td>\n",
              "      <td>3.2</td>\n",
              "      <td>1.3</td>\n",
              "      <td>0.2</td>\n",
              "    </tr>\n",
              "    <tr>\n",
              "      <th>3</th>\n",
              "      <td>4.6</td>\n",
              "      <td>3.1</td>\n",
              "      <td>1.5</td>\n",
              "      <td>0.2</td>\n",
              "    </tr>\n",
              "    <tr>\n",
              "      <th>4</th>\n",
              "      <td>5.0</td>\n",
              "      <td>3.6</td>\n",
              "      <td>1.4</td>\n",
              "      <td>0.2</td>\n",
              "    </tr>\n",
              "  </tbody>\n",
              "</table>\n",
              "</div>\n",
              "      <button class=\"colab-df-convert\" onclick=\"convertToInteractive('df-0ee6a651-6b6f-472a-aadc-30e98554cec9')\"\n",
              "              title=\"Convert this dataframe to an interactive table.\"\n",
              "              style=\"display:none;\">\n",
              "        \n",
              "  <svg xmlns=\"http://www.w3.org/2000/svg\" height=\"24px\"viewBox=\"0 0 24 24\"\n",
              "       width=\"24px\">\n",
              "    <path d=\"M0 0h24v24H0V0z\" fill=\"none\"/>\n",
              "    <path d=\"M18.56 5.44l.94 2.06.94-2.06 2.06-.94-2.06-.94-.94-2.06-.94 2.06-2.06.94zm-11 1L8.5 8.5l.94-2.06 2.06-.94-2.06-.94L8.5 2.5l-.94 2.06-2.06.94zm10 10l.94 2.06.94-2.06 2.06-.94-2.06-.94-.94-2.06-.94 2.06-2.06.94z\"/><path d=\"M17.41 7.96l-1.37-1.37c-.4-.4-.92-.59-1.43-.59-.52 0-1.04.2-1.43.59L10.3 9.45l-7.72 7.72c-.78.78-.78 2.05 0 2.83L4 21.41c.39.39.9.59 1.41.59.51 0 1.02-.2 1.41-.59l7.78-7.78 2.81-2.81c.8-.78.8-2.07 0-2.86zM5.41 20L4 18.59l7.72-7.72 1.47 1.35L5.41 20z\"/>\n",
              "  </svg>\n",
              "      </button>\n",
              "      \n",
              "  <style>\n",
              "    .colab-df-container {\n",
              "      display:flex;\n",
              "      flex-wrap:wrap;\n",
              "      gap: 12px;\n",
              "    }\n",
              "\n",
              "    .colab-df-convert {\n",
              "      background-color: #E8F0FE;\n",
              "      border: none;\n",
              "      border-radius: 50%;\n",
              "      cursor: pointer;\n",
              "      display: none;\n",
              "      fill: #1967D2;\n",
              "      height: 32px;\n",
              "      padding: 0 0 0 0;\n",
              "      width: 32px;\n",
              "    }\n",
              "\n",
              "    .colab-df-convert:hover {\n",
              "      background-color: #E2EBFA;\n",
              "      box-shadow: 0px 1px 2px rgba(60, 64, 67, 0.3), 0px 1px 3px 1px rgba(60, 64, 67, 0.15);\n",
              "      fill: #174EA6;\n",
              "    }\n",
              "\n",
              "    [theme=dark] .colab-df-convert {\n",
              "      background-color: #3B4455;\n",
              "      fill: #D2E3FC;\n",
              "    }\n",
              "\n",
              "    [theme=dark] .colab-df-convert:hover {\n",
              "      background-color: #434B5C;\n",
              "      box-shadow: 0px 1px 3px 1px rgba(0, 0, 0, 0.15);\n",
              "      filter: drop-shadow(0px 1px 2px rgba(0, 0, 0, 0.3));\n",
              "      fill: #FFFFFF;\n",
              "    }\n",
              "  </style>\n",
              "\n",
              "      <script>\n",
              "        const buttonEl =\n",
              "          document.querySelector('#df-0ee6a651-6b6f-472a-aadc-30e98554cec9 button.colab-df-convert');\n",
              "        buttonEl.style.display =\n",
              "          google.colab.kernel.accessAllowed ? 'block' : 'none';\n",
              "\n",
              "        async function convertToInteractive(key) {\n",
              "          const element = document.querySelector('#df-0ee6a651-6b6f-472a-aadc-30e98554cec9');\n",
              "          const dataTable =\n",
              "            await google.colab.kernel.invokeFunction('convertToInteractive',\n",
              "                                                     [key], {});\n",
              "          if (!dataTable) return;\n",
              "\n",
              "          const docLinkHtml = 'Like what you see? Visit the ' +\n",
              "            '<a target=\"_blank\" href=https://colab.research.google.com/notebooks/data_table.ipynb>data table notebook</a>'\n",
              "            + ' to learn more about interactive tables.';\n",
              "          element.innerHTML = '';\n",
              "          dataTable['output_type'] = 'display_data';\n",
              "          await google.colab.output.renderOutput(dataTable, element);\n",
              "          const docLink = document.createElement('div');\n",
              "          docLink.innerHTML = docLinkHtml;\n",
              "          element.appendChild(docLink);\n",
              "        }\n",
              "      </script>\n",
              "    </div>\n",
              "  </div>\n",
              "  "
            ],
            "text/plain": [
              "   sepal length (cm)  sepal width (cm)  petal length (cm)  petal width (cm)\n",
              "0                5.1               3.5                1.4               0.2\n",
              "1                4.9               3.0                1.4               0.2\n",
              "2                4.7               3.2                1.3               0.2\n",
              "3                4.6               3.1                1.5               0.2\n",
              "4                5.0               3.6                1.4               0.2"
            ]
          },
          "metadata": {},
          "execution_count": 6
        }
      ]
    },
    {
      "cell_type": "code",
      "metadata": {
        "id": "e0HkoLYYNQ_f"
      },
      "source": [
        "df_raw['class'] = iris.target"
      ],
      "execution_count": 7,
      "outputs": []
    },
    {
      "cell_type": "code",
      "metadata": {
        "scrolled": true,
        "id": "4VnvL9R_NQ_u",
        "colab": {
          "base_uri": "https://localhost:8080/",
          "height": 206
        },
        "outputId": "cacb6694-35b7-4c89-9464-8dd98975559b"
      },
      "source": [
        "df_raw.head()"
      ],
      "execution_count": 8,
      "outputs": [
        {
          "output_type": "execute_result",
          "data": {
            "text/html": [
              "\n",
              "  <div id=\"df-f7a56d46-b8d7-4e7b-af87-dcaf558c589b\">\n",
              "    <div class=\"colab-df-container\">\n",
              "      <div>\n",
              "<style scoped>\n",
              "    .dataframe tbody tr th:only-of-type {\n",
              "        vertical-align: middle;\n",
              "    }\n",
              "\n",
              "    .dataframe tbody tr th {\n",
              "        vertical-align: top;\n",
              "    }\n",
              "\n",
              "    .dataframe thead th {\n",
              "        text-align: right;\n",
              "    }\n",
              "</style>\n",
              "<table border=\"1\" class=\"dataframe\">\n",
              "  <thead>\n",
              "    <tr style=\"text-align: right;\">\n",
              "      <th></th>\n",
              "      <th>sepal length (cm)</th>\n",
              "      <th>sepal width (cm)</th>\n",
              "      <th>petal length (cm)</th>\n",
              "      <th>petal width (cm)</th>\n",
              "      <th>class</th>\n",
              "    </tr>\n",
              "  </thead>\n",
              "  <tbody>\n",
              "    <tr>\n",
              "      <th>0</th>\n",
              "      <td>5.1</td>\n",
              "      <td>3.5</td>\n",
              "      <td>1.4</td>\n",
              "      <td>0.2</td>\n",
              "      <td>0</td>\n",
              "    </tr>\n",
              "    <tr>\n",
              "      <th>1</th>\n",
              "      <td>4.9</td>\n",
              "      <td>3.0</td>\n",
              "      <td>1.4</td>\n",
              "      <td>0.2</td>\n",
              "      <td>0</td>\n",
              "    </tr>\n",
              "    <tr>\n",
              "      <th>2</th>\n",
              "      <td>4.7</td>\n",
              "      <td>3.2</td>\n",
              "      <td>1.3</td>\n",
              "      <td>0.2</td>\n",
              "      <td>0</td>\n",
              "    </tr>\n",
              "    <tr>\n",
              "      <th>3</th>\n",
              "      <td>4.6</td>\n",
              "      <td>3.1</td>\n",
              "      <td>1.5</td>\n",
              "      <td>0.2</td>\n",
              "      <td>0</td>\n",
              "    </tr>\n",
              "    <tr>\n",
              "      <th>4</th>\n",
              "      <td>5.0</td>\n",
              "      <td>3.6</td>\n",
              "      <td>1.4</td>\n",
              "      <td>0.2</td>\n",
              "      <td>0</td>\n",
              "    </tr>\n",
              "  </tbody>\n",
              "</table>\n",
              "</div>\n",
              "      <button class=\"colab-df-convert\" onclick=\"convertToInteractive('df-f7a56d46-b8d7-4e7b-af87-dcaf558c589b')\"\n",
              "              title=\"Convert this dataframe to an interactive table.\"\n",
              "              style=\"display:none;\">\n",
              "        \n",
              "  <svg xmlns=\"http://www.w3.org/2000/svg\" height=\"24px\"viewBox=\"0 0 24 24\"\n",
              "       width=\"24px\">\n",
              "    <path d=\"M0 0h24v24H0V0z\" fill=\"none\"/>\n",
              "    <path d=\"M18.56 5.44l.94 2.06.94-2.06 2.06-.94-2.06-.94-.94-2.06-.94 2.06-2.06.94zm-11 1L8.5 8.5l.94-2.06 2.06-.94-2.06-.94L8.5 2.5l-.94 2.06-2.06.94zm10 10l.94 2.06.94-2.06 2.06-.94-2.06-.94-.94-2.06-.94 2.06-2.06.94z\"/><path d=\"M17.41 7.96l-1.37-1.37c-.4-.4-.92-.59-1.43-.59-.52 0-1.04.2-1.43.59L10.3 9.45l-7.72 7.72c-.78.78-.78 2.05 0 2.83L4 21.41c.39.39.9.59 1.41.59.51 0 1.02-.2 1.41-.59l7.78-7.78 2.81-2.81c.8-.78.8-2.07 0-2.86zM5.41 20L4 18.59l7.72-7.72 1.47 1.35L5.41 20z\"/>\n",
              "  </svg>\n",
              "      </button>\n",
              "      \n",
              "  <style>\n",
              "    .colab-df-container {\n",
              "      display:flex;\n",
              "      flex-wrap:wrap;\n",
              "      gap: 12px;\n",
              "    }\n",
              "\n",
              "    .colab-df-convert {\n",
              "      background-color: #E8F0FE;\n",
              "      border: none;\n",
              "      border-radius: 50%;\n",
              "      cursor: pointer;\n",
              "      display: none;\n",
              "      fill: #1967D2;\n",
              "      height: 32px;\n",
              "      padding: 0 0 0 0;\n",
              "      width: 32px;\n",
              "    }\n",
              "\n",
              "    .colab-df-convert:hover {\n",
              "      background-color: #E2EBFA;\n",
              "      box-shadow: 0px 1px 2px rgba(60, 64, 67, 0.3), 0px 1px 3px 1px rgba(60, 64, 67, 0.15);\n",
              "      fill: #174EA6;\n",
              "    }\n",
              "\n",
              "    [theme=dark] .colab-df-convert {\n",
              "      background-color: #3B4455;\n",
              "      fill: #D2E3FC;\n",
              "    }\n",
              "\n",
              "    [theme=dark] .colab-df-convert:hover {\n",
              "      background-color: #434B5C;\n",
              "      box-shadow: 0px 1px 3px 1px rgba(0, 0, 0, 0.15);\n",
              "      filter: drop-shadow(0px 1px 2px rgba(0, 0, 0, 0.3));\n",
              "      fill: #FFFFFF;\n",
              "    }\n",
              "  </style>\n",
              "\n",
              "      <script>\n",
              "        const buttonEl =\n",
              "          document.querySelector('#df-f7a56d46-b8d7-4e7b-af87-dcaf558c589b button.colab-df-convert');\n",
              "        buttonEl.style.display =\n",
              "          google.colab.kernel.accessAllowed ? 'block' : 'none';\n",
              "\n",
              "        async function convertToInteractive(key) {\n",
              "          const element = document.querySelector('#df-f7a56d46-b8d7-4e7b-af87-dcaf558c589b');\n",
              "          const dataTable =\n",
              "            await google.colab.kernel.invokeFunction('convertToInteractive',\n",
              "                                                     [key], {});\n",
              "          if (!dataTable) return;\n",
              "\n",
              "          const docLinkHtml = 'Like what you see? Visit the ' +\n",
              "            '<a target=\"_blank\" href=https://colab.research.google.com/notebooks/data_table.ipynb>data table notebook</a>'\n",
              "            + ' to learn more about interactive tables.';\n",
              "          element.innerHTML = '';\n",
              "          dataTable['output_type'] = 'display_data';\n",
              "          await google.colab.output.renderOutput(dataTable, element);\n",
              "          const docLink = document.createElement('div');\n",
              "          docLink.innerHTML = docLinkHtml;\n",
              "          element.appendChild(docLink);\n",
              "        }\n",
              "      </script>\n",
              "    </div>\n",
              "  </div>\n",
              "  "
            ],
            "text/plain": [
              "   sepal length (cm)  sepal width (cm)  ...  petal width (cm)  class\n",
              "0                5.1               3.5  ...               0.2      0\n",
              "1                4.9               3.0  ...               0.2      0\n",
              "2                4.7               3.2  ...               0.2      0\n",
              "3                4.6               3.1  ...               0.2      0\n",
              "4                5.0               3.6  ...               0.2      0\n",
              "\n",
              "[5 rows x 5 columns]"
            ]
          },
          "metadata": {},
          "execution_count": 8
        }
      ]
    },
    {
      "cell_type": "code",
      "metadata": {
        "id": "ZAthwy2MNQ_3",
        "colab": {
          "base_uri": "https://localhost:8080/"
        },
        "outputId": "76331ca6-163c-4a1d-f1c9-9ee948a4b083"
      },
      "source": [
        "df_raw['class'].unique()"
      ],
      "execution_count": 9,
      "outputs": [
        {
          "output_type": "execute_result",
          "data": {
            "text/plain": [
              "array([0, 1, 2])"
            ]
          },
          "metadata": {},
          "execution_count": 9
        }
      ]
    },
    {
      "cell_type": "code",
      "metadata": {
        "id": "d0MYo8ixNRAA"
      },
      "source": [
        "from sklearn.model_selection import train_test_split\n",
        "\n",
        "X_train, X_test, y_train, y_test = train_test_split(\n",
        "    df_raw.drop(columns='sepal width (cm)'), df_raw['sepal width (cm)'], random_state=42)"
      ],
      "execution_count": 10,
      "outputs": []
    },
    {
      "cell_type": "code",
      "metadata": {
        "id": "nY28r0Z6NRAK",
        "colab": {
          "base_uri": "https://localhost:8080/"
        },
        "outputId": "653cb914-97f9-4be0-a2ba-32586a1828d6"
      },
      "source": [
        "X_train.columns"
      ],
      "execution_count": 11,
      "outputs": [
        {
          "output_type": "execute_result",
          "data": {
            "text/plain": [
              "Index(['sepal length (cm)', 'petal length (cm)', 'petal width (cm)', 'class'], dtype='object')"
            ]
          },
          "metadata": {},
          "execution_count": 11
        }
      ]
    },
    {
      "cell_type": "code",
      "metadata": {
        "id": "TSYfiyqPNRAT",
        "colab": {
          "base_uri": "https://localhost:8080/",
          "height": 36
        },
        "outputId": "eaccd32d-69c3-4839-e994-f229a3489d57"
      },
      "source": [
        "y_train.name"
      ],
      "execution_count": 12,
      "outputs": [
        {
          "output_type": "execute_result",
          "data": {
            "application/vnd.google.colaboratory.intrinsic+json": {
              "type": "string"
            },
            "text/plain": [
              "'sepal width (cm)'"
            ]
          },
          "metadata": {},
          "execution_count": 12
        }
      ]
    },
    {
      "cell_type": "code",
      "metadata": {
        "id": "_Nn9wkJINRAj"
      },
      "source": [
        "categorical_columns = ['class']\n",
        "numerical_columns = ['sepal length (cm)', 'petal length (cm)', 'petal width (cm)']"
      ],
      "execution_count": 13,
      "outputs": []
    },
    {
      "cell_type": "code",
      "metadata": {
        "id": "SHNFVFSCNRAt"
      },
      "source": [
        "from sklearn.pipeline import Pipeline\n",
        "from sklearn.preprocessing import OneHotEncoder\n",
        "\n",
        "categorical_pipe = Pipeline([\n",
        "    ('onehot', OneHotEncoder())\n",
        "])"
      ],
      "execution_count": 14,
      "outputs": []
    },
    {
      "cell_type": "code",
      "metadata": {
        "id": "DZIhlDdKNRA8"
      },
      "source": [
        "from sklearn.preprocessing import StandardScaler\n",
        "\n",
        "numerical_pipe = Pipeline([\n",
        "    ('scaler', StandardScaler())\n",
        "])"
      ],
      "execution_count": 15,
      "outputs": []
    },
    {
      "cell_type": "code",
      "metadata": {
        "id": "RwfiM8TKNRBD"
      },
      "source": [
        "from sklearn.compose import ColumnTransformer\n",
        "\n",
        "preprocessing = ColumnTransformer(\n",
        "    [('cat', categorical_pipe, categorical_columns),\n",
        "     ('num', numerical_pipe, numerical_columns)])"
      ],
      "execution_count": 16,
      "outputs": []
    },
    {
      "cell_type": "code",
      "source": [
        "from sklearn.neighbors import KNeighborsRegressor\n",
        "\n",
        "knn = Pipeline([\n",
        "                ('preprocess', preprocessing),\n",
        "                ('knn', KNeighborsRegressor(n_neighbors=1))\n",
        "])"
      ],
      "metadata": {
        "id": "q90veasnBAGS"
      },
      "execution_count": 17,
      "outputs": []
    },
    {
      "cell_type": "code",
      "source": [
        "from sklearn import set_config\n",
        "\n",
        "set_config(display='diagram')\n",
        "\n",
        "knn.fit(X_train, y_train)"
      ],
      "metadata": {
        "id": "adLj3uqmBT1X",
        "outputId": "76653539-65e6-496c-fe1c-5d142084af8f",
        "colab": {
          "base_uri": "https://localhost:8080/",
          "height": 188
        }
      },
      "execution_count": 18,
      "outputs": [
        {
          "output_type": "execute_result",
          "data": {
            "text/html": [
              "<style>#sk-477a23d7-f76d-44c4-a7c3-2bc441c3713b {color: black;background-color: white;}#sk-477a23d7-f76d-44c4-a7c3-2bc441c3713b pre{padding: 0;}#sk-477a23d7-f76d-44c4-a7c3-2bc441c3713b div.sk-toggleable {background-color: white;}#sk-477a23d7-f76d-44c4-a7c3-2bc441c3713b label.sk-toggleable__label {cursor: pointer;display: block;width: 100%;margin-bottom: 0;padding: 0.3em;box-sizing: border-box;text-align: center;}#sk-477a23d7-f76d-44c4-a7c3-2bc441c3713b label.sk-toggleable__label-arrow:before {content: \"▸\";float: left;margin-right: 0.25em;color: #696969;}#sk-477a23d7-f76d-44c4-a7c3-2bc441c3713b label.sk-toggleable__label-arrow:hover:before {color: black;}#sk-477a23d7-f76d-44c4-a7c3-2bc441c3713b div.sk-estimator:hover label.sk-toggleable__label-arrow:before {color: black;}#sk-477a23d7-f76d-44c4-a7c3-2bc441c3713b div.sk-toggleable__content {max-height: 0;max-width: 0;overflow: hidden;text-align: left;background-color: #f0f8ff;}#sk-477a23d7-f76d-44c4-a7c3-2bc441c3713b div.sk-toggleable__content pre {margin: 0.2em;color: black;border-radius: 0.25em;background-color: #f0f8ff;}#sk-477a23d7-f76d-44c4-a7c3-2bc441c3713b input.sk-toggleable__control:checked~div.sk-toggleable__content {max-height: 200px;max-width: 100%;overflow: auto;}#sk-477a23d7-f76d-44c4-a7c3-2bc441c3713b input.sk-toggleable__control:checked~label.sk-toggleable__label-arrow:before {content: \"▾\";}#sk-477a23d7-f76d-44c4-a7c3-2bc441c3713b div.sk-estimator input.sk-toggleable__control:checked~label.sk-toggleable__label {background-color: #d4ebff;}#sk-477a23d7-f76d-44c4-a7c3-2bc441c3713b div.sk-label input.sk-toggleable__control:checked~label.sk-toggleable__label {background-color: #d4ebff;}#sk-477a23d7-f76d-44c4-a7c3-2bc441c3713b input.sk-hidden--visually {border: 0;clip: rect(1px 1px 1px 1px);clip: rect(1px, 1px, 1px, 1px);height: 1px;margin: -1px;overflow: hidden;padding: 0;position: absolute;width: 1px;}#sk-477a23d7-f76d-44c4-a7c3-2bc441c3713b div.sk-estimator {font-family: monospace;background-color: #f0f8ff;border: 1px dotted black;border-radius: 0.25em;box-sizing: border-box;margin-bottom: 0.5em;}#sk-477a23d7-f76d-44c4-a7c3-2bc441c3713b div.sk-estimator:hover {background-color: #d4ebff;}#sk-477a23d7-f76d-44c4-a7c3-2bc441c3713b div.sk-parallel-item::after {content: \"\";width: 100%;border-bottom: 1px solid gray;flex-grow: 1;}#sk-477a23d7-f76d-44c4-a7c3-2bc441c3713b div.sk-label:hover label.sk-toggleable__label {background-color: #d4ebff;}#sk-477a23d7-f76d-44c4-a7c3-2bc441c3713b div.sk-serial::before {content: \"\";position: absolute;border-left: 1px solid gray;box-sizing: border-box;top: 2em;bottom: 0;left: 50%;}#sk-477a23d7-f76d-44c4-a7c3-2bc441c3713b div.sk-serial {display: flex;flex-direction: column;align-items: center;background-color: white;padding-right: 0.2em;padding-left: 0.2em;}#sk-477a23d7-f76d-44c4-a7c3-2bc441c3713b div.sk-item {z-index: 1;}#sk-477a23d7-f76d-44c4-a7c3-2bc441c3713b div.sk-parallel {display: flex;align-items: stretch;justify-content: center;background-color: white;}#sk-477a23d7-f76d-44c4-a7c3-2bc441c3713b div.sk-parallel::before {content: \"\";position: absolute;border-left: 1px solid gray;box-sizing: border-box;top: 2em;bottom: 0;left: 50%;}#sk-477a23d7-f76d-44c4-a7c3-2bc441c3713b div.sk-parallel-item {display: flex;flex-direction: column;position: relative;background-color: white;}#sk-477a23d7-f76d-44c4-a7c3-2bc441c3713b div.sk-parallel-item:first-child::after {align-self: flex-end;width: 50%;}#sk-477a23d7-f76d-44c4-a7c3-2bc441c3713b div.sk-parallel-item:last-child::after {align-self: flex-start;width: 50%;}#sk-477a23d7-f76d-44c4-a7c3-2bc441c3713b div.sk-parallel-item:only-child::after {width: 0;}#sk-477a23d7-f76d-44c4-a7c3-2bc441c3713b div.sk-dashed-wrapped {border: 1px dashed gray;margin: 0 0.4em 0.5em 0.4em;box-sizing: border-box;padding-bottom: 0.4em;background-color: white;position: relative;}#sk-477a23d7-f76d-44c4-a7c3-2bc441c3713b div.sk-label label {font-family: monospace;font-weight: bold;background-color: white;display: inline-block;line-height: 1.2em;}#sk-477a23d7-f76d-44c4-a7c3-2bc441c3713b div.sk-label-container {position: relative;z-index: 2;text-align: center;}#sk-477a23d7-f76d-44c4-a7c3-2bc441c3713b div.sk-container {/* jupyter's `normalize.less` sets `[hidden] { display: none; }` but bootstrap.min.css set `[hidden] { display: none !important; }` so we also need the `!important` here to be able to override the default hidden behavior on the sphinx rendered scikit-learn.org. See: https://github.com/scikit-learn/scikit-learn/issues/21755 */display: inline-block !important;position: relative;}#sk-477a23d7-f76d-44c4-a7c3-2bc441c3713b div.sk-text-repr-fallback {display: none;}</style><div id=\"sk-477a23d7-f76d-44c4-a7c3-2bc441c3713b\" class=\"sk-top-container\"><div class=\"sk-text-repr-fallback\"><pre>Pipeline(steps=[(&#x27;preprocess&#x27;,\n",
              "                 ColumnTransformer(transformers=[(&#x27;cat&#x27;,\n",
              "                                                  Pipeline(steps=[(&#x27;onehot&#x27;,\n",
              "                                                                   OneHotEncoder())]),\n",
              "                                                  [&#x27;class&#x27;]),\n",
              "                                                 (&#x27;num&#x27;,\n",
              "                                                  Pipeline(steps=[(&#x27;scaler&#x27;,\n",
              "                                                                   StandardScaler())]),\n",
              "                                                  [&#x27;sepal length (cm)&#x27;,\n",
              "                                                   &#x27;petal length (cm)&#x27;,\n",
              "                                                   &#x27;petal width (cm)&#x27;])])),\n",
              "                (&#x27;knn&#x27;, KNeighborsRegressor(n_neighbors=1))])</pre><b>Please rerun this cell to show the HTML repr or trust the notebook.</b></div><div class=\"sk-container\" hidden><div class=\"sk-item sk-dashed-wrapped\"><div class=\"sk-label-container\"><div class=\"sk-label sk-toggleable\"><input class=\"sk-toggleable__control sk-hidden--visually\" id=\"06a2eb8f-c90d-4815-8e5c-8573a0478c23\" type=\"checkbox\" ><label for=\"06a2eb8f-c90d-4815-8e5c-8573a0478c23\" class=\"sk-toggleable__label sk-toggleable__label-arrow\">Pipeline</label><div class=\"sk-toggleable__content\"><pre>Pipeline(steps=[(&#x27;preprocess&#x27;,\n",
              "                 ColumnTransformer(transformers=[(&#x27;cat&#x27;,\n",
              "                                                  Pipeline(steps=[(&#x27;onehot&#x27;,\n",
              "                                                                   OneHotEncoder())]),\n",
              "                                                  [&#x27;class&#x27;]),\n",
              "                                                 (&#x27;num&#x27;,\n",
              "                                                  Pipeline(steps=[(&#x27;scaler&#x27;,\n",
              "                                                                   StandardScaler())]),\n",
              "                                                  [&#x27;sepal length (cm)&#x27;,\n",
              "                                                   &#x27;petal length (cm)&#x27;,\n",
              "                                                   &#x27;petal width (cm)&#x27;])])),\n",
              "                (&#x27;knn&#x27;, KNeighborsRegressor(n_neighbors=1))])</pre></div></div></div><div class=\"sk-serial\"><div class=\"sk-item sk-dashed-wrapped\"><div class=\"sk-label-container\"><div class=\"sk-label sk-toggleable\"><input class=\"sk-toggleable__control sk-hidden--visually\" id=\"4a37c221-6d91-4786-8e8b-aa5490e2def3\" type=\"checkbox\" ><label for=\"4a37c221-6d91-4786-8e8b-aa5490e2def3\" class=\"sk-toggleable__label sk-toggleable__label-arrow\">preprocess: ColumnTransformer</label><div class=\"sk-toggleable__content\"><pre>ColumnTransformer(transformers=[(&#x27;cat&#x27;,\n",
              "                                 Pipeline(steps=[(&#x27;onehot&#x27;, OneHotEncoder())]),\n",
              "                                 [&#x27;class&#x27;]),\n",
              "                                (&#x27;num&#x27;,\n",
              "                                 Pipeline(steps=[(&#x27;scaler&#x27;, StandardScaler())]),\n",
              "                                 [&#x27;sepal length (cm)&#x27;, &#x27;petal length (cm)&#x27;,\n",
              "                                  &#x27;petal width (cm)&#x27;])])</pre></div></div></div><div class=\"sk-parallel\"><div class=\"sk-parallel-item\"><div class=\"sk-item\"><div class=\"sk-label-container\"><div class=\"sk-label sk-toggleable\"><input class=\"sk-toggleable__control sk-hidden--visually\" id=\"73cd3541-b617-4dec-b6b1-2d04faea0c02\" type=\"checkbox\" ><label for=\"73cd3541-b617-4dec-b6b1-2d04faea0c02\" class=\"sk-toggleable__label sk-toggleable__label-arrow\">cat</label><div class=\"sk-toggleable__content\"><pre>[&#x27;class&#x27;]</pre></div></div></div><div class=\"sk-serial\"><div class=\"sk-item\"><div class=\"sk-serial\"><div class=\"sk-item\"><div class=\"sk-estimator sk-toggleable\"><input class=\"sk-toggleable__control sk-hidden--visually\" id=\"e6a53ee9-d5fa-411e-939a-419753406dde\" type=\"checkbox\" ><label for=\"e6a53ee9-d5fa-411e-939a-419753406dde\" class=\"sk-toggleable__label sk-toggleable__label-arrow\">OneHotEncoder</label><div class=\"sk-toggleable__content\"><pre>OneHotEncoder()</pre></div></div></div></div></div></div></div></div><div class=\"sk-parallel-item\"><div class=\"sk-item\"><div class=\"sk-label-container\"><div class=\"sk-label sk-toggleable\"><input class=\"sk-toggleable__control sk-hidden--visually\" id=\"aac85d55-32f3-4655-bf4a-0d190e782fc1\" type=\"checkbox\" ><label for=\"aac85d55-32f3-4655-bf4a-0d190e782fc1\" class=\"sk-toggleable__label sk-toggleable__label-arrow\">num</label><div class=\"sk-toggleable__content\"><pre>[&#x27;sepal length (cm)&#x27;, &#x27;petal length (cm)&#x27;, &#x27;petal width (cm)&#x27;]</pre></div></div></div><div class=\"sk-serial\"><div class=\"sk-item\"><div class=\"sk-serial\"><div class=\"sk-item\"><div class=\"sk-estimator sk-toggleable\"><input class=\"sk-toggleable__control sk-hidden--visually\" id=\"cf84f5af-fede-4a98-b6f1-c92631c1fc0f\" type=\"checkbox\" ><label for=\"cf84f5af-fede-4a98-b6f1-c92631c1fc0f\" class=\"sk-toggleable__label sk-toggleable__label-arrow\">StandardScaler</label><div class=\"sk-toggleable__content\"><pre>StandardScaler()</pre></div></div></div></div></div></div></div></div></div></div><div class=\"sk-item\"><div class=\"sk-estimator sk-toggleable\"><input class=\"sk-toggleable__control sk-hidden--visually\" id=\"0ca08cc4-fcfa-4138-aa86-86b300301105\" type=\"checkbox\" ><label for=\"0ca08cc4-fcfa-4138-aa86-86b300301105\" class=\"sk-toggleable__label sk-toggleable__label-arrow\">KNeighborsRegressor</label><div class=\"sk-toggleable__content\"><pre>KNeighborsRegressor(n_neighbors=1)</pre></div></div></div></div></div></div></div>"
            ],
            "text/plain": [
              "Pipeline(steps=[('preprocess',\n",
              "                 ColumnTransformer(transformers=[('cat',\n",
              "                                                  Pipeline(steps=[('onehot',\n",
              "                                                                   OneHotEncoder())]),\n",
              "                                                  ['class']),\n",
              "                                                 ('num',\n",
              "                                                  Pipeline(steps=[('scaler',\n",
              "                                                                   StandardScaler())]),\n",
              "                                                  ['sepal length (cm)',\n",
              "                                                   'petal length (cm)',\n",
              "                                                   'petal width (cm)'])])),\n",
              "                ('knn', KNeighborsRegressor(n_neighbors=1))])"
            ]
          },
          "metadata": {},
          "execution_count": 18
        }
      ]
    },
    {
      "cell_type": "code",
      "source": [
        "from sklearn.metrics import median_absolute_error\n",
        "\n",
        "print(\"train error: %0.3f, test error: %0.3f\" %\n",
        "      (median_absolute_error(y_train, knn.predict(X_train)),\n",
        "       median_absolute_error(y_test, knn.predict(X_test))))"
      ],
      "metadata": {
        "id": "CmbjfLmABb1F",
        "outputId": "8b90dcb0-8e28-4410-b39a-5851e76bda0d",
        "colab": {
          "base_uri": "https://localhost:8080/"
        }
      },
      "execution_count": 19,
      "outputs": [
        {
          "output_type": "stream",
          "name": "stdout",
          "text": [
            "train error: 0.000, test error: 0.300\n"
          ]
        }
      ]
    },
    {
      "cell_type": "code",
      "source": [
        "def scatter_predictions(y_pred, y_true):\n",
        "    plt.figure(figsize=(6, 6))\n",
        "    plt.xlabel('prediction')\n",
        "    plt.ylabel('true target')\n",
        "    plt.scatter(y_pred, y_true, color=\"C0\")\n",
        "    plt.plot(y_true,y_true, color=\"C1\")\n",
        "    \n",
        "scatter_predictions(knn.predict(X_test), y_test)"
      ],
      "metadata": {
        "id": "_qVERwk2BsR-",
        "outputId": "8d8d6463-804e-48fb-cb42-27b2d03a187a",
        "colab": {
          "base_uri": "https://localhost:8080/",
          "height": 391
        }
      },
      "execution_count": 20,
      "outputs": [
        {
          "output_type": "display_data",
          "data": {
            "image/png": "[encoded data removed]",
            "text/plain": [
              "<Figure size 432x432 with 1 Axes>"
            ]
          },
          "metadata": {
            "needs_background": "light"
          }
        }
      ]
    },
    {
      "cell_type": "code",
      "source": [
        "from sklearn.inspection import permutation_importance\n",
        "\n",
        "def boxplot_pi(model, X_test, y_test):\n",
        "  result = permutation_importance(model, X_test, y_test, n_repeats=10,\n",
        "                                  random_state=42, n_jobs=-1)\n",
        "  sorted_idx = result.importances_mean.argsort()\n",
        "\n",
        "  fig, ax = plt.subplots(figsize=(8,6))\n",
        "  ax.boxplot(result.importances[sorted_idx].T,\n",
        "            vert=False, labels=X_test.columns[sorted_idx])\n",
        "  ax.set_title(\"Permutation Importances (test set)\")\n",
        "  fig.tight_layout()\n",
        "  plt.show()\n",
        "\n",
        "boxplot_pi(knn, X_test, y_test)"
      ],
      "metadata": {
        "id": "0eCWxLhCEMuj",
        "outputId": "22399822-52ef-4942-eb01-529e31045450",
        "colab": {
          "base_uri": "https://localhost:8080/",
          "height": 441
        }
      },
      "execution_count": 21,
      "outputs": [
        {
          "output_type": "display_data",
          "data": {
            "image/png": "[encoded data removed]",
            "text/plain": [
              "<Figure size 576x432 with 1 Axes>"
            ]
          },
          "metadata": {
            "needs_background": "light"
          }
        }
      ]
    },
    {
      "cell_type": "code",
      "metadata": {
        "id": "dzk8LAsaNRBR"
      },
      "source": [
        "from sklearn.linear_model import LinearRegression\n",
        "\n",
        "lm = Pipeline([\n",
        "    ('preprocess', preprocessing),\n",
        "    ('regressor', LinearRegression())\n",
        "])"
      ],
      "execution_count": 22,
      "outputs": []
    },
    {
      "cell_type": "code",
      "metadata": {
        "scrolled": true,
        "id": "UMRyr788NRBc",
        "colab": {
          "base_uri": "https://localhost:8080/",
          "height": 188
        },
        "outputId": "4a8ed78f-455f-4b32-b3b7-deb189eb0aed"
      },
      "source": [
        "from sklearn import set_config\n",
        "\n",
        "set_config(display='diagram')\n",
        "\n",
        "lm.fit(X_train, y_train)"
      ],
      "execution_count": 23,
      "outputs": [
        {
          "output_type": "execute_result",
          "data": {
            "text/html": [
              "<style>#sk-84b3e70f-5394-4a36-b72e-3aea1d16a591 {color: black;background-color: white;}#sk-84b3e70f-5394-4a36-b72e-3aea1d16a591 pre{padding: 0;}#sk-84b3e70f-5394-4a36-b72e-3aea1d16a591 div.sk-toggleable {background-color: white;}#sk-84b3e70f-5394-4a36-b72e-3aea1d16a591 label.sk-toggleable__label {cursor: pointer;display: block;width: 100%;margin-bottom: 0;padding: 0.3em;box-sizing: border-box;text-align: center;}#sk-84b3e70f-5394-4a36-b72e-3aea1d16a591 label.sk-toggleable__label-arrow:before {content: \"▸\";float: left;margin-right: 0.25em;color: #696969;}#sk-84b3e70f-5394-4a36-b72e-3aea1d16a591 label.sk-toggleable__label-arrow:hover:before {color: black;}#sk-84b3e70f-5394-4a36-b72e-3aea1d16a591 div.sk-estimator:hover label.sk-toggleable__label-arrow:before {color: black;}#sk-84b3e70f-5394-4a36-b72e-3aea1d16a591 div.sk-toggleable__content {max-height: 0;max-width: 0;overflow: hidden;text-align: left;background-color: #f0f8ff;}#sk-84b3e70f-5394-4a36-b72e-3aea1d16a591 div.sk-toggleable__content pre {margin: 0.2em;color: black;border-radius: 0.25em;background-color: #f0f8ff;}#sk-84b3e70f-5394-4a36-b72e-3aea1d16a591 input.sk-toggleable__control:checked~div.sk-toggleable__content {max-height: 200px;max-width: 100%;overflow: auto;}#sk-84b3e70f-5394-4a36-b72e-3aea1d16a591 input.sk-toggleable__control:checked~label.sk-toggleable__label-arrow:before {content: \"▾\";}#sk-84b3e70f-5394-4a36-b72e-3aea1d16a591 div.sk-estimator input.sk-toggleable__control:checked~label.sk-toggleable__label {background-color: #d4ebff;}#sk-84b3e70f-5394-4a36-b72e-3aea1d16a591 div.sk-label input.sk-toggleable__control:checked~label.sk-toggleable__label {background-color: #d4ebff;}#sk-84b3e70f-5394-4a36-b72e-3aea1d16a591 input.sk-hidden--visually {border: 0;clip: rect(1px 1px 1px 1px);clip: rect(1px, 1px, 1px, 1px);height: 1px;margin: -1px;overflow: hidden;padding: 0;position: absolute;width: 1px;}#sk-84b3e70f-5394-4a36-b72e-3aea1d16a591 div.sk-estimator {font-family: monospace;background-color: #f0f8ff;border: 1px dotted black;border-radius: 0.25em;box-sizing: border-box;margin-bottom: 0.5em;}#sk-84b3e70f-5394-4a36-b72e-3aea1d16a591 div.sk-estimator:hover {background-color: #d4ebff;}#sk-84b3e70f-5394-4a36-b72e-3aea1d16a591 div.sk-parallel-item::after {content: \"\";width: 100%;border-bottom: 1px solid gray;flex-grow: 1;}#sk-84b3e70f-5394-4a36-b72e-3aea1d16a591 div.sk-label:hover label.sk-toggleable__label {background-color: #d4ebff;}#sk-84b3e70f-5394-4a36-b72e-3aea1d16a591 div.sk-serial::before {content: \"\";position: absolute;border-left: 1px solid gray;box-sizing: border-box;top: 2em;bottom: 0;left: 50%;}#sk-84b3e70f-5394-4a36-b72e-3aea1d16a591 div.sk-serial {display: flex;flex-direction: column;align-items: center;background-color: white;padding-right: 0.2em;padding-left: 0.2em;}#sk-84b3e70f-5394-4a36-b72e-3aea1d16a591 div.sk-item {z-index: 1;}#sk-84b3e70f-5394-4a36-b72e-3aea1d16a591 div.sk-parallel {display: flex;align-items: stretch;justify-content: center;background-color: white;}#sk-84b3e70f-5394-4a36-b72e-3aea1d16a591 div.sk-parallel::before {content: \"\";position: absolute;border-left: 1px solid gray;box-sizing: border-box;top: 2em;bottom: 0;left: 50%;}#sk-84b3e70f-5394-4a36-b72e-3aea1d16a591 div.sk-parallel-item {display: flex;flex-direction: column;position: relative;background-color: white;}#sk-84b3e70f-5394-4a36-b72e-3aea1d16a591 div.sk-parallel-item:first-child::after {align-self: flex-end;width: 50%;}#sk-84b3e70f-5394-4a36-b72e-3aea1d16a591 div.sk-parallel-item:last-child::after {align-self: flex-start;width: 50%;}#sk-84b3e70f-5394-4a36-b72e-3aea1d16a591 div.sk-parallel-item:only-child::after {width: 0;}#sk-84b3e70f-5394-4a36-b72e-3aea1d16a591 div.sk-dashed-wrapped {border: 1px dashed gray;margin: 0 0.4em 0.5em 0.4em;box-sizing: border-box;padding-bottom: 0.4em;background-color: white;position: relative;}#sk-84b3e70f-5394-4a36-b72e-3aea1d16a591 div.sk-label label {font-family: monospace;font-weight: bold;background-color: white;display: inline-block;line-height: 1.2em;}#sk-84b3e70f-5394-4a36-b72e-3aea1d16a591 div.sk-label-container {position: relative;z-index: 2;text-align: center;}#sk-84b3e70f-5394-4a36-b72e-3aea1d16a591 div.sk-container {/* jupyter's `normalize.less` sets `[hidden] { display: none; }` but bootstrap.min.css set `[hidden] { display: none !important; }` so we also need the `!important` here to be able to override the default hidden behavior on the sphinx rendered scikit-learn.org. See: https://github.com/scikit-learn/scikit-learn/issues/21755 */display: inline-block !important;position: relative;}#sk-84b3e70f-5394-4a36-b72e-3aea1d16a591 div.sk-text-repr-fallback {display: none;}</style><div id=\"sk-84b3e70f-5394-4a36-b72e-3aea1d16a591\" class=\"sk-top-container\"><div class=\"sk-text-repr-fallback\"><pre>Pipeline(steps=[(&#x27;preprocess&#x27;,\n",
              "                 ColumnTransformer(transformers=[(&#x27;cat&#x27;,\n",
              "                                                  Pipeline(steps=[(&#x27;onehot&#x27;,\n",
              "                                                                   OneHotEncoder())]),\n",
              "                                                  [&#x27;class&#x27;]),\n",
              "                                                 (&#x27;num&#x27;,\n",
              "                                                  Pipeline(steps=[(&#x27;scaler&#x27;,\n",
              "                                                                   StandardScaler())]),\n",
              "                                                  [&#x27;sepal length (cm)&#x27;,\n",
              "                                                   &#x27;petal length (cm)&#x27;,\n",
              "                                                   &#x27;petal width (cm)&#x27;])])),\n",
              "                (&#x27;regressor&#x27;, LinearRegression())])</pre><b>Please rerun this cell to show the HTML repr or trust the notebook.</b></div><div class=\"sk-container\" hidden><div class=\"sk-item sk-dashed-wrapped\"><div class=\"sk-label-container\"><div class=\"sk-label sk-toggleable\"><input class=\"sk-toggleable__control sk-hidden--visually\" id=\"e3c89a4e-586d-4f21-a6ec-db454dd9ce1e\" type=\"checkbox\" ><label for=\"e3c89a4e-586d-4f21-a6ec-db454dd9ce1e\" class=\"sk-toggleable__label sk-toggleable__label-arrow\">Pipeline</label><div class=\"sk-toggleable__content\"><pre>Pipeline(steps=[(&#x27;preprocess&#x27;,\n",
              "                 ColumnTransformer(transformers=[(&#x27;cat&#x27;,\n",
              "                                                  Pipeline(steps=[(&#x27;onehot&#x27;,\n",
              "                                                                   OneHotEncoder())]),\n",
              "                                                  [&#x27;class&#x27;]),\n",
              "                                                 (&#x27;num&#x27;,\n",
              "                                                  Pipeline(steps=[(&#x27;scaler&#x27;,\n",
              "                                                                   StandardScaler())]),\n",
              "                                                  [&#x27;sepal length (cm)&#x27;,\n",
              "                                                   &#x27;petal length (cm)&#x27;,\n",
              "                                                   &#x27;petal width (cm)&#x27;])])),\n",
              "                (&#x27;regressor&#x27;, LinearRegression())])</pre></div></div></div><div class=\"sk-serial\"><div class=\"sk-item sk-dashed-wrapped\"><div class=\"sk-label-container\"><div class=\"sk-label sk-toggleable\"><input class=\"sk-toggleable__control sk-hidden--visually\" id=\"8b66e41c-63f6-411d-9b49-106e528619b4\" type=\"checkbox\" ><label for=\"8b66e41c-63f6-411d-9b49-106e528619b4\" class=\"sk-toggleable__label sk-toggleable__label-arrow\">preprocess: ColumnTransformer</label><div class=\"sk-toggleable__content\"><pre>ColumnTransformer(transformers=[(&#x27;cat&#x27;,\n",
              "                                 Pipeline(steps=[(&#x27;onehot&#x27;, OneHotEncoder())]),\n",
              "                                 [&#x27;class&#x27;]),\n",
              "                                (&#x27;num&#x27;,\n",
              "                                 Pipeline(steps=[(&#x27;scaler&#x27;, StandardScaler())]),\n",
              "                                 [&#x27;sepal length (cm)&#x27;, &#x27;petal length (cm)&#x27;,\n",
              "                                  &#x27;petal width (cm)&#x27;])])</pre></div></div></div><div class=\"sk-parallel\"><div class=\"sk-parallel-item\"><div class=\"sk-item\"><div class=\"sk-label-container\"><div class=\"sk-label sk-toggleable\"><input class=\"sk-toggleable__control sk-hidden--visually\" id=\"ac6d1107-cad7-4c50-9f98-eee542e572f7\" type=\"checkbox\" ><label for=\"ac6d1107-cad7-4c50-9f98-eee542e572f7\" class=\"sk-toggleable__label sk-toggleable__label-arrow\">cat</label><div class=\"sk-toggleable__content\"><pre>[&#x27;class&#x27;]</pre></div></div></div><div class=\"sk-serial\"><div class=\"sk-item\"><div class=\"sk-serial\"><div class=\"sk-item\"><div class=\"sk-estimator sk-toggleable\"><input class=\"sk-toggleable__control sk-hidden--visually\" id=\"adf1677c-e39d-4013-abbc-4384a7daa307\" type=\"checkbox\" ><label for=\"adf1677c-e39d-4013-abbc-4384a7daa307\" class=\"sk-toggleable__label sk-toggleable__label-arrow\">OneHotEncoder</label><div class=\"sk-toggleable__content\"><pre>OneHotEncoder()</pre></div></div></div></div></div></div></div></div><div class=\"sk-parallel-item\"><div class=\"sk-item\"><div class=\"sk-label-container\"><div class=\"sk-label sk-toggleable\"><input class=\"sk-toggleable__control sk-hidden--visually\" id=\"442e7e83-064f-4ec5-bb61-c3aa8f939a81\" type=\"checkbox\" ><label for=\"442e7e83-064f-4ec5-bb61-c3aa8f939a81\" class=\"sk-toggleable__label sk-toggleable__label-arrow\">num</label><div class=\"sk-toggleable__content\"><pre>[&#x27;sepal length (cm)&#x27;, &#x27;petal length (cm)&#x27;, &#x27;petal width (cm)&#x27;]</pre></div></div></div><div class=\"sk-serial\"><div class=\"sk-item\"><div class=\"sk-serial\"><div class=\"sk-item\"><div class=\"sk-estimator sk-toggleable\"><input class=\"sk-toggleable__control sk-hidden--visually\" id=\"fcea6d83-9abe-41ca-b590-008eb9ab1cf7\" type=\"checkbox\" ><label for=\"fcea6d83-9abe-41ca-b590-008eb9ab1cf7\" class=\"sk-toggleable__label sk-toggleable__label-arrow\">StandardScaler</label><div class=\"sk-toggleable__content\"><pre>StandardScaler()</pre></div></div></div></div></div></div></div></div></div></div><div class=\"sk-item\"><div class=\"sk-estimator sk-toggleable\"><input class=\"sk-toggleable__control sk-hidden--visually\" id=\"95ea8813-8a23-451a-a4b4-7475d9ab5ff7\" type=\"checkbox\" ><label for=\"95ea8813-8a23-451a-a4b4-7475d9ab5ff7\" class=\"sk-toggleable__label sk-toggleable__label-arrow\">LinearRegression</label><div class=\"sk-toggleable__content\"><pre>LinearRegression()</pre></div></div></div></div></div></div></div>"
            ],
            "text/plain": [
              "Pipeline(steps=[('preprocess',\n",
              "                 ColumnTransformer(transformers=[('cat',\n",
              "                                                  Pipeline(steps=[('onehot',\n",
              "                                                                   OneHotEncoder())]),\n",
              "                                                  ['class']),\n",
              "                                                 ('num',\n",
              "                                                  Pipeline(steps=[('scaler',\n",
              "                                                                   StandardScaler())]),\n",
              "                                                  ['sepal length (cm)',\n",
              "                                                   'petal length (cm)',\n",
              "                                                   'petal width (cm)'])])),\n",
              "                ('regressor', LinearRegression())])"
            ]
          },
          "metadata": {},
          "execution_count": 23
        }
      ]
    },
    {
      "cell_type": "code",
      "metadata": {
        "id": "o9rVdLtCNRBv",
        "colab": {
          "base_uri": "https://localhost:8080/"
        },
        "outputId": "ecc4e0b1-93bc-4649-f66d-ecd16cec7a8b"
      },
      "source": [
        "from sklearn.metrics import median_absolute_error\n",
        "\n",
        "print(\"train error: %0.3f, test error: %0.3f\" %\n",
        "      (median_absolute_error(y_train, lm.predict(X_train)),\n",
        "       median_absolute_error(y_test, lm.predict(X_test))))"
      ],
      "execution_count": 24,
      "outputs": [
        {
          "output_type": "stream",
          "name": "stdout",
          "text": [
            "train error: 0.163, test error: 0.193\n"
          ]
        }
      ]
    },
    {
      "cell_type": "code",
      "metadata": {
        "id": "53e0p0D8NRBz",
        "colab": {
          "base_uri": "https://localhost:8080/",
          "height": 391
        },
        "outputId": "fe629414-3841-4dee-c2e0-f65729581a27"
      },
      "source": [
        "scatter_predictions(lm.predict(X_test), y_test)"
      ],
      "execution_count": 25,
      "outputs": [
        {
          "output_type": "display_data",
          "data": {
            "image/png": "[encoded data removed]",
            "text/plain": [
              "<Figure size 432x432 with 1 Axes>"
            ]
          },
          "metadata": {
            "needs_background": "light"
          }
        }
      ]
    },
    {
      "cell_type": "code",
      "metadata": {
        "id": "U-WxMmdxNRB_",
        "colab": {
          "base_uri": "https://localhost:8080/"
        },
        "outputId": "f4560532-8c59-4dd8-be66-9b8cc429b2f4"
      },
      "source": [
        "print(\"The hyper-parameters for a linear model are:\")\n",
        "for param_name in LinearRegression().get_params().keys():\n",
        "    print(param_name)"
      ],
      "execution_count": 26,
      "outputs": [
        {
          "output_type": "stream",
          "name": "stdout",
          "text": [
            "The hyper-parameters for a linear model are:\n",
            "copy_X\n",
            "fit_intercept\n",
            "n_jobs\n",
            "normalize\n",
            "positive\n"
          ]
        }
      ]
    },
    {
      "cell_type": "code",
      "source": [
        "boxplot_pi(lm, X_test, y_test)"
      ],
      "metadata": {
        "colab": {
          "base_uri": "https://localhost:8080/",
          "height": 441
        },
        "id": "X8bwlzZDcu2G",
        "outputId": "aaf6dfea-614c-4898-fb71-39b83d7e0802"
      },
      "execution_count": 27,
      "outputs": [
        {
          "output_type": "display_data",
          "data": {
            "image/png": "[encoded data removed]",
            "text/plain": [
              "<Figure size 576x432 with 1 Axes>"
            ]
          },
          "metadata": {
            "needs_background": "light"
          }
        }
      ]
    },
    {
      "cell_type": "code",
      "metadata": {
        "id": "2xkjKorMNRCT"
      },
      "source": [
        "from sklearn.ensemble import RandomForestRegressor\n",
        "\n",
        "rf = Pipeline([\n",
        "    ('preprocess', preprocessing),\n",
        "    ('regressor', RandomForestRegressor(n_estimators=100, n_jobs=-1, random_state=42))\n",
        "])"
      ],
      "execution_count": 28,
      "outputs": []
    },
    {
      "cell_type": "code",
      "metadata": {
        "scrolled": false,
        "id": "pAckw-G4NRCf",
        "colab": {
          "base_uri": "https://localhost:8080/",
          "height": 188
        },
        "outputId": "c38614a3-f123-4762-c37b-e3f985e03003"
      },
      "source": [
        "rf.fit(X_train, y_train)"
      ],
      "execution_count": 29,
      "outputs": [
        {
          "output_type": "execute_result",
          "data": {
            "text/html": [
              "<style>#sk-47499658-9a7e-4243-b32d-3d4e1772e45c {color: black;background-color: white;}#sk-47499658-9a7e-4243-b32d-3d4e1772e45c pre{padding: 0;}#sk-47499658-9a7e-4243-b32d-3d4e1772e45c div.sk-toggleable {background-color: white;}#sk-47499658-9a7e-4243-b32d-3d4e1772e45c label.sk-toggleable__label {cursor: pointer;display: block;width: 100%;margin-bottom: 0;padding: 0.3em;box-sizing: border-box;text-align: center;}#sk-47499658-9a7e-4243-b32d-3d4e1772e45c label.sk-toggleable__label-arrow:before {content: \"▸\";float: left;margin-right: 0.25em;color: #696969;}#sk-47499658-9a7e-4243-b32d-3d4e1772e45c label.sk-toggleable__label-arrow:hover:before {color: black;}#sk-47499658-9a7e-4243-b32d-3d4e1772e45c div.sk-estimator:hover label.sk-toggleable__label-arrow:before {color: black;}#sk-47499658-9a7e-4243-b32d-3d4e1772e45c div.sk-toggleable__content {max-height: 0;max-width: 0;overflow: hidden;text-align: left;background-color: #f0f8ff;}#sk-47499658-9a7e-4243-b32d-3d4e1772e45c div.sk-toggleable__content pre {margin: 0.2em;color: black;border-radius: 0.25em;background-color: #f0f8ff;}#sk-47499658-9a7e-4243-b32d-3d4e1772e45c input.sk-toggleable__control:checked~div.sk-toggleable__content {max-height: 200px;max-width: 100%;overflow: auto;}#sk-47499658-9a7e-4243-b32d-3d4e1772e45c input.sk-toggleable__control:checked~label.sk-toggleable__label-arrow:before {content: \"▾\";}#sk-47499658-9a7e-4243-b32d-3d4e1772e45c div.sk-estimator input.sk-toggleable__control:checked~label.sk-toggleable__label {background-color: #d4ebff;}#sk-47499658-9a7e-4243-b32d-3d4e1772e45c div.sk-label input.sk-toggleable__control:checked~label.sk-toggleable__label {background-color: #d4ebff;}#sk-47499658-9a7e-4243-b32d-3d4e1772e45c input.sk-hidden--visually {border: 0;clip: rect(1px 1px 1px 1px);clip: rect(1px, 1px, 1px, 1px);height: 1px;margin: -1px;overflow: hidden;padding: 0;position: absolute;width: 1px;}#sk-47499658-9a7e-4243-b32d-3d4e1772e45c div.sk-estimator {font-family: monospace;background-color: #f0f8ff;border: 1px dotted black;border-radius: 0.25em;box-sizing: border-box;margin-bottom: 0.5em;}#sk-47499658-9a7e-4243-b32d-3d4e1772e45c div.sk-estimator:hover {background-color: #d4ebff;}#sk-47499658-9a7e-4243-b32d-3d4e1772e45c div.sk-parallel-item::after {content: \"\";width: 100%;border-bottom: 1px solid gray;flex-grow: 1;}#sk-47499658-9a7e-4243-b32d-3d4e1772e45c div.sk-label:hover label.sk-toggleable__label {background-color: #d4ebff;}#sk-47499658-9a7e-4243-b32d-3d4e1772e45c div.sk-serial::before {content: \"\";position: absolute;border-left: 1px solid gray;box-sizing: border-box;top: 2em;bottom: 0;left: 50%;}#sk-47499658-9a7e-4243-b32d-3d4e1772e45c div.sk-serial {display: flex;flex-direction: column;align-items: center;background-color: white;padding-right: 0.2em;padding-left: 0.2em;}#sk-47499658-9a7e-4243-b32d-3d4e1772e45c div.sk-item {z-index: 1;}#sk-47499658-9a7e-4243-b32d-3d4e1772e45c div.sk-parallel {display: flex;align-items: stretch;justify-content: center;background-color: white;}#sk-47499658-9a7e-4243-b32d-3d4e1772e45c div.sk-parallel::before {content: \"\";position: absolute;border-left: 1px solid gray;box-sizing: border-box;top: 2em;bottom: 0;left: 50%;}#sk-47499658-9a7e-4243-b32d-3d4e1772e45c div.sk-parallel-item {display: flex;flex-direction: column;position: relative;background-color: white;}#sk-47499658-9a7e-4243-b32d-3d4e1772e45c div.sk-parallel-item:first-child::after {align-self: flex-end;width: 50%;}#sk-47499658-9a7e-4243-b32d-3d4e1772e45c div.sk-parallel-item:last-child::after {align-self: flex-start;width: 50%;}#sk-47499658-9a7e-4243-b32d-3d4e1772e45c div.sk-parallel-item:only-child::after {width: 0;}#sk-47499658-9a7e-4243-b32d-3d4e1772e45c div.sk-dashed-wrapped {border: 1px dashed gray;margin: 0 0.4em 0.5em 0.4em;box-sizing: border-box;padding-bottom: 0.4em;background-color: white;position: relative;}#sk-47499658-9a7e-4243-b32d-3d4e1772e45c div.sk-label label {font-family: monospace;font-weight: bold;background-color: white;display: inline-block;line-height: 1.2em;}#sk-47499658-9a7e-4243-b32d-3d4e1772e45c div.sk-label-container {position: relative;z-index: 2;text-align: center;}#sk-47499658-9a7e-4243-b32d-3d4e1772e45c div.sk-container {/* jupyter's `normalize.less` sets `[hidden] { display: none; }` but bootstrap.min.css set `[hidden] { display: none !important; }` so we also need the `!important` here to be able to override the default hidden behavior on the sphinx rendered scikit-learn.org. See: https://github.com/scikit-learn/scikit-learn/issues/21755 */display: inline-block !important;position: relative;}#sk-47499658-9a7e-4243-b32d-3d4e1772e45c div.sk-text-repr-fallback {display: none;}</style><div id=\"sk-47499658-9a7e-4243-b32d-3d4e1772e45c\" class=\"sk-top-container\"><div class=\"sk-text-repr-fallback\"><pre>Pipeline(steps=[(&#x27;preprocess&#x27;,\n",
              "                 ColumnTransformer(transformers=[(&#x27;cat&#x27;,\n",
              "                                                  Pipeline(steps=[(&#x27;onehot&#x27;,\n",
              "                                                                   OneHotEncoder())]),\n",
              "                                                  [&#x27;class&#x27;]),\n",
              "                                                 (&#x27;num&#x27;,\n",
              "                                                  Pipeline(steps=[(&#x27;scaler&#x27;,\n",
              "                                                                   StandardScaler())]),\n",
              "                                                  [&#x27;sepal length (cm)&#x27;,\n",
              "                                                   &#x27;petal length (cm)&#x27;,\n",
              "                                                   &#x27;petal width (cm)&#x27;])])),\n",
              "                (&#x27;regressor&#x27;,\n",
              "                 RandomForestRegressor(n_jobs=-1, random_state=42))])</pre><b>Please rerun this cell to show the HTML repr or trust the notebook.</b></div><div class=\"sk-container\" hidden><div class=\"sk-item sk-dashed-wrapped\"><div class=\"sk-label-container\"><div class=\"sk-label sk-toggleable\"><input class=\"sk-toggleable__control sk-hidden--visually\" id=\"eabcecb9-053f-4ce9-8bfc-643f5d135011\" type=\"checkbox\" ><label for=\"eabcecb9-053f-4ce9-8bfc-643f5d135011\" class=\"sk-toggleable__label sk-toggleable__label-arrow\">Pipeline</label><div class=\"sk-toggleable__content\"><pre>Pipeline(steps=[(&#x27;preprocess&#x27;,\n",
              "                 ColumnTransformer(transformers=[(&#x27;cat&#x27;,\n",
              "                                                  Pipeline(steps=[(&#x27;onehot&#x27;,\n",
              "                                                                   OneHotEncoder())]),\n",
              "                                                  [&#x27;class&#x27;]),\n",
              "                                                 (&#x27;num&#x27;,\n",
              "                                                  Pipeline(steps=[(&#x27;scaler&#x27;,\n",
              "                                                                   StandardScaler())]),\n",
              "                                                  [&#x27;sepal length (cm)&#x27;,\n",
              "                                                   &#x27;petal length (cm)&#x27;,\n",
              "                                                   &#x27;petal width (cm)&#x27;])])),\n",
              "                (&#x27;regressor&#x27;,\n",
              "                 RandomForestRegressor(n_jobs=-1, random_state=42))])</pre></div></div></div><div class=\"sk-serial\"><div class=\"sk-item sk-dashed-wrapped\"><div class=\"sk-label-container\"><div class=\"sk-label sk-toggleable\"><input class=\"sk-toggleable__control sk-hidden--visually\" id=\"26137d97-026c-4a7a-b0f2-71aab63c75b2\" type=\"checkbox\" ><label for=\"26137d97-026c-4a7a-b0f2-71aab63c75b2\" class=\"sk-toggleable__label sk-toggleable__label-arrow\">preprocess: ColumnTransformer</label><div class=\"sk-toggleable__content\"><pre>ColumnTransformer(transformers=[(&#x27;cat&#x27;,\n",
              "                                 Pipeline(steps=[(&#x27;onehot&#x27;, OneHotEncoder())]),\n",
              "                                 [&#x27;class&#x27;]),\n",
              "                                (&#x27;num&#x27;,\n",
              "                                 Pipeline(steps=[(&#x27;scaler&#x27;, StandardScaler())]),\n",
              "                                 [&#x27;sepal length (cm)&#x27;, &#x27;petal length (cm)&#x27;,\n",
              "                                  &#x27;petal width (cm)&#x27;])])</pre></div></div></div><div class=\"sk-parallel\"><div class=\"sk-parallel-item\"><div class=\"sk-item\"><div class=\"sk-label-container\"><div class=\"sk-label sk-toggleable\"><input class=\"sk-toggleable__control sk-hidden--visually\" id=\"f0f6b8ce-e7a9-4567-ad34-7adca253c0ab\" type=\"checkbox\" ><label for=\"f0f6b8ce-e7a9-4567-ad34-7adca253c0ab\" class=\"sk-toggleable__label sk-toggleable__label-arrow\">cat</label><div class=\"sk-toggleable__content\"><pre>[&#x27;class&#x27;]</pre></div></div></div><div class=\"sk-serial\"><div class=\"sk-item\"><div class=\"sk-serial\"><div class=\"sk-item\"><div class=\"sk-estimator sk-toggleable\"><input class=\"sk-toggleable__control sk-hidden--visually\" id=\"cd3a5d47-38f4-4a6c-87cc-6b1a4ac0a7f0\" type=\"checkbox\" ><label for=\"cd3a5d47-38f4-4a6c-87cc-6b1a4ac0a7f0\" class=\"sk-toggleable__label sk-toggleable__label-arrow\">OneHotEncoder</label><div class=\"sk-toggleable__content\"><pre>OneHotEncoder()</pre></div></div></div></div></div></div></div></div><div class=\"sk-parallel-item\"><div class=\"sk-item\"><div class=\"sk-label-container\"><div class=\"sk-label sk-toggleable\"><input class=\"sk-toggleable__control sk-hidden--visually\" id=\"bf8e68b4-2a1b-4ca7-b48d-2b2e461b4523\" type=\"checkbox\" ><label for=\"bf8e68b4-2a1b-4ca7-b48d-2b2e461b4523\" class=\"sk-toggleable__label sk-toggleable__label-arrow\">num</label><div class=\"sk-toggleable__content\"><pre>[&#x27;sepal length (cm)&#x27;, &#x27;petal length (cm)&#x27;, &#x27;petal width (cm)&#x27;]</pre></div></div></div><div class=\"sk-serial\"><div class=\"sk-item\"><div class=\"sk-serial\"><div class=\"sk-item\"><div class=\"sk-estimator sk-toggleable\"><input class=\"sk-toggleable__control sk-hidden--visually\" id=\"34c24168-f04b-410c-87b5-a8569eaf32af\" type=\"checkbox\" ><label for=\"34c24168-f04b-410c-87b5-a8569eaf32af\" class=\"sk-toggleable__label sk-toggleable__label-arrow\">StandardScaler</label><div class=\"sk-toggleable__content\"><pre>StandardScaler()</pre></div></div></div></div></div></div></div></div></div></div><div class=\"sk-item\"><div class=\"sk-estimator sk-toggleable\"><input class=\"sk-toggleable__control sk-hidden--visually\" id=\"e2b57b13-8c23-4759-aee4-4ae2a65a3ecb\" type=\"checkbox\" ><label for=\"e2b57b13-8c23-4759-aee4-4ae2a65a3ecb\" class=\"sk-toggleable__label sk-toggleable__label-arrow\">RandomForestRegressor</label><div class=\"sk-toggleable__content\"><pre>RandomForestRegressor(n_jobs=-1, random_state=42)</pre></div></div></div></div></div></div></div>"
            ],
            "text/plain": [
              "Pipeline(steps=[('preprocess',\n",
              "                 ColumnTransformer(transformers=[('cat',\n",
              "                                                  Pipeline(steps=[('onehot',\n",
              "                                                                   OneHotEncoder())]),\n",
              "                                                  ['class']),\n",
              "                                                 ('num',\n",
              "                                                  Pipeline(steps=[('scaler',\n",
              "                                                                   StandardScaler())]),\n",
              "                                                  ['sepal length (cm)',\n",
              "                                                   'petal length (cm)',\n",
              "                                                   'petal width (cm)'])])),\n",
              "                ('regressor',\n",
              "                 RandomForestRegressor(n_jobs=-1, random_state=42))])"
            ]
          },
          "metadata": {},
          "execution_count": 29
        }
      ]
    },
    {
      "cell_type": "code",
      "metadata": {
        "id": "6onlZOMeNRCj",
        "colab": {
          "base_uri": "https://localhost:8080/"
        },
        "outputId": "79e7a28f-3610-4cc6-b1dc-9a52f7b907f0"
      },
      "source": [
        "from sklearn.metrics import median_absolute_error\n",
        "\n",
        "print(\"train error: %0.3f, test error: %0.3f\" %\n",
        "      (median_absolute_error(y_train, rf.predict(X_train)),\n",
        "       median_absolute_error(y_test, rf.predict(X_test))))"
      ],
      "execution_count": 30,
      "outputs": [
        {
          "output_type": "stream",
          "name": "stdout",
          "text": [
            "train error: 0.060, test error: 0.275\n"
          ]
        }
      ]
    },
    {
      "cell_type": "code",
      "metadata": {
        "scrolled": false,
        "id": "xLGOVM3TNRCs",
        "colab": {
          "base_uri": "https://localhost:8080/",
          "height": 391
        },
        "outputId": "b21b9c3f-6a31-48cb-cfed-e351460d66cc"
      },
      "source": [
        "scatter_predictions(rf.predict(X_test), y_test)"
      ],
      "execution_count": 31,
      "outputs": [
        {
          "output_type": "display_data",
          "data": {
            "image/png": "[encoded data removed]",
            "text/plain": [
              "<Figure size 432x432 with 1 Axes>"
            ]
          },
          "metadata": {
            "needs_background": "light"
          }
        }
      ]
    },
    {
      "cell_type": "code",
      "metadata": {
        "id": "EqZqJRZmNRC1",
        "colab": {
          "base_uri": "https://localhost:8080/"
        },
        "outputId": "4b9e6209-0d06-42a7-819c-9712e5e5ba84"
      },
      "source": [
        "print(\"The hyper-parameters for a random forest model are:\")\n",
        "for param_name in rf.get_params().keys():\n",
        "    print(param_name)"
      ],
      "execution_count": 32,
      "outputs": [
        {
          "output_type": "stream",
          "name": "stdout",
          "text": [
            "The hyper-parameters for a random forest model are:\n",
            "memory\n",
            "steps\n",
            "verbose\n",
            "preprocess\n",
            "regressor\n",
            "preprocess__n_jobs\n",
            "preprocess__remainder\n",
            "preprocess__sparse_threshold\n",
            "preprocess__transformer_weights\n",
            "preprocess__transformers\n",
            "preprocess__verbose\n",
            "preprocess__verbose_feature_names_out\n",
            "preprocess__cat\n",
            "preprocess__num\n",
            "preprocess__cat__memory\n",
            "preprocess__cat__steps\n",
            "preprocess__cat__verbose\n",
            "preprocess__cat__onehot\n",
            "preprocess__cat__onehot__categories\n",
            "preprocess__cat__onehot__drop\n",
            "preprocess__cat__onehot__dtype\n",
            "preprocess__cat__onehot__handle_unknown\n",
            "preprocess__cat__onehot__sparse\n",
            "preprocess__num__memory\n",
            "preprocess__num__steps\n",
            "preprocess__num__verbose\n",
            "preprocess__num__scaler\n",
            "preprocess__num__scaler__copy\n",
            "preprocess__num__scaler__with_mean\n",
            "preprocess__num__scaler__with_std\n",
            "regressor__bootstrap\n",
            "regressor__ccp_alpha\n",
            "regressor__criterion\n",
            "regressor__max_depth\n",
            "regressor__max_features\n",
            "regressor__max_leaf_nodes\n",
            "regressor__max_samples\n",
            "regressor__min_impurity_decrease\n",
            "regressor__min_samples_leaf\n",
            "regressor__min_samples_split\n",
            "regressor__min_weight_fraction_leaf\n",
            "regressor__n_estimators\n",
            "regressor__n_jobs\n",
            "regressor__oob_score\n",
            "regressor__random_state\n",
            "regressor__verbose\n",
            "regressor__warm_start\n"
          ]
        }
      ]
    },
    {
      "cell_type": "code",
      "metadata": {
        "id": "Xeklg8zNNRDA",
        "colab": {
          "base_uri": "https://localhost:8080/",
          "height": 189
        },
        "outputId": "0aba50b4-cece-4d78-a7f8-17152592d2c6"
      },
      "source": [
        "from sklearn.model_selection import GridSearchCV\n",
        "\n",
        "param_grid = {\n",
        "    'regressor__max_features': (2, 3, 4),\n",
        "    'regressor__max_depth': (2, 3, 5),\n",
        "    'regressor__min_samples_leaf': (1, 3, 5),\n",
        "}\n",
        "\n",
        "model_grid_search = GridSearchCV(rf, param_grid=param_grid,\n",
        "                                 n_jobs=-1, cv=3)\n",
        "model_grid_search.fit(X_train, y_train)"
      ],
      "execution_count": 33,
      "outputs": [
        {
          "output_type": "execute_result",
          "data": {
            "text/html": [
              "<style>#sk-59fd0e70-c868-4157-9e6b-e9b2a62f5baa {color: black;background-color: white;}#sk-59fd0e70-c868-4157-9e6b-e9b2a62f5baa pre{padding: 0;}#sk-59fd0e70-c868-4157-9e6b-e9b2a62f5baa div.sk-toggleable {background-color: white;}#sk-59fd0e70-c868-4157-9e6b-e9b2a62f5baa label.sk-toggleable__label {cursor: pointer;display: block;width: 100%;margin-bottom: 0;padding: 0.3em;box-sizing: border-box;text-align: center;}#sk-59fd0e70-c868-4157-9e6b-e9b2a62f5baa label.sk-toggleable__label-arrow:before {content: \"▸\";float: left;margin-right: 0.25em;color: #696969;}#sk-59fd0e70-c868-4157-9e6b-e9b2a62f5baa label.sk-toggleable__label-arrow:hover:before {color: black;}#sk-59fd0e70-c868-4157-9e6b-e9b2a62f5baa div.sk-estimator:hover label.sk-toggleable__label-arrow:before {color: black;}#sk-59fd0e70-c868-4157-9e6b-e9b2a62f5baa div.sk-toggleable__content {max-height: 0;max-width: 0;overflow: hidden;text-align: left;background-color: #f0f8ff;}#sk-59fd0e70-c868-4157-9e6b-e9b2a62f5baa div.sk-toggleable__content pre {margin: 0.2em;color: black;border-radius: 0.25em;background-color: #f0f8ff;}#sk-59fd0e70-c868-4157-9e6b-e9b2a62f5baa input.sk-toggleable__control:checked~div.sk-toggleable__content {max-height: 200px;max-width: 100%;overflow: auto;}#sk-59fd0e70-c868-4157-9e6b-e9b2a62f5baa input.sk-toggleable__control:checked~label.sk-toggleable__label-arrow:before {content: \"▾\";}#sk-59fd0e70-c868-4157-9e6b-e9b2a62f5baa div.sk-estimator input.sk-toggleable__control:checked~label.sk-toggleable__label {background-color: #d4ebff;}#sk-59fd0e70-c868-4157-9e6b-e9b2a62f5baa div.sk-label input.sk-toggleable__control:checked~label.sk-toggleable__label {background-color: #d4ebff;}#sk-59fd0e70-c868-4157-9e6b-e9b2a62f5baa input.sk-hidden--visually {border: 0;clip: rect(1px 1px 1px 1px);clip: rect(1px, 1px, 1px, 1px);height: 1px;margin: -1px;overflow: hidden;padding: 0;position: absolute;width: 1px;}#sk-59fd0e70-c868-4157-9e6b-e9b2a62f5baa div.sk-estimator {font-family: monospace;background-color: #f0f8ff;border: 1px dotted black;border-radius: 0.25em;box-sizing: border-box;margin-bottom: 0.5em;}#sk-59fd0e70-c868-4157-9e6b-e9b2a62f5baa div.sk-estimator:hover {background-color: #d4ebff;}#sk-59fd0e70-c868-4157-9e6b-e9b2a62f5baa div.sk-parallel-item::after {content: \"\";width: 100%;border-bottom: 1px solid gray;flex-grow: 1;}#sk-59fd0e70-c868-4157-9e6b-e9b2a62f5baa div.sk-label:hover label.sk-toggleable__label {background-color: #d4ebff;}#sk-59fd0e70-c868-4157-9e6b-e9b2a62f5baa div.sk-serial::before {content: \"\";position: absolute;border-left: 1px solid gray;box-sizing: border-box;top: 2em;bottom: 0;left: 50%;}#sk-59fd0e70-c868-4157-9e6b-e9b2a62f5baa div.sk-serial {display: flex;flex-direction: column;align-items: center;background-color: white;padding-right: 0.2em;padding-left: 0.2em;}#sk-59fd0e70-c868-4157-9e6b-e9b2a62f5baa div.sk-item {z-index: 1;}#sk-59fd0e70-c868-4157-9e6b-e9b2a62f5baa div.sk-parallel {display: flex;align-items: stretch;justify-content: center;background-color: white;}#sk-59fd0e70-c868-4157-9e6b-e9b2a62f5baa div.sk-parallel::before {content: \"\";position: absolute;border-left: 1px solid gray;box-sizing: border-box;top: 2em;bottom: 0;left: 50%;}#sk-59fd0e70-c868-4157-9e6b-e9b2a62f5baa div.sk-parallel-item {display: flex;flex-direction: column;position: relative;background-color: white;}#sk-59fd0e70-c868-4157-9e6b-e9b2a62f5baa div.sk-parallel-item:first-child::after {align-self: flex-end;width: 50%;}#sk-59fd0e70-c868-4157-9e6b-e9b2a62f5baa div.sk-parallel-item:last-child::after {align-self: flex-start;width: 50%;}#sk-59fd0e70-c868-4157-9e6b-e9b2a62f5baa div.sk-parallel-item:only-child::after {width: 0;}#sk-59fd0e70-c868-4157-9e6b-e9b2a62f5baa div.sk-dashed-wrapped {border: 1px dashed gray;margin: 0 0.4em 0.5em 0.4em;box-sizing: border-box;padding-bottom: 0.4em;background-color: white;position: relative;}#sk-59fd0e70-c868-4157-9e6b-e9b2a62f5baa div.sk-label label {font-family: monospace;font-weight: bold;background-color: white;display: inline-block;line-height: 1.2em;}#sk-59fd0e70-c868-4157-9e6b-e9b2a62f5baa div.sk-label-container {position: relative;z-index: 2;text-align: center;}#sk-59fd0e70-c868-4157-9e6b-e9b2a62f5baa div.sk-container {/* jupyter's `normalize.less` sets `[hidden] { display: none; }` but bootstrap.min.css set `[hidden] { display: none !important; }` so we also need the `!important` here to be able to override the default hidden behavior on the sphinx rendered scikit-learn.org. See: https://github.com/scikit-learn/scikit-learn/issues/21755 */display: inline-block !important;position: relative;}#sk-59fd0e70-c868-4157-9e6b-e9b2a62f5baa div.sk-text-repr-fallback {display: none;}</style><div id=\"sk-59fd0e70-c868-4157-9e6b-e9b2a62f5baa\" class=\"sk-top-container\"><div class=\"sk-text-repr-fallback\"><pre>GridSearchCV(cv=3,\n",
              "             estimator=Pipeline(steps=[(&#x27;preprocess&#x27;,\n",
              "                                        ColumnTransformer(transformers=[(&#x27;cat&#x27;,\n",
              "                                                                         Pipeline(steps=[(&#x27;onehot&#x27;,\n",
              "                                                                                          OneHotEncoder())]),\n",
              "                                                                         [&#x27;class&#x27;]),\n",
              "                                                                        (&#x27;num&#x27;,\n",
              "                                                                         Pipeline(steps=[(&#x27;scaler&#x27;,\n",
              "                                                                                          StandardScaler())]),\n",
              "                                                                         [&#x27;sepal &#x27;\n",
              "                                                                          &#x27;length &#x27;\n",
              "                                                                          &#x27;(cm)&#x27;,\n",
              "                                                                          &#x27;petal &#x27;\n",
              "                                                                          &#x27;length &#x27;\n",
              "                                                                          &#x27;(cm)&#x27;,\n",
              "                                                                          &#x27;petal &#x27;\n",
              "                                                                          &#x27;width &#x27;\n",
              "                                                                          &#x27;(cm)&#x27;])])),\n",
              "                                       (&#x27;regressor&#x27;,\n",
              "                                        RandomForestRegressor(n_jobs=-1,\n",
              "                                                              random_state=42))]),\n",
              "             n_jobs=-1,\n",
              "             param_grid={&#x27;regressor__max_depth&#x27;: (2, 3, 5),\n",
              "                         &#x27;regressor__max_features&#x27;: (2, 3, 4),\n",
              "                         &#x27;regressor__min_samples_leaf&#x27;: (1, 3, 5)})</pre><b>Please rerun this cell to show the HTML repr or trust the notebook.</b></div><div class=\"sk-container\" hidden><div class=\"sk-item sk-dashed-wrapped\"><div class=\"sk-label-container\"><div class=\"sk-label sk-toggleable\"><input class=\"sk-toggleable__control sk-hidden--visually\" id=\"07be8b23-15d1-4f22-ad8d-134ee04c3931\" type=\"checkbox\" ><label for=\"07be8b23-15d1-4f22-ad8d-134ee04c3931\" class=\"sk-toggleable__label sk-toggleable__label-arrow\">GridSearchCV</label><div class=\"sk-toggleable__content\"><pre>GridSearchCV(cv=3,\n",
              "             estimator=Pipeline(steps=[(&#x27;preprocess&#x27;,\n",
              "                                        ColumnTransformer(transformers=[(&#x27;cat&#x27;,\n",
              "                                                                         Pipeline(steps=[(&#x27;onehot&#x27;,\n",
              "                                                                                          OneHotEncoder())]),\n",
              "                                                                         [&#x27;class&#x27;]),\n",
              "                                                                        (&#x27;num&#x27;,\n",
              "                                                                         Pipeline(steps=[(&#x27;scaler&#x27;,\n",
              "                                                                                          StandardScaler())]),\n",
              "                                                                         [&#x27;sepal &#x27;\n",
              "                                                                          &#x27;length &#x27;\n",
              "                                                                          &#x27;(cm)&#x27;,\n",
              "                                                                          &#x27;petal &#x27;\n",
              "                                                                          &#x27;length &#x27;\n",
              "                                                                          &#x27;(cm)&#x27;,\n",
              "                                                                          &#x27;petal &#x27;\n",
              "                                                                          &#x27;width &#x27;\n",
              "                                                                          &#x27;(cm)&#x27;])])),\n",
              "                                       (&#x27;regressor&#x27;,\n",
              "                                        RandomForestRegressor(n_jobs=-1,\n",
              "                                                              random_state=42))]),\n",
              "             n_jobs=-1,\n",
              "             param_grid={&#x27;regressor__max_depth&#x27;: (2, 3, 5),\n",
              "                         &#x27;regressor__max_features&#x27;: (2, 3, 4),\n",
              "                         &#x27;regressor__min_samples_leaf&#x27;: (1, 3, 5)})</pre></div></div></div><div class=\"sk-parallel\"><div class=\"sk-parallel-item\"><div class=\"sk-item\"><div class=\"sk-serial\"><div class=\"sk-item\"><div class=\"sk-serial\"><div class=\"sk-item sk-dashed-wrapped\"><div class=\"sk-label-container\"><div class=\"sk-label sk-toggleable\"><input class=\"sk-toggleable__control sk-hidden--visually\" id=\"9e084be7-2250-4791-b0f5-29daabe7b5ab\" type=\"checkbox\" ><label for=\"9e084be7-2250-4791-b0f5-29daabe7b5ab\" class=\"sk-toggleable__label sk-toggleable__label-arrow\">preprocess: ColumnTransformer</label><div class=\"sk-toggleable__content\"><pre>ColumnTransformer(transformers=[(&#x27;cat&#x27;,\n",
              "                                 Pipeline(steps=[(&#x27;onehot&#x27;, OneHotEncoder())]),\n",
              "                                 [&#x27;class&#x27;]),\n",
              "                                (&#x27;num&#x27;,\n",
              "                                 Pipeline(steps=[(&#x27;scaler&#x27;, StandardScaler())]),\n",
              "                                 [&#x27;sepal length (cm)&#x27;, &#x27;petal length (cm)&#x27;,\n",
              "                                  &#x27;petal width (cm)&#x27;])])</pre></div></div></div><div class=\"sk-parallel\"><div class=\"sk-parallel-item\"><div class=\"sk-item\"><div class=\"sk-label-container\"><div class=\"sk-label sk-toggleable\"><input class=\"sk-toggleable__control sk-hidden--visually\" id=\"3f002c5e-9854-44a8-9aee-25d595be4916\" type=\"checkbox\" ><label for=\"3f002c5e-9854-44a8-9aee-25d595be4916\" class=\"sk-toggleable__label sk-toggleable__label-arrow\">cat</label><div class=\"sk-toggleable__content\"><pre>[&#x27;class&#x27;]</pre></div></div></div><div class=\"sk-serial\"><div class=\"sk-item\"><div class=\"sk-serial\"><div class=\"sk-item\"><div class=\"sk-estimator sk-toggleable\"><input class=\"sk-toggleable__control sk-hidden--visually\" id=\"a219669a-c52e-40e5-aee5-945bb6376e30\" type=\"checkbox\" ><label for=\"a219669a-c52e-40e5-aee5-945bb6376e30\" class=\"sk-toggleable__label sk-toggleable__label-arrow\">OneHotEncoder</label><div class=\"sk-toggleable__content\"><pre>OneHotEncoder()</pre></div></div></div></div></div></div></div></div><div class=\"sk-parallel-item\"><div class=\"sk-item\"><div class=\"sk-label-container\"><div class=\"sk-label sk-toggleable\"><input class=\"sk-toggleable__control sk-hidden--visually\" id=\"350e60fd-8df1-4bd2-a11c-d5ae11cf26bd\" type=\"checkbox\" ><label for=\"350e60fd-8df1-4bd2-a11c-d5ae11cf26bd\" class=\"sk-toggleable__label sk-toggleable__label-arrow\">num</label><div class=\"sk-toggleable__content\"><pre>[&#x27;sepal length (cm)&#x27;, &#x27;petal length (cm)&#x27;, &#x27;petal width (cm)&#x27;]</pre></div></div></div><div class=\"sk-serial\"><div class=\"sk-item\"><div class=\"sk-serial\"><div class=\"sk-item\"><div class=\"sk-estimator sk-toggleable\"><input class=\"sk-toggleable__control sk-hidden--visually\" id=\"334ea55f-3e37-4c67-8f81-cabf3a92abcc\" type=\"checkbox\" ><label for=\"334ea55f-3e37-4c67-8f81-cabf3a92abcc\" class=\"sk-toggleable__label sk-toggleable__label-arrow\">StandardScaler</label><div class=\"sk-toggleable__content\"><pre>StandardScaler()</pre></div></div></div></div></div></div></div></div></div></div><div class=\"sk-item\"><div class=\"sk-estimator sk-toggleable\"><input class=\"sk-toggleable__control sk-hidden--visually\" id=\"c8a2763a-d7aa-4fdb-9476-c3511e5cdb85\" type=\"checkbox\" ><label for=\"c8a2763a-d7aa-4fdb-9476-c3511e5cdb85\" class=\"sk-toggleable__label sk-toggleable__label-arrow\">RandomForestRegressor</label><div class=\"sk-toggleable__content\"><pre>RandomForestRegressor(n_jobs=-1, random_state=42)</pre></div></div></div></div></div></div></div></div></div></div></div></div>"
            ],
            "text/plain": [
              "GridSearchCV(cv=3,\n",
              "             estimator=Pipeline(steps=[('preprocess',\n",
              "                                        ColumnTransformer(transformers=[('cat',\n",
              "                                                                         Pipeline(steps=[('onehot',\n",
              "                                                                                          OneHotEncoder())]),\n",
              "                                                                         ['class']),\n",
              "                                                                        ('num',\n",
              "                                                                         Pipeline(steps=[('scaler',\n",
              "                                                                                          StandardScaler())]),\n",
              "                                                                         ['sepal '\n",
              "                                                                          'length '\n",
              "                                                                          '(cm)',\n",
              "                                                                          'petal '\n",
              "                                                                          'length '\n",
              "                                                                          '(cm)',\n",
              "                                                                          'petal '\n",
              "                                                                          'width '\n",
              "                                                                          '(cm)'])])),\n",
              "                                       ('regressor',\n",
              "                                        RandomForestRegressor(n_jobs=-1,\n",
              "                                                              random_state=42))]),\n",
              "             n_jobs=-1,\n",
              "             param_grid={'regressor__max_depth': (2, 3, 5),\n",
              "                         'regressor__max_features': (2, 3, 4),\n",
              "                         'regressor__min_samples_leaf': (1, 3, 5)})"
            ]
          },
          "metadata": {},
          "execution_count": 33
        }
      ]
    },
    {
      "cell_type": "code",
      "metadata": {
        "id": "T_pgWdWVNRDG",
        "colab": {
          "base_uri": "https://localhost:8080/"
        },
        "outputId": "2ebb8e20-dbb3-4277-814c-4ce861461949"
      },
      "source": [
        "print(\"train error: %0.3f, test error: %0.3f\" %\n",
        "      (median_absolute_error(y_train, model_grid_search.predict(X_train)),\n",
        "       median_absolute_error(y_test, model_grid_search.predict(X_test))))"
      ],
      "execution_count": 34,
      "outputs": [
        {
          "output_type": "stream",
          "name": "stdout",
          "text": [
            "train error: 0.120, test error: 0.201\n"
          ]
        }
      ]
    },
    {
      "cell_type": "code",
      "metadata": {
        "id": "Fmxbr-noNRDL",
        "colab": {
          "base_uri": "https://localhost:8080/"
        },
        "outputId": "39be6c97-f079-4a05-a73a-abef16b07a87"
      },
      "source": [
        "print(f\"The best set of hyperparameters is: \"\n",
        "      f\"{model_grid_search.best_params_}\")"
      ],
      "execution_count": 35,
      "outputs": [
        {
          "output_type": "stream",
          "name": "stdout",
          "text": [
            "The best set of hyperparameters is: {'regressor__max_depth': 5, 'regressor__max_features': 3, 'regressor__min_samples_leaf': 3}\n"
          ]
        }
      ]
    },
    {
      "cell_type": "code",
      "metadata": {
        "id": "28wkVwv2NRDU"
      },
      "source": [
        "rf_best = Pipeline([\n",
        "    ('preprocess', preprocessing),\n",
        "    ('regressor', RandomForestRegressor(\n",
        "        n_estimators=100, max_depth=5, max_features=3, min_samples_leaf=3, n_jobs=-1, random_state=42))\n",
        "])"
      ],
      "execution_count": 36,
      "outputs": []
    },
    {
      "cell_type": "code",
      "metadata": {
        "id": "uvSX8FmHNRDZ",
        "colab": {
          "base_uri": "https://localhost:8080/",
          "height": 188
        },
        "outputId": "95cd82b3-6c32-4443-fc01-0d8333726cb8"
      },
      "source": [
        "rf_best.fit(X_train, y_train)"
      ],
      "execution_count": 37,
      "outputs": [
        {
          "output_type": "execute_result",
          "data": {
            "text/html": [
              "<style>#sk-24371734-5bff-4bfa-93f2-e80de19537a1 {color: black;background-color: white;}#sk-24371734-5bff-4bfa-93f2-e80de19537a1 pre{padding: 0;}#sk-24371734-5bff-4bfa-93f2-e80de19537a1 div.sk-toggleable {background-color: white;}#sk-24371734-5bff-4bfa-93f2-e80de19537a1 label.sk-toggleable__label {cursor: pointer;display: block;width: 100%;margin-bottom: 0;padding: 0.3em;box-sizing: border-box;text-align: center;}#sk-24371734-5bff-4bfa-93f2-e80de19537a1 label.sk-toggleable__label-arrow:before {content: \"▸\";float: left;margin-right: 0.25em;color: #696969;}#sk-24371734-5bff-4bfa-93f2-e80de19537a1 label.sk-toggleable__label-arrow:hover:before {color: black;}#sk-24371734-5bff-4bfa-93f2-e80de19537a1 div.sk-estimator:hover label.sk-toggleable__label-arrow:before {color: black;}#sk-24371734-5bff-4bfa-93f2-e80de19537a1 div.sk-toggleable__content {max-height: 0;max-width: 0;overflow: hidden;text-align: left;background-color: #f0f8ff;}#sk-24371734-5bff-4bfa-93f2-e80de19537a1 div.sk-toggleable__content pre {margin: 0.2em;color: black;border-radius: 0.25em;background-color: #f0f8ff;}#sk-24371734-5bff-4bfa-93f2-e80de19537a1 input.sk-toggleable__control:checked~div.sk-toggleable__content {max-height: 200px;max-width: 100%;overflow: auto;}#sk-24371734-5bff-4bfa-93f2-e80de19537a1 input.sk-toggleable__control:checked~label.sk-toggleable__label-arrow:before {content: \"▾\";}#sk-24371734-5bff-4bfa-93f2-e80de19537a1 div.sk-estimator input.sk-toggleable__control:checked~label.sk-toggleable__label {background-color: #d4ebff;}#sk-24371734-5bff-4bfa-93f2-e80de19537a1 div.sk-label input.sk-toggleable__control:checked~label.sk-toggleable__label {background-color: #d4ebff;}#sk-24371734-5bff-4bfa-93f2-e80de19537a1 input.sk-hidden--visually {border: 0;clip: rect(1px 1px 1px 1px);clip: rect(1px, 1px, 1px, 1px);height: 1px;margin: -1px;overflow: hidden;padding: 0;position: absolute;width: 1px;}#sk-24371734-5bff-4bfa-93f2-e80de19537a1 div.sk-estimator {font-family: monospace;background-color: #f0f8ff;border: 1px dotted black;border-radius: 0.25em;box-sizing: border-box;margin-bottom: 0.5em;}#sk-24371734-5bff-4bfa-93f2-e80de19537a1 div.sk-estimator:hover {background-color: #d4ebff;}#sk-24371734-5bff-4bfa-93f2-e80de19537a1 div.sk-parallel-item::after {content: \"\";width: 100%;border-bottom: 1px solid gray;flex-grow: 1;}#sk-24371734-5bff-4bfa-93f2-e80de19537a1 div.sk-label:hover label.sk-toggleable__label {background-color: #d4ebff;}#sk-24371734-5bff-4bfa-93f2-e80de19537a1 div.sk-serial::before {content: \"\";position: absolute;border-left: 1px solid gray;box-sizing: border-box;top: 2em;bottom: 0;left: 50%;}#sk-24371734-5bff-4bfa-93f2-e80de19537a1 div.sk-serial {display: flex;flex-direction: column;align-items: center;background-color: white;padding-right: 0.2em;padding-left: 0.2em;}#sk-24371734-5bff-4bfa-93f2-e80de19537a1 div.sk-item {z-index: 1;}#sk-24371734-5bff-4bfa-93f2-e80de19537a1 div.sk-parallel {display: flex;align-items: stretch;justify-content: center;background-color: white;}#sk-24371734-5bff-4bfa-93f2-e80de19537a1 div.sk-parallel::before {content: \"\";position: absolute;border-left: 1px solid gray;box-sizing: border-box;top: 2em;bottom: 0;left: 50%;}#sk-24371734-5bff-4bfa-93f2-e80de19537a1 div.sk-parallel-item {display: flex;flex-direction: column;position: relative;background-color: white;}#sk-24371734-5bff-4bfa-93f2-e80de19537a1 div.sk-parallel-item:first-child::after {align-self: flex-end;width: 50%;}#sk-24371734-5bff-4bfa-93f2-e80de19537a1 div.sk-parallel-item:last-child::after {align-self: flex-start;width: 50%;}#sk-24371734-5bff-4bfa-93f2-e80de19537a1 div.sk-parallel-item:only-child::after {width: 0;}#sk-24371734-5bff-4bfa-93f2-e80de19537a1 div.sk-dashed-wrapped {border: 1px dashed gray;margin: 0 0.4em 0.5em 0.4em;box-sizing: border-box;padding-bottom: 0.4em;background-color: white;position: relative;}#sk-24371734-5bff-4bfa-93f2-e80de19537a1 div.sk-label label {font-family: monospace;font-weight: bold;background-color: white;display: inline-block;line-height: 1.2em;}#sk-24371734-5bff-4bfa-93f2-e80de19537a1 div.sk-label-container {position: relative;z-index: 2;text-align: center;}#sk-24371734-5bff-4bfa-93f2-e80de19537a1 div.sk-container {/* jupyter's `normalize.less` sets `[hidden] { display: none; }` but bootstrap.min.css set `[hidden] { display: none !important; }` so we also need the `!important` here to be able to override the default hidden behavior on the sphinx rendered scikit-learn.org. See: https://github.com/scikit-learn/scikit-learn/issues/21755 */display: inline-block !important;position: relative;}#sk-24371734-5bff-4bfa-93f2-e80de19537a1 div.sk-text-repr-fallback {display: none;}</style><div id=\"sk-24371734-5bff-4bfa-93f2-e80de19537a1\" class=\"sk-top-container\"><div class=\"sk-text-repr-fallback\"><pre>Pipeline(steps=[(&#x27;preprocess&#x27;,\n",
              "                 ColumnTransformer(transformers=[(&#x27;cat&#x27;,\n",
              "                                                  Pipeline(steps=[(&#x27;onehot&#x27;,\n",
              "                                                                   OneHotEncoder())]),\n",
              "                                                  [&#x27;class&#x27;]),\n",
              "                                                 (&#x27;num&#x27;,\n",
              "                                                  Pipeline(steps=[(&#x27;scaler&#x27;,\n",
              "                                                                   StandardScaler())]),\n",
              "                                                  [&#x27;sepal length (cm)&#x27;,\n",
              "                                                   &#x27;petal length (cm)&#x27;,\n",
              "                                                   &#x27;petal width (cm)&#x27;])])),\n",
              "                (&#x27;regressor&#x27;,\n",
              "                 RandomForestRegressor(max_depth=5, max_features=3,\n",
              "                                       min_samples_leaf=3, n_jobs=-1,\n",
              "                                       random_state=42))])</pre><b>Please rerun this cell to show the HTML repr or trust the notebook.</b></div><div class=\"sk-container\" hidden><div class=\"sk-item sk-dashed-wrapped\"><div class=\"sk-label-container\"><div class=\"sk-label sk-toggleable\"><input class=\"sk-toggleable__control sk-hidden--visually\" id=\"6afe8e70-feb1-44ef-a227-c2b8a20ba5bb\" type=\"checkbox\" ><label for=\"6afe8e70-feb1-44ef-a227-c2b8a20ba5bb\" class=\"sk-toggleable__label sk-toggleable__label-arrow\">Pipeline</label><div class=\"sk-toggleable__content\"><pre>Pipeline(steps=[(&#x27;preprocess&#x27;,\n",
              "                 ColumnTransformer(transformers=[(&#x27;cat&#x27;,\n",
              "                                                  Pipeline(steps=[(&#x27;onehot&#x27;,\n",
              "                                                                   OneHotEncoder())]),\n",
              "                                                  [&#x27;class&#x27;]),\n",
              "                                                 (&#x27;num&#x27;,\n",
              "                                                  Pipeline(steps=[(&#x27;scaler&#x27;,\n",
              "                                                                   StandardScaler())]),\n",
              "                                                  [&#x27;sepal length (cm)&#x27;,\n",
              "                                                   &#x27;petal length (cm)&#x27;,\n",
              "                                                   &#x27;petal width (cm)&#x27;])])),\n",
              "                (&#x27;regressor&#x27;,\n",
              "                 RandomForestRegressor(max_depth=5, max_features=3,\n",
              "                                       min_samples_leaf=3, n_jobs=-1,\n",
              "                                       random_state=42))])</pre></div></div></div><div class=\"sk-serial\"><div class=\"sk-item sk-dashed-wrapped\"><div class=\"sk-label-container\"><div class=\"sk-label sk-toggleable\"><input class=\"sk-toggleable__control sk-hidden--visually\" id=\"f9d78087-0fd6-42dc-97da-2c381a442395\" type=\"checkbox\" ><label for=\"f9d78087-0fd6-42dc-97da-2c381a442395\" class=\"sk-toggleable__label sk-toggleable__label-arrow\">preprocess: ColumnTransformer</label><div class=\"sk-toggleable__content\"><pre>ColumnTransformer(transformers=[(&#x27;cat&#x27;,\n",
              "                                 Pipeline(steps=[(&#x27;onehot&#x27;, OneHotEncoder())]),\n",
              "                                 [&#x27;class&#x27;]),\n",
              "                                (&#x27;num&#x27;,\n",
              "                                 Pipeline(steps=[(&#x27;scaler&#x27;, StandardScaler())]),\n",
              "                                 [&#x27;sepal length (cm)&#x27;, &#x27;petal length (cm)&#x27;,\n",
              "                                  &#x27;petal width (cm)&#x27;])])</pre></div></div></div><div class=\"sk-parallel\"><div class=\"sk-parallel-item\"><div class=\"sk-item\"><div class=\"sk-label-container\"><div class=\"sk-label sk-toggleable\"><input class=\"sk-toggleable__control sk-hidden--visually\" id=\"00784488-c233-4baa-bade-8922300abbe1\" type=\"checkbox\" ><label for=\"00784488-c233-4baa-bade-8922300abbe1\" class=\"sk-toggleable__label sk-toggleable__label-arrow\">cat</label><div class=\"sk-toggleable__content\"><pre>[&#x27;class&#x27;]</pre></div></div></div><div class=\"sk-serial\"><div class=\"sk-item\"><div class=\"sk-serial\"><div class=\"sk-item\"><div class=\"sk-estimator sk-toggleable\"><input class=\"sk-toggleable__control sk-hidden--visually\" id=\"69be66f9-281e-4857-af07-c98d72c6b008\" type=\"checkbox\" ><label for=\"69be66f9-281e-4857-af07-c98d72c6b008\" class=\"sk-toggleable__label sk-toggleable__label-arrow\">OneHotEncoder</label><div class=\"sk-toggleable__content\"><pre>OneHotEncoder()</pre></div></div></div></div></div></div></div></div><div class=\"sk-parallel-item\"><div class=\"sk-item\"><div class=\"sk-label-container\"><div class=\"sk-label sk-toggleable\"><input class=\"sk-toggleable__control sk-hidden--visually\" id=\"b351916e-5d2f-4859-977a-ff8236159d1c\" type=\"checkbox\" ><label for=\"b351916e-5d2f-4859-977a-ff8236159d1c\" class=\"sk-toggleable__label sk-toggleable__label-arrow\">num</label><div class=\"sk-toggleable__content\"><pre>[&#x27;sepal length (cm)&#x27;, &#x27;petal length (cm)&#x27;, &#x27;petal width (cm)&#x27;]</pre></div></div></div><div class=\"sk-serial\"><div class=\"sk-item\"><div class=\"sk-serial\"><div class=\"sk-item\"><div class=\"sk-estimator sk-toggleable\"><input class=\"sk-toggleable__control sk-hidden--visually\" id=\"4fd9216f-ee9e-4eb6-a942-f0ee7f488aa8\" type=\"checkbox\" ><label for=\"4fd9216f-ee9e-4eb6-a942-f0ee7f488aa8\" class=\"sk-toggleable__label sk-toggleable__label-arrow\">StandardScaler</label><div class=\"sk-toggleable__content\"><pre>StandardScaler()</pre></div></div></div></div></div></div></div></div></div></div><div class=\"sk-item\"><div class=\"sk-estimator sk-toggleable\"><input class=\"sk-toggleable__control sk-hidden--visually\" id=\"3524e4a7-764c-4976-b388-593f4aa73aec\" type=\"checkbox\" ><label for=\"3524e4a7-764c-4976-b388-593f4aa73aec\" class=\"sk-toggleable__label sk-toggleable__label-arrow\">RandomForestRegressor</label><div class=\"sk-toggleable__content\"><pre>RandomForestRegressor(max_depth=5, max_features=3, min_samples_leaf=3,\n",
              "                      n_jobs=-1, random_state=42)</pre></div></div></div></div></div></div></div>"
            ],
            "text/plain": [
              "Pipeline(steps=[('preprocess',\n",
              "                 ColumnTransformer(transformers=[('cat',\n",
              "                                                  Pipeline(steps=[('onehot',\n",
              "                                                                   OneHotEncoder())]),\n",
              "                                                  ['class']),\n",
              "                                                 ('num',\n",
              "                                                  Pipeline(steps=[('scaler',\n",
              "                                                                   StandardScaler())]),\n",
              "                                                  ['sepal length (cm)',\n",
              "                                                   'petal length (cm)',\n",
              "                                                   'petal width (cm)'])])),\n",
              "                ('regressor',\n",
              "                 RandomForestRegressor(max_depth=5, max_features=3,\n",
              "                                       min_samples_leaf=3, n_jobs=-1,\n",
              "                                       random_state=42))])"
            ]
          },
          "metadata": {},
          "execution_count": 37
        }
      ]
    },
    {
      "cell_type": "code",
      "metadata": {
        "id": "5Xryqy6lNRDh",
        "colab": {
          "base_uri": "https://localhost:8080/"
        },
        "outputId": "b4660a76-01cb-474b-f536-ae5e56f2b16f"
      },
      "source": [
        "print(\"train error: %0.3f, test error: %0.3f\" %\n",
        "      (median_absolute_error(y_train, rf_best.predict(X_train)),\n",
        "       median_absolute_error(y_test, rf_best.predict(X_test))))"
      ],
      "execution_count": 38,
      "outputs": [
        {
          "output_type": "stream",
          "name": "stdout",
          "text": [
            "train error: 0.120, test error: 0.201\n"
          ]
        }
      ]
    },
    {
      "cell_type": "code",
      "metadata": {
        "id": "qNNb1Y20NRDp",
        "colab": {
          "base_uri": "https://localhost:8080/",
          "height": 441
        },
        "outputId": "033dee6f-17ce-4397-bf7d-d64915ee00a0"
      },
      "source": [
        "boxplot_pi(rf_best, X_test, y_test)"
      ],
      "execution_count": 39,
      "outputs": [
        {
          "output_type": "display_data",
          "data": {
            "image/png": "[encoded data removed]",
            "text/plain": [
              "<Figure size 576x432 with 1 Axes>"
            ]
          },
          "metadata": {
            "needs_background": "light"
          }
        }
      ]
    }
  ]
}